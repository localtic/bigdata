{
  "nbformat": 4,
  "nbformat_minor": 0,
  "metadata": {
    "colab": {
      "provenance": [],
      "include_colab_link": true
    },
    "kernelspec": {
      "name": "python3",
      "display_name": "Python 3"
    },
    "language_info": {
      "name": "python"
    }
  },
  "cells": [
    {
      "cell_type": "markdown",
      "metadata": {
        "id": "view-in-github",
        "colab_type": "text"
      },
      "source": [
        "<a href=\"https://colab.research.google.com/github/localtic/bigdata/blob/main/%5Bpandas_04%5D_Accessor_%EC%97%B0%EC%8A%B5_LAB.ipynb\" target=\"_parent\"><img src=\"https://colab.research.google.com/assets/colab-badge.svg\" alt=\"Open In Colab\"/></a>"
      ]
    },
    {
      "cell_type": "markdown",
      "metadata": {
        "id": "JbOnc7BpmYd3"
      },
      "source": [
        "### 1.Accessor - str\n",
        "- str.strip('제거할 문자들') : 문자열의 앞/뒤에 불필요한 것을 제거함\n",
        "   - 제거할 문자들을 지정하지 않을 경우 whitespace를 제거함\n",
        "- str.split('구분자')\n",
        "   - 구분자를 지정하지 않을 경우 whitespace를 기준으로 분리함\n",
        "   - 각 구분된 내용은 str[0], str[1], .. 등으로 접근\n",
        "- str.join('구분자')\n",
        "   - 구분자 지정을 생략할 수 없음\n",
        "   - 분리된 문자열에 구분자를 사이에 넣어 하나의 문자열로 만듦\n",
        "- str.replace(전, 후)\n",
        "   - 문자열의 일부 내용을 변경 가능함\n",
        "   - 변경 전 내용을 찾아 변경 후 내용으로 바꿈   \n"
      ]
    },
    {
      "cell_type": "code",
      "metadata": {
        "id": "044cQzInmcXP"
      },
      "source": [
        "import pandas as pd"
      ],
      "execution_count": 1,
      "outputs": []
    },
    {
      "cell_type": "code",
      "metadata": {
        "colab": {
          "base_uri": "https://localhost:8080/"
        },
        "id": "odS0YHbumQqr",
        "outputId": "53bbc4a2-63b9-4e5d-a842-9eec9375448f"
      },
      "source": [
        "data = {'A': ['    김   수민 ', '  이  나라     ', '  황   소  라  '],\n",
        "        'B': ['  d2021-10-29.   ', '   \\n\\t\\r2021-10-30c    \\n', '2021-11-01c   '],\n",
        "        'C': ['*7', '6', '*7']}\n",
        "temp = pd.DataFrame(data)\n",
        "print(temp)"
      ],
      "execution_count": 2,
      "outputs": [
        {
          "output_type": "stream",
          "name": "stdout",
          "text": [
            "              A                           B   C\n",
            "0       김   수민              d2021-10-29.     *7\n",
            "1    이  나라          \\n\\t\\r2021-10-30c    \\n   6\n",
            "2    황   소  라                2021-11-01c     *7\n"
          ]
        }
      ]
    },
    {
      "cell_type": "code",
      "metadata": {
        "id": "V0eDNd9KmiIx",
        "outputId": "15de79e7-9302-426b-f050-d2543c2ed5ac",
        "colab": {
          "base_uri": "https://localhost:8080/",
          "height": 376
        }
      },
      "source": [
        "# [1] 'A' 컬럼의 데이터를 빈칸 없는 이름으로 만들어 temp의 'A'컬럼 뒤에 'A-01'컬럼으로 추가해 보세요.\n",
        "temp.insert(1, 'A-01', temp['A'].str.split().str.join(''))"
      ],
      "execution_count": 4,
      "outputs": [
        {
          "output_type": "error",
          "ename": "ValueError",
          "evalue": "ignored",
          "traceback": [
            "\u001b[0;31m---------------------------------------------------------------------------\u001b[0m",
            "\u001b[0;31mValueError\u001b[0m                                Traceback (most recent call last)",
            "\u001b[0;32m<ipython-input-4-0cba17c84169>\u001b[0m in \u001b[0;36m<cell line: 2>\u001b[0;34m()\u001b[0m\n\u001b[1;32m      1\u001b[0m \u001b[0;31m# [1] 'A' 컬럼의 데이터를 빈칸 없는 이름으로 만들어 temp의 'A'컬럼 뒤에 'A-01'컬럼으로 추가해 보세요.\u001b[0m\u001b[0;34m\u001b[0m\u001b[0;34m\u001b[0m\u001b[0m\n\u001b[0;32m----> 2\u001b[0;31m \u001b[0mtemp\u001b[0m\u001b[0;34m.\u001b[0m\u001b[0minsert\u001b[0m\u001b[0;34m(\u001b[0m\u001b[0;36m1\u001b[0m\u001b[0;34m,\u001b[0m \u001b[0;34m'A-01'\u001b[0m\u001b[0;34m,\u001b[0m \u001b[0mtemp\u001b[0m\u001b[0;34m[\u001b[0m\u001b[0;34m'A'\u001b[0m\u001b[0;34m]\u001b[0m\u001b[0;34m.\u001b[0m\u001b[0mstr\u001b[0m\u001b[0;34m.\u001b[0m\u001b[0msplit\u001b[0m\u001b[0;34m(\u001b[0m\u001b[0;34m)\u001b[0m\u001b[0;34m.\u001b[0m\u001b[0mstr\u001b[0m\u001b[0;34m.\u001b[0m\u001b[0mjoin\u001b[0m\u001b[0;34m(\u001b[0m\u001b[0;34m''\u001b[0m\u001b[0;34m)\u001b[0m\u001b[0;34m)\u001b[0m\u001b[0;34m\u001b[0m\u001b[0;34m\u001b[0m\u001b[0m\n\u001b[0m\u001b[1;32m      3\u001b[0m \u001b[0mprint\u001b[0m\u001b[0;34m(\u001b[0m\u001b[0mtemp\u001b[0m\u001b[0;34m)\u001b[0m\u001b[0;34m\u001b[0m\u001b[0;34m\u001b[0m\u001b[0m\n",
            "\u001b[0;32m/usr/local/lib/python3.10/dist-packages/pandas/core/frame.py\u001b[0m in \u001b[0;36minsert\u001b[0;34m(self, loc, column, value, allow_duplicates)\u001b[0m\n\u001b[1;32m   4815\u001b[0m         \u001b[0;32mif\u001b[0m \u001b[0;32mnot\u001b[0m \u001b[0mallow_duplicates\u001b[0m \u001b[0;32mand\u001b[0m \u001b[0mcolumn\u001b[0m \u001b[0;32min\u001b[0m \u001b[0mself\u001b[0m\u001b[0;34m.\u001b[0m\u001b[0mcolumns\u001b[0m\u001b[0;34m:\u001b[0m\u001b[0;34m\u001b[0m\u001b[0;34m\u001b[0m\u001b[0m\n\u001b[1;32m   4816\u001b[0m             \u001b[0;31m# Should this be a different kind of error??\u001b[0m\u001b[0;34m\u001b[0m\u001b[0;34m\u001b[0m\u001b[0m\n\u001b[0;32m-> 4817\u001b[0;31m             \u001b[0;32mraise\u001b[0m \u001b[0mValueError\u001b[0m\u001b[0;34m(\u001b[0m\u001b[0;34mf\"cannot insert {column}, already exists\"\u001b[0m\u001b[0;34m)\u001b[0m\u001b[0;34m\u001b[0m\u001b[0;34m\u001b[0m\u001b[0m\n\u001b[0m\u001b[1;32m   4818\u001b[0m         \u001b[0;32mif\u001b[0m \u001b[0;32mnot\u001b[0m \u001b[0misinstance\u001b[0m\u001b[0;34m(\u001b[0m\u001b[0mloc\u001b[0m\u001b[0;34m,\u001b[0m \u001b[0mint\u001b[0m\u001b[0;34m)\u001b[0m\u001b[0;34m:\u001b[0m\u001b[0;34m\u001b[0m\u001b[0;34m\u001b[0m\u001b[0m\n\u001b[1;32m   4819\u001b[0m             \u001b[0;32mraise\u001b[0m \u001b[0mTypeError\u001b[0m\u001b[0;34m(\u001b[0m\u001b[0;34m\"loc must be int\"\u001b[0m\u001b[0;34m)\u001b[0m\u001b[0;34m\u001b[0m\u001b[0;34m\u001b[0m\u001b[0m\n",
            "\u001b[0;31mValueError\u001b[0m: cannot insert A-01, already exists"
          ]
        }
      ]
    },
    {
      "cell_type": "code",
      "source": [
        "print(temp)"
      ],
      "metadata": {
        "id": "PzbDmtudG6nV",
        "outputId": "8884c423-0899-4eed-a29b-ff0fb7b6b2c7",
        "colab": {
          "base_uri": "https://localhost:8080/"
        }
      },
      "execution_count": 5,
      "outputs": [
        {
          "output_type": "stream",
          "name": "stdout",
          "text": [
            "              A A-01                           B   C\n",
            "0       김   수민   김수민             d2021-10-29.     *7\n",
            "1    이  나라       이나라     \\n\\t\\r2021-10-30c    \\n   6\n",
            "2    황   소  라    황소라              2021-11-01c     *7\n"
          ]
        }
      ]
    },
    {
      "cell_type": "code",
      "metadata": {
        "id": "8uVbTsOqr6sB"
      },
      "source": [
        "# [2] 'B' 컬럼의 데이티를 2021-10-29 처럼 앞/뒤에 공백이나 다른 문자('.dc')가 없도록 만들어 \n",
        "# temp에 'B-01' 컬럼으로 추가해 보세요.\n",
        "temp['B-01']= temp['B'].str.strip().str.strip('d.c')"
      ],
      "execution_count": 9,
      "outputs": []
    },
    {
      "cell_type": "code",
      "source": [
        "print(temp)"
      ],
      "metadata": {
        "id": "_l6a6s99HRt7",
        "outputId": "679888ea-28ad-4387-ef1a-561fef0912cf",
        "colab": {
          "base_uri": "https://localhost:8080/"
        }
      },
      "execution_count": 10,
      "outputs": [
        {
          "output_type": "stream",
          "name": "stdout",
          "text": [
            "              A A-01                           B   C        B-01\n",
            "0       김   수민   김수민             d2021-10-29.     *7  2021-10-29\n",
            "1    이  나라       이나라     \\n\\t\\r2021-10-30c    \\n   6  2021-10-30\n",
            "2    황   소  라    황소라              2021-11-01c     *7  2021-11-01\n"
          ]
        }
      ]
    },
    {
      "cell_type": "code",
      "metadata": {
        "id": "i2MK6YY6soem"
      },
      "source": [
        "# [3] 'B-01' 컬럼의 데이터에서 '-'를 '/'로 수정해 temp에 'B-02' 컬럼으로 추가해 보세요.\n",
        "# temp['B-01'].replace('-', '/', regex=True) # 시리즈는 regex 넣어야 함\n",
        "# temp['B-01'].str.split('-').str.join('/')\n",
        "temp['B-02'] = temp['B-01'].str.replace('-', '/')"
      ],
      "execution_count": 13,
      "outputs": []
    },
    {
      "cell_type": "code",
      "metadata": {
        "id": "ytRlgBPbuT52",
        "outputId": "1c5abec8-a484-4626-ef30-f15641435e44",
        "colab": {
          "base_uri": "https://localhost:8080/"
        }
      },
      "source": [
        "# [4] 'C' 컬럼에서 *을 제거하고 숫자로 변경해 'C-01'컬럼으로 추가해 보세요.\n",
        "temp['C-01'] = temp['C'].str.replace('*', '').astype('int')\n",
        "print(temp)"
      ],
      "execution_count": 14,
      "outputs": [
        {
          "output_type": "stream",
          "name": "stdout",
          "text": [
            "              A A-01                           B   C        B-01  C-01  \\\n",
            "0       김   수민   김수민             d2021-10-29.     *7  2021-10-29     7   \n",
            "1    이  나라       이나라     \\n\\t\\r2021-10-30c    \\n   6  2021-10-30     6   \n",
            "2    황   소  라    황소라              2021-11-01c     *7  2021-11-01     7   \n",
            "\n",
            "         B-02  \n",
            "0  2021/10/29  \n",
            "1  2021/10/30  \n",
            "2  2021/11/01  \n"
          ]
        },
        {
          "output_type": "stream",
          "name": "stderr",
          "text": [
            "<ipython-input-14-fcebd4812ca3>:2: FutureWarning: The default value of regex will change from True to False in a future version. In addition, single character regular expressions will *not* be treated as literal strings when regex=True.\n",
            "  temp['C-01'] = temp['C'].str.replace('*', '').astype('int')\n"
          ]
        }
      ]
    }
  ]
}