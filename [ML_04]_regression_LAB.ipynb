{
  "nbformat": 4,
  "nbformat_minor": 0,
  "metadata": {
    "colab": {
      "provenance": [],
      "collapsed_sections": [
        "xzQnxTtRzEOt",
        "B6XGaNVd0mPO",
        "36fJ58Dx8xD9",
        "Pz-fldKF9ECT"
      ],
      "include_colab_link": true
    },
    "kernelspec": {
      "name": "python3",
      "display_name": "Python 3"
    },
    "language_info": {
      "name": "python"
    }
  },
  "cells": [
    {
      "cell_type": "markdown",
      "metadata": {
        "id": "view-in-github",
        "colab_type": "text"
      },
      "source": [
        "<a href=\"https://colab.research.google.com/github/localtic/bigdata/blob/main/%5BML_04%5D_regression_LAB.ipynb\" target=\"_parent\"><img src=\"https://colab.research.google.com/assets/colab-badge.svg\" alt=\"Open In Colab\"/></a>"
      ]
    },
    {
      "cell_type": "markdown",
      "source": [
        "## 0.회귀 분석의 종류"
      ],
      "metadata": {
        "id": "nOeUlKKLLxRN"
      }
    },
    {
      "cell_type": "code",
      "source": [
        "# 문제에서는 분류/회귀 제시되지만 실제 상황에서 데이터로 구분할 수 있어야 함\n",
        "# 분류 분석: target(Y)가 범주형인 경우, 제시된 항목 외 다른 값 못 가짐\n",
        "# 회귀 분석: target(Y)가 연속형인 경우, 제시된 값 외에 다른 값이 나올 수 있음"
      ],
      "metadata": {
        "id": "ApTHIvWIL_81"
      },
      "execution_count": null,
      "outputs": []
    },
    {
      "cell_type": "markdown",
      "source": [
        "### Simple Linear Regression\n",
        "- 단순 선형 회귀\n",
        "- $y = \\beta_{0} + \\beta_{1} x + \\epsilon$\n",
        "- 하나의 X 값을 가지고 Y를 예측하는 것\n"
      ],
      "metadata": {
        "id": "0SmBkBDbL031"
      }
    },
    {
      "cell_type": "code",
      "source": [
        "# β0 절편 ϵ 오차"
      ],
      "metadata": {
        "id": "JVG3iw2VMgnh"
      },
      "execution_count": null,
      "outputs": []
    },
    {
      "cell_type": "markdown",
      "source": [
        "### Multiple Linear Regression\n",
        "- 다중 회귀\n",
        "- $y = \\beta_{0} + \\beta_{1} x_{1} + \\beta_{2} x_{2} + ...+ \\epsilon$\n",
        "- 여러 개의 X 값을 가지고 Y를 예측하는 것"
      ],
      "metadata": {
        "id": "R5PVzyAeL6un"
      }
    },
    {
      "cell_type": "code",
      "source": [
        "# 실제로 많이 사용"
      ],
      "metadata": {
        "id": "QrWgvf1sMkIf"
      },
      "execution_count": null,
      "outputs": []
    },
    {
      "cell_type": "markdown",
      "source": [
        "### Polynomial Regression\n",
        "- 다항 회귀\n",
        "- 비선형 데이터 집합을 모델링 할 때 사용\n",
        "- 곡선의 다항식 선을 사용함\n",
        "- 과대적합이 나타나기 쉬움\n",
        "- $y = \\beta_{0} + \\beta_{1} x_{1} + \\beta_{2} x_{2} + \\beta_{3} x_{1}^{2} + \\beta_{4} x_{2}^{2} ...+ \\epsilon$\n",
        "- X를 다항식으로 변경하여 모델링의 데이터로 사용함"
      ],
      "metadata": {
        "id": "9CZ9M41nL-5I"
      }
    },
    {
      "cell_type": "markdown",
      "source": [
        "### Ridge, Lasso Regression\n",
        "- 독립변수들 간에 높은 상관 관계가 있는 경우 규제화 (regularization)를 적용해 모델의 복잡도를 줄임\n",
        "- Ridge : 계수값을 0 에 가깝게 만들지만 0 이 되지 않음\n",
        "- Lasso : 계수값을 0 이 되게 함으로써 그에 해당하는 특성을 제외"
      ],
      "metadata": {
        "id": "zx-dq65DUIfs"
      }
    },
    {
      "cell_type": "code",
      "source": [
        "# 계수값 = 기울기\n",
        "# 계수값을 0 이 되게 함으로써 -> 독립변수 중 중요한 것만 사용 가능"
      ],
      "metadata": {
        "id": "ApX-dYo8h5dI"
      },
      "execution_count": null,
      "outputs": []
    },
    {
      "cell_type": "markdown",
      "metadata": {
        "id": "VG7KimE0VTzs"
      },
      "source": [
        "## 1.데이터 만들기"
      ]
    },
    {
      "cell_type": "markdown",
      "source": [
        "### 1-1.함수 만들기"
      ],
      "metadata": {
        "id": "B_hB6UnY-k1S"
      }
    },
    {
      "cell_type": "code",
      "source": [
        "# X : 키, 몸무게\n",
        "# Y : BMI 예측"
      ],
      "metadata": {
        "id": "j6x5Ww3j7q7h"
      },
      "execution_count": null,
      "outputs": []
    },
    {
      "cell_type": "code",
      "metadata": {
        "id": "CzNm04uTVTDP"
      },
      "source": [
        "import pandas as pd\n",
        "import numpy as np"
      ],
      "execution_count": 95,
      "outputs": []
    },
    {
      "cell_type": "code",
      "source": [
        "# https://rfriend.tistory.com/284\n",
        "# https://rfriend.tistory.com/352\n",
        "# https://namu.wiki/w/%ED%82%A4(%EC%8B%A0%EC%B2%B4)\n",
        "# https://123dok.co/document/eqodvrmz-%EC%A7%80%EC%97%AD%EC%A0%81-%EA%B1%B4%EA%B0%95%EB%B6%88%ED%8F%89%EB%93%B1%EA%B3%BC-%EA%B0%9C%EC%9D%B8-%EB%B0%8F-%EC%A7%80%EC%97%AD%EC%88%98%EC%A4%80%EC%9D%98-%EA%B1%B4%EA%B0%95%EA%B2%B0%EC%A0%95%EC%9A%94%EC%9D%B8.html"
      ],
      "metadata": {
        "id": "U2mbeD62Nwqa"
      },
      "execution_count": null,
      "outputs": []
    },
    {
      "cell_type": "code",
      "source": [
        "# bmi = 몸무게(kg) ÷ (신장(m) × 신장(m))\n",
        "# 한국 표준 데이터 생성\n",
        "# seedno : 랜덤 수 발생 관련\n",
        "# size : sample의 개수\n",
        "# startno : ID의 시작 번호\n",
        "# outlier : 이상치 비율, 0.01 => 100개 정상데이터 1개 이상치\n",
        "def make_sample(seedno, size, startno=0, outlier=0):\n",
        "    np.random.seed(seedno)\n",
        "    outlier_len = int(size * outlier)\n",
        "    sizeh = size//2\n",
        "    hm = np.random.normal(loc=175, scale=5.3, size = sizeh+1 if size % 2 else sizeh).round(1)\n",
        "    hw = np.random.normal(loc=162, scale=5.2, size = sizeh).round(1)\n",
        "    h = np.concatenate([hm, hw])\n",
        "    h /= 100 # 단위를 m로 변경\n",
        "    bmi = np.random.normal(loc=23, scale=4, size=len(h))\n",
        "    w = (h*h*bmi).round(1)\n",
        "    bmi = (w / (h * h)).round(2)\n",
        "    h *= 100 # 단위를 cm로 변경\n",
        "    data = np.column_stack([h, w, bmi])\n",
        "\n",
        "    # 이상치 데이터 추가\n",
        "    if outlier_len != 0:\n",
        "        data_outlier = make_outlier(seedno, outlier_len)\n",
        "        print(data_outlier, data_outlier.shape, sep='\\n')\n",
        "        data = np.concatenate([data, data_outlier])\n",
        "\n",
        "    # 'ID'를 포함한 DataFrame 생성 및 반환\n",
        "    data = pd.DataFrame(data, columns=['height', 'weight', 'BMI'])\n",
        "    data = data.sample(frac=1)\n",
        "    # data['ID'] = np.arange(startno, startno + len(data), dtype='int') ID가 맨뒤에 들어감\n",
        "    data.insert(0, 'ID', np.arange(startno, startno + len(data), dtype='int'))\n",
        "    return data"
      ],
      "metadata": {
        "id": "xMzzkc_YNZyJ"
      },
      "execution_count": 96,
      "outputs": []
    },
    {
      "cell_type": "code",
      "source": [
        "# bmi = #몸무게(kg) ÷ (신장(m) × 신장(m))\n",
        "# 키, 몸무게가 매우 작거나 큰 데이터 생성\n",
        "# seedno : 랜덤 수 발생 관련, 동일하면 동일한 데이터\n",
        "# size : sample의 개수\n",
        "def make_outlier(seedno, size):\n",
        "    np.random.seed(seedno)\n",
        "    sizeh = size // 2\n",
        "    hlow = np.random.normal(loc=120, scale=5.3, size=sizeh+1 if size % 2 else sizeh).round(1)\n",
        "    hhigh = np.random.normal(loc=220, scale=5.2, size=sizeh).round(1)\n",
        "    h = np.concatenate([hlow, hhigh])\n",
        "    h /= 100\n",
        "    bmi = np.random.normal(loc=23, scale=10, size=len(h))\n",
        "    w = (h*h*bmi).round(1)\n",
        "    bmi = (w / (h*h)).round(2)\n",
        "    h *= 100\n",
        "    return np.column_stack([h, w, bmi])"
      ],
      "metadata": {
        "id": "7nc4nEEulMpA"
      },
      "execution_count": 97,
      "outputs": []
    },
    {
      "cell_type": "code",
      "source": [
        "# make_sample 사용연습\n",
        "df = make_sample(1234, 100, outlier=0.05)\n",
        "df.shape\n",
        "# df.describe()"
      ],
      "metadata": {
        "id": "8SsqBLlNXFbO",
        "outputId": "537c4e49-96eb-4475-aa4a-49cd5c5005d4",
        "colab": {
          "base_uri": "https://localhost:8080/"
        }
      },
      "execution_count": 98,
      "outputs": [
        {
          "output_type": "stream",
          "name": "stdout",
          "text": [
            "[[122.5   47.8   31.85]\n",
            " [113.7   40.8   31.56]\n",
            " [127.6   27.1   16.64]\n",
            " [218.4  110.5   23.17]\n",
            " [216.3    2.7    0.58]]\n",
            "(5, 3)\n"
          ]
        },
        {
          "output_type": "execute_result",
          "data": {
            "text/plain": [
              "(105, 4)"
            ]
          },
          "metadata": {},
          "execution_count": 98
        }
      ]
    },
    {
      "cell_type": "markdown",
      "source": [
        "### 1-2.train, test 데이터"
      ],
      "metadata": {
        "id": "ButSv7wB-pdu"
      }
    },
    {
      "cell_type": "code",
      "source": [
        "# [1] train, test 데이터 생성 및 파일로 저장하기\n",
        "train = make_sample(1234, 100)\n",
        "test = make_sample(1, 100, len(train))\n",
        "Xfeatures = ['ID', 'height', 'weight']\n",
        "Yfeatures = ['ID', 'BMI']\n",
        "Xtrain = train[Xfeatures]\n",
        "Ytrain = train[Yfeatures]\n",
        "Xtest = test[Xfeatures]\n",
        "Ytest = test[Yfeatures] # 실제 시험에서는 주지 않음\n",
        "Xtrain.to_csv('x_train.csv', index=False)\n",
        "Ytrain.to_csv('y_train.csv', index=False)\n",
        "Xtest.to_csv('x_test.csv', index=False)\n",
        "Ytest.to_csv('y_test.csv', index=False) # 실제 시험에서는 주지 않음"
      ],
      "metadata": {
        "id": "E7UyUiz_awlU"
      },
      "execution_count": null,
      "outputs": []
    },
    {
      "cell_type": "code",
      "source": [
        "# [2] 각 데이터를 파일에서 읽어오기\n",
        "# X_use, X_submission, Y, Y_hidden 이름 사용\n",
        "X_use = pd.read_csv('x_train.csv')\n",
        "X_submission = pd.read_csv('x_test.csv')\n",
        "Y = pd.read_csv('y_train.csv')\n",
        "Y_hidden = pd.read_csv('y_test.csv')"
      ],
      "metadata": {
        "id": "qlhzi2locSr2"
      },
      "execution_count": null,
      "outputs": []
    },
    {
      "cell_type": "code",
      "source": [
        "# X_use, Y를 합쳐서 dfXY 생성\n",
        "# 전처리 생략\n",
        "dfXY = pd.merge(X_use, Y)\n",
        "dfXY.shape"
      ],
      "metadata": {
        "id": "1q3oe7ET_gNE",
        "outputId": "cdcef2dc-ef2e-4f3a-a6e7-37395aacf41e",
        "colab": {
          "base_uri": "https://localhost:8080/"
        }
      },
      "execution_count": null,
      "outputs": [
        {
          "output_type": "execute_result",
          "data": {
            "text/plain": [
              "(100, 4)"
            ]
          },
          "metadata": {},
          "execution_count": 9
        }
      ]
    },
    {
      "cell_type": "code",
      "source": [
        "# dfXY의 상관 관계 확인\n",
        "dfXY.corr()"
      ],
      "metadata": {
        "id": "YvEyrP4a_tXX",
        "outputId": "ad0bbf77-8ddd-49bc-b8e8-abc287062c69",
        "colab": {
          "base_uri": "https://localhost:8080/",
          "height": 175
        }
      },
      "execution_count": null,
      "outputs": [
        {
          "output_type": "execute_result",
          "data": {
            "text/plain": [
              "              ID    height    weight       BMI\n",
              "ID      1.000000  0.140693 -0.022971 -0.108252\n",
              "height  0.140693  1.000000  0.604015  0.178859\n",
              "weight -0.022971  0.604015  1.000000  0.887726\n",
              "BMI    -0.108252  0.178859  0.887726  1.000000"
            ],
            "text/html": [
              "\n",
              "  <div id=\"df-a0d0f134-ab75-45e2-b2a8-481a6d1a3d98\">\n",
              "    <div class=\"colab-df-container\">\n",
              "      <div>\n",
              "<style scoped>\n",
              "    .dataframe tbody tr th:only-of-type {\n",
              "        vertical-align: middle;\n",
              "    }\n",
              "\n",
              "    .dataframe tbody tr th {\n",
              "        vertical-align: top;\n",
              "    }\n",
              "\n",
              "    .dataframe thead th {\n",
              "        text-align: right;\n",
              "    }\n",
              "</style>\n",
              "<table border=\"1\" class=\"dataframe\">\n",
              "  <thead>\n",
              "    <tr style=\"text-align: right;\">\n",
              "      <th></th>\n",
              "      <th>ID</th>\n",
              "      <th>height</th>\n",
              "      <th>weight</th>\n",
              "      <th>BMI</th>\n",
              "    </tr>\n",
              "  </thead>\n",
              "  <tbody>\n",
              "    <tr>\n",
              "      <th>ID</th>\n",
              "      <td>1.000000</td>\n",
              "      <td>0.140693</td>\n",
              "      <td>-0.022971</td>\n",
              "      <td>-0.108252</td>\n",
              "    </tr>\n",
              "    <tr>\n",
              "      <th>height</th>\n",
              "      <td>0.140693</td>\n",
              "      <td>1.000000</td>\n",
              "      <td>0.604015</td>\n",
              "      <td>0.178859</td>\n",
              "    </tr>\n",
              "    <tr>\n",
              "      <th>weight</th>\n",
              "      <td>-0.022971</td>\n",
              "      <td>0.604015</td>\n",
              "      <td>1.000000</td>\n",
              "      <td>0.887726</td>\n",
              "    </tr>\n",
              "    <tr>\n",
              "      <th>BMI</th>\n",
              "      <td>-0.108252</td>\n",
              "      <td>0.178859</td>\n",
              "      <td>0.887726</td>\n",
              "      <td>1.000000</td>\n",
              "    </tr>\n",
              "  </tbody>\n",
              "</table>\n",
              "</div>\n",
              "      <button class=\"colab-df-convert\" onclick=\"convertToInteractive('df-a0d0f134-ab75-45e2-b2a8-481a6d1a3d98')\"\n",
              "              title=\"Convert this dataframe to an interactive table.\"\n",
              "              style=\"display:none;\">\n",
              "        \n",
              "  <svg xmlns=\"http://www.w3.org/2000/svg\" height=\"24px\"viewBox=\"0 0 24 24\"\n",
              "       width=\"24px\">\n",
              "    <path d=\"M0 0h24v24H0V0z\" fill=\"none\"/>\n",
              "    <path d=\"M18.56 5.44l.94 2.06.94-2.06 2.06-.94-2.06-.94-.94-2.06-.94 2.06-2.06.94zm-11 1L8.5 8.5l.94-2.06 2.06-.94-2.06-.94L8.5 2.5l-.94 2.06-2.06.94zm10 10l.94 2.06.94-2.06 2.06-.94-2.06-.94-.94-2.06-.94 2.06-2.06.94z\"/><path d=\"M17.41 7.96l-1.37-1.37c-.4-.4-.92-.59-1.43-.59-.52 0-1.04.2-1.43.59L10.3 9.45l-7.72 7.72c-.78.78-.78 2.05 0 2.83L4 21.41c.39.39.9.59 1.41.59.51 0 1.02-.2 1.41-.59l7.78-7.78 2.81-2.81c.8-.78.8-2.07 0-2.86zM5.41 20L4 18.59l7.72-7.72 1.47 1.35L5.41 20z\"/>\n",
              "  </svg>\n",
              "      </button>\n",
              "      \n",
              "  <style>\n",
              "    .colab-df-container {\n",
              "      display:flex;\n",
              "      flex-wrap:wrap;\n",
              "      gap: 12px;\n",
              "    }\n",
              "\n",
              "    .colab-df-convert {\n",
              "      background-color: #E8F0FE;\n",
              "      border: none;\n",
              "      border-radius: 50%;\n",
              "      cursor: pointer;\n",
              "      display: none;\n",
              "      fill: #1967D2;\n",
              "      height: 32px;\n",
              "      padding: 0 0 0 0;\n",
              "      width: 32px;\n",
              "    }\n",
              "\n",
              "    .colab-df-convert:hover {\n",
              "      background-color: #E2EBFA;\n",
              "      box-shadow: 0px 1px 2px rgba(60, 64, 67, 0.3), 0px 1px 3px 1px rgba(60, 64, 67, 0.15);\n",
              "      fill: #174EA6;\n",
              "    }\n",
              "\n",
              "    [theme=dark] .colab-df-convert {\n",
              "      background-color: #3B4455;\n",
              "      fill: #D2E3FC;\n",
              "    }\n",
              "\n",
              "    [theme=dark] .colab-df-convert:hover {\n",
              "      background-color: #434B5C;\n",
              "      box-shadow: 0px 1px 3px 1px rgba(0, 0, 0, 0.15);\n",
              "      filter: drop-shadow(0px 1px 2px rgba(0, 0, 0, 0.3));\n",
              "      fill: #FFFFFF;\n",
              "    }\n",
              "  </style>\n",
              "\n",
              "      <script>\n",
              "        const buttonEl =\n",
              "          document.querySelector('#df-a0d0f134-ab75-45e2-b2a8-481a6d1a3d98 button.colab-df-convert');\n",
              "        buttonEl.style.display =\n",
              "          google.colab.kernel.accessAllowed ? 'block' : 'none';\n",
              "\n",
              "        async function convertToInteractive(key) {\n",
              "          const element = document.querySelector('#df-a0d0f134-ab75-45e2-b2a8-481a6d1a3d98');\n",
              "          const dataTable =\n",
              "            await google.colab.kernel.invokeFunction('convertToInteractive',\n",
              "                                                     [key], {});\n",
              "          if (!dataTable) return;\n",
              "\n",
              "          const docLinkHtml = 'Like what you see? Visit the ' +\n",
              "            '<a target=\"_blank\" href=https://colab.research.google.com/notebooks/data_table.ipynb>data table notebook</a>'\n",
              "            + ' to learn more about interactive tables.';\n",
              "          element.innerHTML = '';\n",
              "          dataTable['output_type'] = 'display_data';\n",
              "          await google.colab.output.renderOutput(dataTable, element);\n",
              "          const docLink = document.createElement('div');\n",
              "          docLink.innerHTML = docLinkHtml;\n",
              "          element.appendChild(docLink);\n",
              "        }\n",
              "      </script>\n",
              "    </div>\n",
              "  </div>\n",
              "  "
            ]
          },
          "metadata": {},
          "execution_count": 10
        }
      ]
    },
    {
      "cell_type": "markdown",
      "source": [
        "## 2.모델링, 성능평가"
      ],
      "metadata": {
        "id": "tzWVPdKehwLi"
      }
    },
    {
      "cell_type": "markdown",
      "source": [
        "### 2-1.모델링 함수"
      ],
      "metadata": {
        "id": "4G-DKs8-hwLi"
      }
    },
    {
      "cell_type": "code",
      "source": [
        "from sklearn.preprocessing import MinMaxScaler\n",
        "from sklearn.model_selection import train_test_split\n",
        "from sklearn.linear_model import LinearRegression"
      ],
      "metadata": {
        "id": "jFAFndlYhwLi"
      },
      "execution_count": null,
      "outputs": []
    },
    {
      "cell_type": "code",
      "source": [
        "# [1] 데이터를 분리하고, 학습한 뒤, R2_score를 구해 출력\n",
        "def Model_Train(model, XF, YF):\n",
        "    # 7:3 분리, random_state=321  (주의: stratify사용 안함 -> 분류 모델에서만 사용)\n",
        "    # Xscaled = MinMaxScaler().fit_transform(XF)\n",
        "    xtrain, xtest, ytrain, ytest = train_test_split(XF, YF,\n",
        "                                                    test_size=0.3,\n",
        "                                                    random_state=321)\n",
        "    model.fit(xtrain, ytrain)\n",
        "    A = model.score(xtrain, ytrain)\n",
        "    B = model.score(xtest, ytest)\n",
        "    print(f'{A:.4f} {B:.4f}')\n",
        "    return model"
      ],
      "metadata": {
        "id": "BdqhZ2uLhwLj"
      },
      "execution_count": null,
      "outputs": []
    },
    {
      "cell_type": "markdown",
      "source": [
        "### 2-2. Multiple Linear Regression\n",
        "- $y = \\beta_{0} + \\beta_{1} x_{1} + \\beta_{2} x_{2} + ...+ \\epsilon$\n",
        "- 오차(잔차)가 가장 적게 발생하는 계수, 절편 찾기"
      ],
      "metadata": {
        "id": "KCYQEzcbhwLj"
      }
    },
    {
      "cell_type": "code",
      "source": [
        "# [2] outlier가 포함되지 않은 경우, LinearRegression 모델 사용\n",
        "Xnormal = X_use[['height', 'weight']]\n",
        "Ynormal = Y['BMI']\n",
        "model = LinearRegression()\n",
        "Model_Train(model, Xnormal, Ynormal)"
      ],
      "metadata": {
        "id": "jom6slz9hwLj",
        "outputId": "39cb0a44-b8c9-4127-d237-57c9ba260b00",
        "colab": {
          "base_uri": "https://localhost:8080/",
          "height": 93
        }
      },
      "execution_count": null,
      "outputs": [
        {
          "output_type": "stream",
          "name": "stdout",
          "text": [
            "0.9931 0.9625\n"
          ]
        },
        {
          "output_type": "execute_result",
          "data": {
            "text/plain": [
              "LinearRegression()"
            ],
            "text/html": [
              "<style>#sk-container-id-1 {color: black;background-color: white;}#sk-container-id-1 pre{padding: 0;}#sk-container-id-1 div.sk-toggleable {background-color: white;}#sk-container-id-1 label.sk-toggleable__label {cursor: pointer;display: block;width: 100%;margin-bottom: 0;padding: 0.3em;box-sizing: border-box;text-align: center;}#sk-container-id-1 label.sk-toggleable__label-arrow:before {content: \"▸\";float: left;margin-right: 0.25em;color: #696969;}#sk-container-id-1 label.sk-toggleable__label-arrow:hover:before {color: black;}#sk-container-id-1 div.sk-estimator:hover label.sk-toggleable__label-arrow:before {color: black;}#sk-container-id-1 div.sk-toggleable__content {max-height: 0;max-width: 0;overflow: hidden;text-align: left;background-color: #f0f8ff;}#sk-container-id-1 div.sk-toggleable__content pre {margin: 0.2em;color: black;border-radius: 0.25em;background-color: #f0f8ff;}#sk-container-id-1 input.sk-toggleable__control:checked~div.sk-toggleable__content {max-height: 200px;max-width: 100%;overflow: auto;}#sk-container-id-1 input.sk-toggleable__control:checked~label.sk-toggleable__label-arrow:before {content: \"▾\";}#sk-container-id-1 div.sk-estimator input.sk-toggleable__control:checked~label.sk-toggleable__label {background-color: #d4ebff;}#sk-container-id-1 div.sk-label input.sk-toggleable__control:checked~label.sk-toggleable__label {background-color: #d4ebff;}#sk-container-id-1 input.sk-hidden--visually {border: 0;clip: rect(1px 1px 1px 1px);clip: rect(1px, 1px, 1px, 1px);height: 1px;margin: -1px;overflow: hidden;padding: 0;position: absolute;width: 1px;}#sk-container-id-1 div.sk-estimator {font-family: monospace;background-color: #f0f8ff;border: 1px dotted black;border-radius: 0.25em;box-sizing: border-box;margin-bottom: 0.5em;}#sk-container-id-1 div.sk-estimator:hover {background-color: #d4ebff;}#sk-container-id-1 div.sk-parallel-item::after {content: \"\";width: 100%;border-bottom: 1px solid gray;flex-grow: 1;}#sk-container-id-1 div.sk-label:hover label.sk-toggleable__label {background-color: #d4ebff;}#sk-container-id-1 div.sk-serial::before {content: \"\";position: absolute;border-left: 1px solid gray;box-sizing: border-box;top: 0;bottom: 0;left: 50%;z-index: 0;}#sk-container-id-1 div.sk-serial {display: flex;flex-direction: column;align-items: center;background-color: white;padding-right: 0.2em;padding-left: 0.2em;position: relative;}#sk-container-id-1 div.sk-item {position: relative;z-index: 1;}#sk-container-id-1 div.sk-parallel {display: flex;align-items: stretch;justify-content: center;background-color: white;position: relative;}#sk-container-id-1 div.sk-item::before, #sk-container-id-1 div.sk-parallel-item::before {content: \"\";position: absolute;border-left: 1px solid gray;box-sizing: border-box;top: 0;bottom: 0;left: 50%;z-index: -1;}#sk-container-id-1 div.sk-parallel-item {display: flex;flex-direction: column;z-index: 1;position: relative;background-color: white;}#sk-container-id-1 div.sk-parallel-item:first-child::after {align-self: flex-end;width: 50%;}#sk-container-id-1 div.sk-parallel-item:last-child::after {align-self: flex-start;width: 50%;}#sk-container-id-1 div.sk-parallel-item:only-child::after {width: 0;}#sk-container-id-1 div.sk-dashed-wrapped {border: 1px dashed gray;margin: 0 0.4em 0.5em 0.4em;box-sizing: border-box;padding-bottom: 0.4em;background-color: white;}#sk-container-id-1 div.sk-label label {font-family: monospace;font-weight: bold;display: inline-block;line-height: 1.2em;}#sk-container-id-1 div.sk-label-container {text-align: center;}#sk-container-id-1 div.sk-container {/* jupyter's `normalize.less` sets `[hidden] { display: none; }` but bootstrap.min.css set `[hidden] { display: none !important; }` so we also need the `!important` here to be able to override the default hidden behavior on the sphinx rendered scikit-learn.org. See: https://github.com/scikit-learn/scikit-learn/issues/21755 */display: inline-block !important;position: relative;}#sk-container-id-1 div.sk-text-repr-fallback {display: none;}</style><div id=\"sk-container-id-1\" class=\"sk-top-container\"><div class=\"sk-text-repr-fallback\"><pre>LinearRegression()</pre><b>In a Jupyter environment, please rerun this cell to show the HTML representation or trust the notebook. <br />On GitHub, the HTML representation is unable to render, please try loading this page with nbviewer.org.</b></div><div class=\"sk-container\" hidden><div class=\"sk-item\"><div class=\"sk-estimator sk-toggleable\"><input class=\"sk-toggleable__control sk-hidden--visually\" id=\"sk-estimator-id-1\" type=\"checkbox\" checked><label for=\"sk-estimator-id-1\" class=\"sk-toggleable__label sk-toggleable__label-arrow\">LinearRegression</label><div class=\"sk-toggleable__content\"><pre>LinearRegression()</pre></div></div></div></div></div>"
            ]
          },
          "metadata": {},
          "execution_count": 13
        }
      ]
    },
    {
      "cell_type": "code",
      "source": [
        "# [3] 계수들과 절편 출력해 보기\n",
        "print(model.coef_, model.intercept_)"
      ],
      "metadata": {
        "id": "7mkPAFBXhwLj",
        "outputId": "cb005b8b-5ab9-4f18-b506-898f7796b7f1",
        "colab": {
          "base_uri": "https://localhost:8080/"
        }
      },
      "execution_count": null,
      "outputs": [
        {
          "output_type": "stream",
          "name": "stdout",
          "text": [
            "[-0.28008565  0.34383133] 47.629018625993695\n"
          ]
        }
      ]
    },
    {
      "cell_type": "markdown",
      "source": [
        "### 2-3.이상치"
      ],
      "metadata": {
        "id": "DP8zw9b_hwLj"
      }
    },
    {
      "cell_type": "code",
      "source": [
        "# [4] 이상치를 포함한 데이터 생성 (outlier=0.07 사용)\n",
        "# 이상치를 제거하는 것이 좋을 수도 있고 아닐 수도 있다\n",
        "# 이상치를 완화하려면 앙상블 사용\n",
        "Toutlier = make_sample(1234, 100, outlier=0.07)\n",
        "Xoutlier = Toutlier[['height', 'weight']]\n",
        "Youtlier = Toutlier['BMI']"
      ],
      "metadata": {
        "id": "b5puuafEhwLk",
        "outputId": "881904e1-f342-411e-d6e0-3214b613bfb9",
        "colab": {
          "base_uri": "https://localhost:8080/"
        }
      },
      "execution_count": null,
      "outputs": [
        {
          "output_type": "stream",
          "name": "stdout",
          "text": [
            "[[122.5   25.    16.66]\n",
            " [113.7   29.9   23.13]\n",
            " [127.6    0.9    0.55]\n",
            " [118.3   48.3   34.51]\n",
            " [216.3  154.    32.92]\n",
            " [224.6  164.1   32.53]\n",
            " [224.5   14.     2.78]]\n",
            "(7, 3)\n"
          ]
        }
      ]
    },
    {
      "cell_type": "code",
      "source": [
        "# [5] 이상치가 포함된 경우, LinearRegression 모델 사용\n",
        "# 이상치가 포함된 경우에는 변동폭이 크다\n",
        "model2 = LinearRegression()\n",
        "Model_Train(model2, Xoutlier, Youtlier)"
      ],
      "metadata": {
        "id": "bVjAufx_hwLk",
        "outputId": "801f8a38-7418-4066-b5d1-8851214e6250",
        "colab": {
          "base_uri": "https://localhost:8080/",
          "height": 93
        }
      },
      "execution_count": null,
      "outputs": [
        {
          "output_type": "stream",
          "name": "stdout",
          "text": [
            "0.9296 0.4557\n"
          ]
        },
        {
          "output_type": "execute_result",
          "data": {
            "text/plain": [
              "LinearRegression()"
            ],
            "text/html": [
              "<style>#sk-container-id-2 {color: black;background-color: white;}#sk-container-id-2 pre{padding: 0;}#sk-container-id-2 div.sk-toggleable {background-color: white;}#sk-container-id-2 label.sk-toggleable__label {cursor: pointer;display: block;width: 100%;margin-bottom: 0;padding: 0.3em;box-sizing: border-box;text-align: center;}#sk-container-id-2 label.sk-toggleable__label-arrow:before {content: \"▸\";float: left;margin-right: 0.25em;color: #696969;}#sk-container-id-2 label.sk-toggleable__label-arrow:hover:before {color: black;}#sk-container-id-2 div.sk-estimator:hover label.sk-toggleable__label-arrow:before {color: black;}#sk-container-id-2 div.sk-toggleable__content {max-height: 0;max-width: 0;overflow: hidden;text-align: left;background-color: #f0f8ff;}#sk-container-id-2 div.sk-toggleable__content pre {margin: 0.2em;color: black;border-radius: 0.25em;background-color: #f0f8ff;}#sk-container-id-2 input.sk-toggleable__control:checked~div.sk-toggleable__content {max-height: 200px;max-width: 100%;overflow: auto;}#sk-container-id-2 input.sk-toggleable__control:checked~label.sk-toggleable__label-arrow:before {content: \"▾\";}#sk-container-id-2 div.sk-estimator input.sk-toggleable__control:checked~label.sk-toggleable__label {background-color: #d4ebff;}#sk-container-id-2 div.sk-label input.sk-toggleable__control:checked~label.sk-toggleable__label {background-color: #d4ebff;}#sk-container-id-2 input.sk-hidden--visually {border: 0;clip: rect(1px 1px 1px 1px);clip: rect(1px, 1px, 1px, 1px);height: 1px;margin: -1px;overflow: hidden;padding: 0;position: absolute;width: 1px;}#sk-container-id-2 div.sk-estimator {font-family: monospace;background-color: #f0f8ff;border: 1px dotted black;border-radius: 0.25em;box-sizing: border-box;margin-bottom: 0.5em;}#sk-container-id-2 div.sk-estimator:hover {background-color: #d4ebff;}#sk-container-id-2 div.sk-parallel-item::after {content: \"\";width: 100%;border-bottom: 1px solid gray;flex-grow: 1;}#sk-container-id-2 div.sk-label:hover label.sk-toggleable__label {background-color: #d4ebff;}#sk-container-id-2 div.sk-serial::before {content: \"\";position: absolute;border-left: 1px solid gray;box-sizing: border-box;top: 0;bottom: 0;left: 50%;z-index: 0;}#sk-container-id-2 div.sk-serial {display: flex;flex-direction: column;align-items: center;background-color: white;padding-right: 0.2em;padding-left: 0.2em;position: relative;}#sk-container-id-2 div.sk-item {position: relative;z-index: 1;}#sk-container-id-2 div.sk-parallel {display: flex;align-items: stretch;justify-content: center;background-color: white;position: relative;}#sk-container-id-2 div.sk-item::before, #sk-container-id-2 div.sk-parallel-item::before {content: \"\";position: absolute;border-left: 1px solid gray;box-sizing: border-box;top: 0;bottom: 0;left: 50%;z-index: -1;}#sk-container-id-2 div.sk-parallel-item {display: flex;flex-direction: column;z-index: 1;position: relative;background-color: white;}#sk-container-id-2 div.sk-parallel-item:first-child::after {align-self: flex-end;width: 50%;}#sk-container-id-2 div.sk-parallel-item:last-child::after {align-self: flex-start;width: 50%;}#sk-container-id-2 div.sk-parallel-item:only-child::after {width: 0;}#sk-container-id-2 div.sk-dashed-wrapped {border: 1px dashed gray;margin: 0 0.4em 0.5em 0.4em;box-sizing: border-box;padding-bottom: 0.4em;background-color: white;}#sk-container-id-2 div.sk-label label {font-family: monospace;font-weight: bold;display: inline-block;line-height: 1.2em;}#sk-container-id-2 div.sk-label-container {text-align: center;}#sk-container-id-2 div.sk-container {/* jupyter's `normalize.less` sets `[hidden] { display: none; }` but bootstrap.min.css set `[hidden] { display: none !important; }` so we also need the `!important` here to be able to override the default hidden behavior on the sphinx rendered scikit-learn.org. See: https://github.com/scikit-learn/scikit-learn/issues/21755 */display: inline-block !important;position: relative;}#sk-container-id-2 div.sk-text-repr-fallback {display: none;}</style><div id=\"sk-container-id-2\" class=\"sk-top-container\"><div class=\"sk-text-repr-fallback\"><pre>LinearRegression()</pre><b>In a Jupyter environment, please rerun this cell to show the HTML representation or trust the notebook. <br />On GitHub, the HTML representation is unable to render, please try loading this page with nbviewer.org.</b></div><div class=\"sk-container\" hidden><div class=\"sk-item\"><div class=\"sk-estimator sk-toggleable\"><input class=\"sk-toggleable__control sk-hidden--visually\" id=\"sk-estimator-id-2\" type=\"checkbox\" checked><label for=\"sk-estimator-id-2\" class=\"sk-toggleable__label sk-toggleable__label-arrow\">LinearRegression</label><div class=\"sk-toggleable__content\"><pre>LinearRegression()</pre></div></div></div></div></div>"
            ]
          },
          "metadata": {},
          "execution_count": 16
        }
      ]
    },
    {
      "cell_type": "code",
      "source": [
        "# [6] 그래프 사용하여 이상치 확인 - Boxplot\n",
        "import matplotlib.pyplot as plt\n",
        "Xoutlier.plot(kind='box')\n",
        "plt.show()"
      ],
      "metadata": {
        "id": "IF73u314hwLk",
        "outputId": "8813fdcd-2b22-4809-8399-989ba131bfdf",
        "colab": {
          "base_uri": "https://localhost:8080/",
          "height": 430
        }
      },
      "execution_count": null,
      "outputs": [
        {
          "output_type": "display_data",
          "data": {
            "text/plain": [
              "<Figure size 640x480 with 1 Axes>"
            ],
            "image/png": "[encoded data removed]"
          },
          "metadata": {}
        }
      ]
    },
    {
      "cell_type": "code",
      "source": [
        "# [7] 각 feature별 Q1, Q3 확인\n",
        "Xoutlier.quantile([0.25, 0.75])"
      ],
      "metadata": {
        "id": "QDh5gsC5hwLk",
        "outputId": "06369abf-96d7-4318-fd70-33e3cc8d738e",
        "colab": {
          "base_uri": "https://localhost:8080/",
          "height": 112
        }
      },
      "execution_count": null,
      "outputs": [
        {
          "output_type": "execute_result",
          "data": {
            "text/plain": [
              "      height  weight\n",
              "0.25  162.00   52.75\n",
              "0.75  175.85   75.00"
            ],
            "text/html": [
              "\n",
              "  <div id=\"df-946dbd63-0a7c-4b5c-844a-6c82ac51edb2\">\n",
              "    <div class=\"colab-df-container\">\n",
              "      <div>\n",
              "<style scoped>\n",
              "    .dataframe tbody tr th:only-of-type {\n",
              "        vertical-align: middle;\n",
              "    }\n",
              "\n",
              "    .dataframe tbody tr th {\n",
              "        vertical-align: top;\n",
              "    }\n",
              "\n",
              "    .dataframe thead th {\n",
              "        text-align: right;\n",
              "    }\n",
              "</style>\n",
              "<table border=\"1\" class=\"dataframe\">\n",
              "  <thead>\n",
              "    <tr style=\"text-align: right;\">\n",
              "      <th></th>\n",
              "      <th>height</th>\n",
              "      <th>weight</th>\n",
              "    </tr>\n",
              "  </thead>\n",
              "  <tbody>\n",
              "    <tr>\n",
              "      <th>0.25</th>\n",
              "      <td>162.00</td>\n",
              "      <td>52.75</td>\n",
              "    </tr>\n",
              "    <tr>\n",
              "      <th>0.75</th>\n",
              "      <td>175.85</td>\n",
              "      <td>75.00</td>\n",
              "    </tr>\n",
              "  </tbody>\n",
              "</table>\n",
              "</div>\n",
              "      <button class=\"colab-df-convert\" onclick=\"convertToInteractive('df-946dbd63-0a7c-4b5c-844a-6c82ac51edb2')\"\n",
              "              title=\"Convert this dataframe to an interactive table.\"\n",
              "              style=\"display:none;\">\n",
              "        \n",
              "  <svg xmlns=\"http://www.w3.org/2000/svg\" height=\"24px\"viewBox=\"0 0 24 24\"\n",
              "       width=\"24px\">\n",
              "    <path d=\"M0 0h24v24H0V0z\" fill=\"none\"/>\n",
              "    <path d=\"M18.56 5.44l.94 2.06.94-2.06 2.06-.94-2.06-.94-.94-2.06-.94 2.06-2.06.94zm-11 1L8.5 8.5l.94-2.06 2.06-.94-2.06-.94L8.5 2.5l-.94 2.06-2.06.94zm10 10l.94 2.06.94-2.06 2.06-.94-2.06-.94-.94-2.06-.94 2.06-2.06.94z\"/><path d=\"M17.41 7.96l-1.37-1.37c-.4-.4-.92-.59-1.43-.59-.52 0-1.04.2-1.43.59L10.3 9.45l-7.72 7.72c-.78.78-.78 2.05 0 2.83L4 21.41c.39.39.9.59 1.41.59.51 0 1.02-.2 1.41-.59l7.78-7.78 2.81-2.81c.8-.78.8-2.07 0-2.86zM5.41 20L4 18.59l7.72-7.72 1.47 1.35L5.41 20z\"/>\n",
              "  </svg>\n",
              "      </button>\n",
              "      \n",
              "  <style>\n",
              "    .colab-df-container {\n",
              "      display:flex;\n",
              "      flex-wrap:wrap;\n",
              "      gap: 12px;\n",
              "    }\n",
              "\n",
              "    .colab-df-convert {\n",
              "      background-color: #E8F0FE;\n",
              "      border: none;\n",
              "      border-radius: 50%;\n",
              "      cursor: pointer;\n",
              "      display: none;\n",
              "      fill: #1967D2;\n",
              "      height: 32px;\n",
              "      padding: 0 0 0 0;\n",
              "      width: 32px;\n",
              "    }\n",
              "\n",
              "    .colab-df-convert:hover {\n",
              "      background-color: #E2EBFA;\n",
              "      box-shadow: 0px 1px 2px rgba(60, 64, 67, 0.3), 0px 1px 3px 1px rgba(60, 64, 67, 0.15);\n",
              "      fill: #174EA6;\n",
              "    }\n",
              "\n",
              "    [theme=dark] .colab-df-convert {\n",
              "      background-color: #3B4455;\n",
              "      fill: #D2E3FC;\n",
              "    }\n",
              "\n",
              "    [theme=dark] .colab-df-convert:hover {\n",
              "      background-color: #434B5C;\n",
              "      box-shadow: 0px 1px 3px 1px rgba(0, 0, 0, 0.15);\n",
              "      filter: drop-shadow(0px 1px 2px rgba(0, 0, 0, 0.3));\n",
              "      fill: #FFFFFF;\n",
              "    }\n",
              "  </style>\n",
              "\n",
              "      <script>\n",
              "        const buttonEl =\n",
              "          document.querySelector('#df-946dbd63-0a7c-4b5c-844a-6c82ac51edb2 button.colab-df-convert');\n",
              "        buttonEl.style.display =\n",
              "          google.colab.kernel.accessAllowed ? 'block' : 'none';\n",
              "\n",
              "        async function convertToInteractive(key) {\n",
              "          const element = document.querySelector('#df-946dbd63-0a7c-4b5c-844a-6c82ac51edb2');\n",
              "          const dataTable =\n",
              "            await google.colab.kernel.invokeFunction('convertToInteractive',\n",
              "                                                     [key], {});\n",
              "          if (!dataTable) return;\n",
              "\n",
              "          const docLinkHtml = 'Like what you see? Visit the ' +\n",
              "            '<a target=\"_blank\" href=https://colab.research.google.com/notebooks/data_table.ipynb>data table notebook</a>'\n",
              "            + ' to learn more about interactive tables.';\n",
              "          element.innerHTML = '';\n",
              "          dataTable['output_type'] = 'display_data';\n",
              "          await google.colab.output.renderOutput(dataTable, element);\n",
              "          const docLink = document.createElement('div');\n",
              "          docLink.innerHTML = docLinkHtml;\n",
              "          element.appendChild(docLink);\n",
              "        }\n",
              "      </script>\n",
              "    </div>\n",
              "  </div>\n",
              "  "
            ]
          },
          "metadata": {},
          "execution_count": 18
        }
      ]
    },
    {
      "cell_type": "code",
      "source": [
        "# [8] height에 대한 outlier 확인\n",
        "Q1, Q3 = Xoutlier['height'].quantile([0.25, 0.75])\n",
        "IQR = Q3 - Q1\n",
        "lower_h = round(Q1 - IQR*1.5, 3)\n",
        "upper_h = round(Q3 + IQR*1.5, 3)\n",
        "print(lower_h, upper_h)"
      ],
      "metadata": {
        "id": "tUPJ7BBahwLk",
        "outputId": "ede6407f-541c-480e-a839-788755173a26",
        "colab": {
          "base_uri": "https://localhost:8080/"
        }
      },
      "execution_count": null,
      "outputs": [
        {
          "output_type": "stream",
          "name": "stdout",
          "text": [
            "141.225 196.625\n"
          ]
        }
      ]
    },
    {
      "cell_type": "code",
      "source": [
        "# [9] weight에 대한 outlier 확인\n",
        "Q1, Q3 = Xoutlier['weight'].quantile([0.25, 0.75])\n",
        "IQR = Q3 - Q1\n",
        "lower_w = round(Q1 - IQR*1.5, 3)\n",
        "upper_w = round(Q3 + IQR*1.5, 3)\n",
        "print(lower_w, upper_w)"
      ],
      "metadata": {
        "id": "ne7YswiNhwLk",
        "outputId": "62b8a40b-d284-44f9-a3d1-020fbeab9ea5",
        "colab": {
          "base_uri": "https://localhost:8080/"
        }
      },
      "execution_count": null,
      "outputs": [
        {
          "output_type": "stream",
          "name": "stdout",
          "text": [
            "19.375 108.375\n"
          ]
        }
      ]
    },
    {
      "cell_type": "code",
      "source": [
        "# [10] height에 대한 outlier 제거 및 학습\n",
        "height = Xoutlier['height']\n",
        "outlier_h = Xoutlier[(height < lower_h) | (height > upper_h) ]\n",
        "# print(outlier_h)\n",
        "\n",
        "# X와 Y 모두 제거해야 함, 데이터 분리하기 전에 하는 것이 편함\n",
        "Xoutlier_rh = Xoutlier.drop(index=outlier_h.index)\n",
        "Youtlier_rh = Youtlier.drop(index=outlier_h.index)\n",
        "# print(Xoutlier_rh.shape, Youtlier_rh.shape)\n",
        "\n",
        "model3 = LinearRegression()\n",
        "Model_Train(model3, Xoutlier_rh, Youtlier_rh)"
      ],
      "metadata": {
        "id": "ivKLXYhehwLl",
        "outputId": "1bbb349e-84e0-4940-bb9d-e9479553ae61",
        "colab": {
          "base_uri": "https://localhost:8080/",
          "height": 93
        }
      },
      "execution_count": null,
      "outputs": [
        {
          "output_type": "stream",
          "name": "stdout",
          "text": [
            "0.9868 0.9935\n"
          ]
        },
        {
          "output_type": "execute_result",
          "data": {
            "text/plain": [
              "LinearRegression()"
            ],
            "text/html": [
              "<style>#sk-container-id-3 {color: black;background-color: white;}#sk-container-id-3 pre{padding: 0;}#sk-container-id-3 div.sk-toggleable {background-color: white;}#sk-container-id-3 label.sk-toggleable__label {cursor: pointer;display: block;width: 100%;margin-bottom: 0;padding: 0.3em;box-sizing: border-box;text-align: center;}#sk-container-id-3 label.sk-toggleable__label-arrow:before {content: \"▸\";float: left;margin-right: 0.25em;color: #696969;}#sk-container-id-3 label.sk-toggleable__label-arrow:hover:before {color: black;}#sk-container-id-3 div.sk-estimator:hover label.sk-toggleable__label-arrow:before {color: black;}#sk-container-id-3 div.sk-toggleable__content {max-height: 0;max-width: 0;overflow: hidden;text-align: left;background-color: #f0f8ff;}#sk-container-id-3 div.sk-toggleable__content pre {margin: 0.2em;color: black;border-radius: 0.25em;background-color: #f0f8ff;}#sk-container-id-3 input.sk-toggleable__control:checked~div.sk-toggleable__content {max-height: 200px;max-width: 100%;overflow: auto;}#sk-container-id-3 input.sk-toggleable__control:checked~label.sk-toggleable__label-arrow:before {content: \"▾\";}#sk-container-id-3 div.sk-estimator input.sk-toggleable__control:checked~label.sk-toggleable__label {background-color: #d4ebff;}#sk-container-id-3 div.sk-label input.sk-toggleable__control:checked~label.sk-toggleable__label {background-color: #d4ebff;}#sk-container-id-3 input.sk-hidden--visually {border: 0;clip: rect(1px 1px 1px 1px);clip: rect(1px, 1px, 1px, 1px);height: 1px;margin: -1px;overflow: hidden;padding: 0;position: absolute;width: 1px;}#sk-container-id-3 div.sk-estimator {font-family: monospace;background-color: #f0f8ff;border: 1px dotted black;border-radius: 0.25em;box-sizing: border-box;margin-bottom: 0.5em;}#sk-container-id-3 div.sk-estimator:hover {background-color: #d4ebff;}#sk-container-id-3 div.sk-parallel-item::after {content: \"\";width: 100%;border-bottom: 1px solid gray;flex-grow: 1;}#sk-container-id-3 div.sk-label:hover label.sk-toggleable__label {background-color: #d4ebff;}#sk-container-id-3 div.sk-serial::before {content: \"\";position: absolute;border-left: 1px solid gray;box-sizing: border-box;top: 0;bottom: 0;left: 50%;z-index: 0;}#sk-container-id-3 div.sk-serial {display: flex;flex-direction: column;align-items: center;background-color: white;padding-right: 0.2em;padding-left: 0.2em;position: relative;}#sk-container-id-3 div.sk-item {position: relative;z-index: 1;}#sk-container-id-3 div.sk-parallel {display: flex;align-items: stretch;justify-content: center;background-color: white;position: relative;}#sk-container-id-3 div.sk-item::before, #sk-container-id-3 div.sk-parallel-item::before {content: \"\";position: absolute;border-left: 1px solid gray;box-sizing: border-box;top: 0;bottom: 0;left: 50%;z-index: -1;}#sk-container-id-3 div.sk-parallel-item {display: flex;flex-direction: column;z-index: 1;position: relative;background-color: white;}#sk-container-id-3 div.sk-parallel-item:first-child::after {align-self: flex-end;width: 50%;}#sk-container-id-3 div.sk-parallel-item:last-child::after {align-self: flex-start;width: 50%;}#sk-container-id-3 div.sk-parallel-item:only-child::after {width: 0;}#sk-container-id-3 div.sk-dashed-wrapped {border: 1px dashed gray;margin: 0 0.4em 0.5em 0.4em;box-sizing: border-box;padding-bottom: 0.4em;background-color: white;}#sk-container-id-3 div.sk-label label {font-family: monospace;font-weight: bold;display: inline-block;line-height: 1.2em;}#sk-container-id-3 div.sk-label-container {text-align: center;}#sk-container-id-3 div.sk-container {/* jupyter's `normalize.less` sets `[hidden] { display: none; }` but bootstrap.min.css set `[hidden] { display: none !important; }` so we also need the `!important` here to be able to override the default hidden behavior on the sphinx rendered scikit-learn.org. See: https://github.com/scikit-learn/scikit-learn/issues/21755 */display: inline-block !important;position: relative;}#sk-container-id-3 div.sk-text-repr-fallback {display: none;}</style><div id=\"sk-container-id-3\" class=\"sk-top-container\"><div class=\"sk-text-repr-fallback\"><pre>LinearRegression()</pre><b>In a Jupyter environment, please rerun this cell to show the HTML representation or trust the notebook. <br />On GitHub, the HTML representation is unable to render, please try loading this page with nbviewer.org.</b></div><div class=\"sk-container\" hidden><div class=\"sk-item\"><div class=\"sk-estimator sk-toggleable\"><input class=\"sk-toggleable__control sk-hidden--visually\" id=\"sk-estimator-id-3\" type=\"checkbox\" checked><label for=\"sk-estimator-id-3\" class=\"sk-toggleable__label sk-toggleable__label-arrow\">LinearRegression</label><div class=\"sk-toggleable__content\"><pre>LinearRegression()</pre></div></div></div></div></div>"
            ]
          },
          "metadata": {},
          "execution_count": 21
        }
      ]
    },
    {
      "cell_type": "code",
      "source": [
        "# [11] weight에 대한 outlier 제거 및 학습\n",
        "weight = Xoutlier['weight']\n",
        "outlier_w = Xoutlier[(weight < lower_w) | (weight > upper_w) ]\n",
        "print(outlier_w)\n",
        "\n",
        "# X와 Y 모두 제거해야 함, 데이터 분리하기 전에 하는 것이 편함\n",
        "Xoutlier_rw = Xoutlier.drop(index=outlier_w.index)\n",
        "Youtlier_rw = Youtlier.drop(index=outlier_w.index)\n",
        "print(Xoutlier_rw.shape, Youtlier_rw.shape)\n",
        "\n",
        "model4 = LinearRegression()\n",
        "Model_Train(model4, Xoutlier_rw, Youtlier_rw)"
      ],
      "metadata": {
        "id": "6B49WXqMhwLl",
        "outputId": "bf647348-8c34-4392-c87a-b259a34a365b",
        "colab": {
          "base_uri": "https://localhost:8080/",
          "height": 203
        }
      },
      "execution_count": null,
      "outputs": [
        {
          "output_type": "stream",
          "name": "stdout",
          "text": [
            "     height  weight\n",
            "102   127.6     0.9\n",
            "104   216.3   154.0\n",
            "105   224.6   164.1\n",
            "106   224.5    14.0\n",
            "(103, 2) (103,)\n",
            "0.9731 0.9217\n"
          ]
        },
        {
          "output_type": "execute_result",
          "data": {
            "text/plain": [
              "LinearRegression()"
            ],
            "text/html": [
              "<style>#sk-container-id-4 {color: black;background-color: white;}#sk-container-id-4 pre{padding: 0;}#sk-container-id-4 div.sk-toggleable {background-color: white;}#sk-container-id-4 label.sk-toggleable__label {cursor: pointer;display: block;width: 100%;margin-bottom: 0;padding: 0.3em;box-sizing: border-box;text-align: center;}#sk-container-id-4 label.sk-toggleable__label-arrow:before {content: \"▸\";float: left;margin-right: 0.25em;color: #696969;}#sk-container-id-4 label.sk-toggleable__label-arrow:hover:before {color: black;}#sk-container-id-4 div.sk-estimator:hover label.sk-toggleable__label-arrow:before {color: black;}#sk-container-id-4 div.sk-toggleable__content {max-height: 0;max-width: 0;overflow: hidden;text-align: left;background-color: #f0f8ff;}#sk-container-id-4 div.sk-toggleable__content pre {margin: 0.2em;color: black;border-radius: 0.25em;background-color: #f0f8ff;}#sk-container-id-4 input.sk-toggleable__control:checked~div.sk-toggleable__content {max-height: 200px;max-width: 100%;overflow: auto;}#sk-container-id-4 input.sk-toggleable__control:checked~label.sk-toggleable__label-arrow:before {content: \"▾\";}#sk-container-id-4 div.sk-estimator input.sk-toggleable__control:checked~label.sk-toggleable__label {background-color: #d4ebff;}#sk-container-id-4 div.sk-label input.sk-toggleable__control:checked~label.sk-toggleable__label {background-color: #d4ebff;}#sk-container-id-4 input.sk-hidden--visually {border: 0;clip: rect(1px 1px 1px 1px);clip: rect(1px, 1px, 1px, 1px);height: 1px;margin: -1px;overflow: hidden;padding: 0;position: absolute;width: 1px;}#sk-container-id-4 div.sk-estimator {font-family: monospace;background-color: #f0f8ff;border: 1px dotted black;border-radius: 0.25em;box-sizing: border-box;margin-bottom: 0.5em;}#sk-container-id-4 div.sk-estimator:hover {background-color: #d4ebff;}#sk-container-id-4 div.sk-parallel-item::after {content: \"\";width: 100%;border-bottom: 1px solid gray;flex-grow: 1;}#sk-container-id-4 div.sk-label:hover label.sk-toggleable__label {background-color: #d4ebff;}#sk-container-id-4 div.sk-serial::before {content: \"\";position: absolute;border-left: 1px solid gray;box-sizing: border-box;top: 0;bottom: 0;left: 50%;z-index: 0;}#sk-container-id-4 div.sk-serial {display: flex;flex-direction: column;align-items: center;background-color: white;padding-right: 0.2em;padding-left: 0.2em;position: relative;}#sk-container-id-4 div.sk-item {position: relative;z-index: 1;}#sk-container-id-4 div.sk-parallel {display: flex;align-items: stretch;justify-content: center;background-color: white;position: relative;}#sk-container-id-4 div.sk-item::before, #sk-container-id-4 div.sk-parallel-item::before {content: \"\";position: absolute;border-left: 1px solid gray;box-sizing: border-box;top: 0;bottom: 0;left: 50%;z-index: -1;}#sk-container-id-4 div.sk-parallel-item {display: flex;flex-direction: column;z-index: 1;position: relative;background-color: white;}#sk-container-id-4 div.sk-parallel-item:first-child::after {align-self: flex-end;width: 50%;}#sk-container-id-4 div.sk-parallel-item:last-child::after {align-self: flex-start;width: 50%;}#sk-container-id-4 div.sk-parallel-item:only-child::after {width: 0;}#sk-container-id-4 div.sk-dashed-wrapped {border: 1px dashed gray;margin: 0 0.4em 0.5em 0.4em;box-sizing: border-box;padding-bottom: 0.4em;background-color: white;}#sk-container-id-4 div.sk-label label {font-family: monospace;font-weight: bold;display: inline-block;line-height: 1.2em;}#sk-container-id-4 div.sk-label-container {text-align: center;}#sk-container-id-4 div.sk-container {/* jupyter's `normalize.less` sets `[hidden] { display: none; }` but bootstrap.min.css set `[hidden] { display: none !important; }` so we also need the `!important` here to be able to override the default hidden behavior on the sphinx rendered scikit-learn.org. See: https://github.com/scikit-learn/scikit-learn/issues/21755 */display: inline-block !important;position: relative;}#sk-container-id-4 div.sk-text-repr-fallback {display: none;}</style><div id=\"sk-container-id-4\" class=\"sk-top-container\"><div class=\"sk-text-repr-fallback\"><pre>LinearRegression()</pre><b>In a Jupyter environment, please rerun this cell to show the HTML representation or trust the notebook. <br />On GitHub, the HTML representation is unable to render, please try loading this page with nbviewer.org.</b></div><div class=\"sk-container\" hidden><div class=\"sk-item\"><div class=\"sk-estimator sk-toggleable\"><input class=\"sk-toggleable__control sk-hidden--visually\" id=\"sk-estimator-id-4\" type=\"checkbox\" checked><label for=\"sk-estimator-id-4\" class=\"sk-toggleable__label sk-toggleable__label-arrow\">LinearRegression</label><div class=\"sk-toggleable__content\"><pre>LinearRegression()</pre></div></div></div></div></div>"
            ]
          },
          "metadata": {},
          "execution_count": 22
        }
      ]
    },
    {
      "cell_type": "markdown",
      "source": [
        "### 2-4.Polynomial Regression\n",
        "- 다항 회귀\n",
        "- 비선형 데이터 집합을 모델링 할 때 사용\n",
        "- 곡선의 다항식 선을 사용함\n",
        "- 과대적합이 나타나기 쉬움\n",
        "- $y = \\beta_{0} + \\beta_{1} x_{1} + \\beta_{2} x_{2} + \\beta_{3} x_{1}^{2} + \\beta_{4} x_{2}^{2} ...+ \\epsilon$\n",
        "- X를 다항식으로 변경하여 모델링의 데이터로 사용함"
      ],
      "metadata": {
        "id": "PDnZReayLSVn"
      }
    },
    {
      "cell_type": "code",
      "source": [
        "# sklearn.preprocessing.PolynomialFeatures(degree=2, *,\n",
        "#               interaction_only=False, include_bias=True, order='C')"
      ],
      "metadata": {
        "id": "lINl7TLyZUTR"
      },
      "execution_count": null,
      "outputs": []
    },
    {
      "cell_type": "code",
      "source": [
        "# [12] PolynomialFeatures 사용하여 2차항이 포함되도록\n",
        "# Xnormal을 변환 함 (PolynomialFeatures에 poly2, 변환 결과에 Xpoly2 이름 부여)\n",
        "from sklearn.preprocessing import PolynomialFeatures\n",
        "# 기본값도 2이지만 명시해 주는 것이 좋음, bias 포함하고 싶지 않으면 False로(보통 False)\n",
        "# interaction_only=True 하면 2차항 3차항 사라짐 (보통 False)\n",
        "poly2 = PolynomialFeatures(degree=2, include_bias=False)\n",
        "Xpoly2 = poly2.fit_transform(Xnormal)\n",
        "model = LinearRegression()\n",
        "Model_Train(model, Xpoly2, Ynormal)"
      ],
      "metadata": {
        "id": "Ov4tco4eLgzP",
        "outputId": "cb822520-33a4-4c8f-efce-2a11e65b2aef",
        "colab": {
          "base_uri": "https://localhost:8080/",
          "height": 93
        }
      },
      "execution_count": null,
      "outputs": [
        {
          "output_type": "stream",
          "name": "stdout",
          "text": [
            "1.0000 0.9988\n"
          ]
        },
        {
          "output_type": "execute_result",
          "data": {
            "text/plain": [
              "LinearRegression()"
            ],
            "text/html": [
              "<style>#sk-container-id-7 {color: black;background-color: white;}#sk-container-id-7 pre{padding: 0;}#sk-container-id-7 div.sk-toggleable {background-color: white;}#sk-container-id-7 label.sk-toggleable__label {cursor: pointer;display: block;width: 100%;margin-bottom: 0;padding: 0.3em;box-sizing: border-box;text-align: center;}#sk-container-id-7 label.sk-toggleable__label-arrow:before {content: \"▸\";float: left;margin-right: 0.25em;color: #696969;}#sk-container-id-7 label.sk-toggleable__label-arrow:hover:before {color: black;}#sk-container-id-7 div.sk-estimator:hover label.sk-toggleable__label-arrow:before {color: black;}#sk-container-id-7 div.sk-toggleable__content {max-height: 0;max-width: 0;overflow: hidden;text-align: left;background-color: #f0f8ff;}#sk-container-id-7 div.sk-toggleable__content pre {margin: 0.2em;color: black;border-radius: 0.25em;background-color: #f0f8ff;}#sk-container-id-7 input.sk-toggleable__control:checked~div.sk-toggleable__content {max-height: 200px;max-width: 100%;overflow: auto;}#sk-container-id-7 input.sk-toggleable__control:checked~label.sk-toggleable__label-arrow:before {content: \"▾\";}#sk-container-id-7 div.sk-estimator input.sk-toggleable__control:checked~label.sk-toggleable__label {background-color: #d4ebff;}#sk-container-id-7 div.sk-label input.sk-toggleable__control:checked~label.sk-toggleable__label {background-color: #d4ebff;}#sk-container-id-7 input.sk-hidden--visually {border: 0;clip: rect(1px 1px 1px 1px);clip: rect(1px, 1px, 1px, 1px);height: 1px;margin: -1px;overflow: hidden;padding: 0;position: absolute;width: 1px;}#sk-container-id-7 div.sk-estimator {font-family: monospace;background-color: #f0f8ff;border: 1px dotted black;border-radius: 0.25em;box-sizing: border-box;margin-bottom: 0.5em;}#sk-container-id-7 div.sk-estimator:hover {background-color: #d4ebff;}#sk-container-id-7 div.sk-parallel-item::after {content: \"\";width: 100%;border-bottom: 1px solid gray;flex-grow: 1;}#sk-container-id-7 div.sk-label:hover label.sk-toggleable__label {background-color: #d4ebff;}#sk-container-id-7 div.sk-serial::before {content: \"\";position: absolute;border-left: 1px solid gray;box-sizing: border-box;top: 0;bottom: 0;left: 50%;z-index: 0;}#sk-container-id-7 div.sk-serial {display: flex;flex-direction: column;align-items: center;background-color: white;padding-right: 0.2em;padding-left: 0.2em;position: relative;}#sk-container-id-7 div.sk-item {position: relative;z-index: 1;}#sk-container-id-7 div.sk-parallel {display: flex;align-items: stretch;justify-content: center;background-color: white;position: relative;}#sk-container-id-7 div.sk-item::before, #sk-container-id-7 div.sk-parallel-item::before {content: \"\";position: absolute;border-left: 1px solid gray;box-sizing: border-box;top: 0;bottom: 0;left: 50%;z-index: -1;}#sk-container-id-7 div.sk-parallel-item {display: flex;flex-direction: column;z-index: 1;position: relative;background-color: white;}#sk-container-id-7 div.sk-parallel-item:first-child::after {align-self: flex-end;width: 50%;}#sk-container-id-7 div.sk-parallel-item:last-child::after {align-self: flex-start;width: 50%;}#sk-container-id-7 div.sk-parallel-item:only-child::after {width: 0;}#sk-container-id-7 div.sk-dashed-wrapped {border: 1px dashed gray;margin: 0 0.4em 0.5em 0.4em;box-sizing: border-box;padding-bottom: 0.4em;background-color: white;}#sk-container-id-7 div.sk-label label {font-family: monospace;font-weight: bold;display: inline-block;line-height: 1.2em;}#sk-container-id-7 div.sk-label-container {text-align: center;}#sk-container-id-7 div.sk-container {/* jupyter's `normalize.less` sets `[hidden] { display: none; }` but bootstrap.min.css set `[hidden] { display: none !important; }` so we also need the `!important` here to be able to override the default hidden behavior on the sphinx rendered scikit-learn.org. See: https://github.com/scikit-learn/scikit-learn/issues/21755 */display: inline-block !important;position: relative;}#sk-container-id-7 div.sk-text-repr-fallback {display: none;}</style><div id=\"sk-container-id-7\" class=\"sk-top-container\"><div class=\"sk-text-repr-fallback\"><pre>LinearRegression()</pre><b>In a Jupyter environment, please rerun this cell to show the HTML representation or trust the notebook. <br />On GitHub, the HTML representation is unable to render, please try loading this page with nbviewer.org.</b></div><div class=\"sk-container\" hidden><div class=\"sk-item\"><div class=\"sk-estimator sk-toggleable\"><input class=\"sk-toggleable__control sk-hidden--visually\" id=\"sk-estimator-id-7\" type=\"checkbox\" checked><label for=\"sk-estimator-id-7\" class=\"sk-toggleable__label sk-toggleable__label-arrow\">LinearRegression</label><div class=\"sk-toggleable__content\"><pre>LinearRegression()</pre></div></div></div></div></div>"
            ]
          },
          "metadata": {},
          "execution_count": 31
        }
      ]
    },
    {
      "cell_type": "code",
      "source": [
        "# [13] Xpoly2의 shape 확인\n",
        "print(Xnormal.shape, Xpoly2.shape)"
      ],
      "metadata": {
        "id": "x_0qvRi2ZHfy",
        "outputId": "b01cfbc8-a998-4d31-e380-31d4349a2fb2",
        "colab": {
          "base_uri": "https://localhost:8080/"
        }
      },
      "execution_count": null,
      "outputs": [
        {
          "output_type": "stream",
          "name": "stdout",
          "text": [
            "(100, 2) (100, 5)\n"
          ]
        }
      ]
    },
    {
      "cell_type": "code",
      "source": [
        "# [14] poly2의 feature_names 확인\n",
        "poly2.get_feature_names_out()"
      ],
      "metadata": {
        "id": "_sbLVWJJZKc7",
        "outputId": "9a5ec6de-a652-4c70-e53f-f180ea8350f5",
        "colab": {
          "base_uri": "https://localhost:8080/"
        }
      },
      "execution_count": null,
      "outputs": [
        {
          "output_type": "execute_result",
          "data": {
            "text/plain": [
              "array(['height', 'weight', 'height^2', 'height weight', 'weight^2'],\n",
              "      dtype=object)"
            ]
          },
          "metadata": {},
          "execution_count": 33
        }
      ]
    },
    {
      "cell_type": "code",
      "source": [
        "# [15] Xpoly2의 상관계수 확인\n",
        "# DataFrame으로 바꿔야 확인할 수 있음\n",
        "pd.DataFrame(Xpoly2).corr()"
      ],
      "metadata": {
        "id": "KuvYv-_Zmc_l",
        "outputId": "e90d2731-b579-4812-ba6b-131421ecbe50",
        "colab": {
          "base_uri": "https://localhost:8080/",
          "height": 206
        }
      },
      "execution_count": null,
      "outputs": [
        {
          "output_type": "execute_result",
          "data": {
            "text/plain": [
              "          0         1         2         3         4\n",
              "0  1.000000  0.604015  0.999526  0.715850  0.602221\n",
              "1  0.604015  1.000000  0.605356  0.987694  0.992038\n",
              "2  0.999526  0.605356  1.000000  0.717912  0.605105\n",
              "3  0.715850  0.987694  0.717912  1.000000  0.984456\n",
              "4  0.602221  0.992038  0.605105  0.984456  1.000000"
            ],
            "text/html": [
              "\n",
              "  <div id=\"df-9320f835-e05a-47f9-9d90-d40f96b80173\">\n",
              "    <div class=\"colab-df-container\">\n",
              "      <div>\n",
              "<style scoped>\n",
              "    .dataframe tbody tr th:only-of-type {\n",
              "        vertical-align: middle;\n",
              "    }\n",
              "\n",
              "    .dataframe tbody tr th {\n",
              "        vertical-align: top;\n",
              "    }\n",
              "\n",
              "    .dataframe thead th {\n",
              "        text-align: right;\n",
              "    }\n",
              "</style>\n",
              "<table border=\"1\" class=\"dataframe\">\n",
              "  <thead>\n",
              "    <tr style=\"text-align: right;\">\n",
              "      <th></th>\n",
              "      <th>0</th>\n",
              "      <th>1</th>\n",
              "      <th>2</th>\n",
              "      <th>3</th>\n",
              "      <th>4</th>\n",
              "    </tr>\n",
              "  </thead>\n",
              "  <tbody>\n",
              "    <tr>\n",
              "      <th>0</th>\n",
              "      <td>1.000000</td>\n",
              "      <td>0.604015</td>\n",
              "      <td>0.999526</td>\n",
              "      <td>0.715850</td>\n",
              "      <td>0.602221</td>\n",
              "    </tr>\n",
              "    <tr>\n",
              "      <th>1</th>\n",
              "      <td>0.604015</td>\n",
              "      <td>1.000000</td>\n",
              "      <td>0.605356</td>\n",
              "      <td>0.987694</td>\n",
              "      <td>0.992038</td>\n",
              "    </tr>\n",
              "    <tr>\n",
              "      <th>2</th>\n",
              "      <td>0.999526</td>\n",
              "      <td>0.605356</td>\n",
              "      <td>1.000000</td>\n",
              "      <td>0.717912</td>\n",
              "      <td>0.605105</td>\n",
              "    </tr>\n",
              "    <tr>\n",
              "      <th>3</th>\n",
              "      <td>0.715850</td>\n",
              "      <td>0.987694</td>\n",
              "      <td>0.717912</td>\n",
              "      <td>1.000000</td>\n",
              "      <td>0.984456</td>\n",
              "    </tr>\n",
              "    <tr>\n",
              "      <th>4</th>\n",
              "      <td>0.602221</td>\n",
              "      <td>0.992038</td>\n",
              "      <td>0.605105</td>\n",
              "      <td>0.984456</td>\n",
              "      <td>1.000000</td>\n",
              "    </tr>\n",
              "  </tbody>\n",
              "</table>\n",
              "</div>\n",
              "      <button class=\"colab-df-convert\" onclick=\"convertToInteractive('df-9320f835-e05a-47f9-9d90-d40f96b80173')\"\n",
              "              title=\"Convert this dataframe to an interactive table.\"\n",
              "              style=\"display:none;\">\n",
              "        \n",
              "  <svg xmlns=\"http://www.w3.org/2000/svg\" height=\"24px\"viewBox=\"0 0 24 24\"\n",
              "       width=\"24px\">\n",
              "    <path d=\"M0 0h24v24H0V0z\" fill=\"none\"/>\n",
              "    <path d=\"M18.56 5.44l.94 2.06.94-2.06 2.06-.94-2.06-.94-.94-2.06-.94 2.06-2.06.94zm-11 1L8.5 8.5l.94-2.06 2.06-.94-2.06-.94L8.5 2.5l-.94 2.06-2.06.94zm10 10l.94 2.06.94-2.06 2.06-.94-2.06-.94-.94-2.06-.94 2.06-2.06.94z\"/><path d=\"M17.41 7.96l-1.37-1.37c-.4-.4-.92-.59-1.43-.59-.52 0-1.04.2-1.43.59L10.3 9.45l-7.72 7.72c-.78.78-.78 2.05 0 2.83L4 21.41c.39.39.9.59 1.41.59.51 0 1.02-.2 1.41-.59l7.78-7.78 2.81-2.81c.8-.78.8-2.07 0-2.86zM5.41 20L4 18.59l7.72-7.72 1.47 1.35L5.41 20z\"/>\n",
              "  </svg>\n",
              "      </button>\n",
              "      \n",
              "  <style>\n",
              "    .colab-df-container {\n",
              "      display:flex;\n",
              "      flex-wrap:wrap;\n",
              "      gap: 12px;\n",
              "    }\n",
              "\n",
              "    .colab-df-convert {\n",
              "      background-color: #E8F0FE;\n",
              "      border: none;\n",
              "      border-radius: 50%;\n",
              "      cursor: pointer;\n",
              "      display: none;\n",
              "      fill: #1967D2;\n",
              "      height: 32px;\n",
              "      padding: 0 0 0 0;\n",
              "      width: 32px;\n",
              "    }\n",
              "\n",
              "    .colab-df-convert:hover {\n",
              "      background-color: #E2EBFA;\n",
              "      box-shadow: 0px 1px 2px rgba(60, 64, 67, 0.3), 0px 1px 3px 1px rgba(60, 64, 67, 0.15);\n",
              "      fill: #174EA6;\n",
              "    }\n",
              "\n",
              "    [theme=dark] .colab-df-convert {\n",
              "      background-color: #3B4455;\n",
              "      fill: #D2E3FC;\n",
              "    }\n",
              "\n",
              "    [theme=dark] .colab-df-convert:hover {\n",
              "      background-color: #434B5C;\n",
              "      box-shadow: 0px 1px 3px 1px rgba(0, 0, 0, 0.15);\n",
              "      filter: drop-shadow(0px 1px 2px rgba(0, 0, 0, 0.3));\n",
              "      fill: #FFFFFF;\n",
              "    }\n",
              "  </style>\n",
              "\n",
              "      <script>\n",
              "        const buttonEl =\n",
              "          document.querySelector('#df-9320f835-e05a-47f9-9d90-d40f96b80173 button.colab-df-convert');\n",
              "        buttonEl.style.display =\n",
              "          google.colab.kernel.accessAllowed ? 'block' : 'none';\n",
              "\n",
              "        async function convertToInteractive(key) {\n",
              "          const element = document.querySelector('#df-9320f835-e05a-47f9-9d90-d40f96b80173');\n",
              "          const dataTable =\n",
              "            await google.colab.kernel.invokeFunction('convertToInteractive',\n",
              "                                                     [key], {});\n",
              "          if (!dataTable) return;\n",
              "\n",
              "          const docLinkHtml = 'Like what you see? Visit the ' +\n",
              "            '<a target=\"_blank\" href=https://colab.research.google.com/notebooks/data_table.ipynb>data table notebook</a>'\n",
              "            + ' to learn more about interactive tables.';\n",
              "          element.innerHTML = '';\n",
              "          dataTable['output_type'] = 'display_data';\n",
              "          await google.colab.output.renderOutput(dataTable, element);\n",
              "          const docLink = document.createElement('div');\n",
              "          docLink.innerHTML = docLinkHtml;\n",
              "          element.appendChild(docLink);\n",
              "        }\n",
              "      </script>\n",
              "    </div>\n",
              "  </div>\n",
              "  "
            ]
          },
          "metadata": {},
          "execution_count": 35
        }
      ]
    },
    {
      "cell_type": "code",
      "source": [
        "# [16] PolynomialFeatures 사용하여 3차항이 포함되도록\n",
        "# Xnormal을 변환 함 (PolynomialFeatures에 poly3, 변환 결과에 Xpoly3 이름 부여)\n",
        "poly3 = PolynomialFeatures(degree=3, include_bias=False)\n",
        "Xpoly3 = poly3.fit_transform(Xnormal)\n",
        "model = LinearRegression()\n",
        "Model_Train(model, Xpoly3, Ynormal)"
      ],
      "metadata": {
        "id": "6Plr4Sl6Vwbq",
        "outputId": "475f402a-aec5-4e53-c406-46cafc604f56",
        "colab": {
          "base_uri": "https://localhost:8080/",
          "height": 93
        }
      },
      "execution_count": null,
      "outputs": [
        {
          "output_type": "stream",
          "name": "stdout",
          "text": [
            "1.0000 1.0000\n"
          ]
        },
        {
          "output_type": "execute_result",
          "data": {
            "text/plain": [
              "LinearRegression()"
            ],
            "text/html": [
              "<style>#sk-container-id-9 {color: black;background-color: white;}#sk-container-id-9 pre{padding: 0;}#sk-container-id-9 div.sk-toggleable {background-color: white;}#sk-container-id-9 label.sk-toggleable__label {cursor: pointer;display: block;width: 100%;margin-bottom: 0;padding: 0.3em;box-sizing: border-box;text-align: center;}#sk-container-id-9 label.sk-toggleable__label-arrow:before {content: \"▸\";float: left;margin-right: 0.25em;color: #696969;}#sk-container-id-9 label.sk-toggleable__label-arrow:hover:before {color: black;}#sk-container-id-9 div.sk-estimator:hover label.sk-toggleable__label-arrow:before {color: black;}#sk-container-id-9 div.sk-toggleable__content {max-height: 0;max-width: 0;overflow: hidden;text-align: left;background-color: #f0f8ff;}#sk-container-id-9 div.sk-toggleable__content pre {margin: 0.2em;color: black;border-radius: 0.25em;background-color: #f0f8ff;}#sk-container-id-9 input.sk-toggleable__control:checked~div.sk-toggleable__content {max-height: 200px;max-width: 100%;overflow: auto;}#sk-container-id-9 input.sk-toggleable__control:checked~label.sk-toggleable__label-arrow:before {content: \"▾\";}#sk-container-id-9 div.sk-estimator input.sk-toggleable__control:checked~label.sk-toggleable__label {background-color: #d4ebff;}#sk-container-id-9 div.sk-label input.sk-toggleable__control:checked~label.sk-toggleable__label {background-color: #d4ebff;}#sk-container-id-9 input.sk-hidden--visually {border: 0;clip: rect(1px 1px 1px 1px);clip: rect(1px, 1px, 1px, 1px);height: 1px;margin: -1px;overflow: hidden;padding: 0;position: absolute;width: 1px;}#sk-container-id-9 div.sk-estimator {font-family: monospace;background-color: #f0f8ff;border: 1px dotted black;border-radius: 0.25em;box-sizing: border-box;margin-bottom: 0.5em;}#sk-container-id-9 div.sk-estimator:hover {background-color: #d4ebff;}#sk-container-id-9 div.sk-parallel-item::after {content: \"\";width: 100%;border-bottom: 1px solid gray;flex-grow: 1;}#sk-container-id-9 div.sk-label:hover label.sk-toggleable__label {background-color: #d4ebff;}#sk-container-id-9 div.sk-serial::before {content: \"\";position: absolute;border-left: 1px solid gray;box-sizing: border-box;top: 0;bottom: 0;left: 50%;z-index: 0;}#sk-container-id-9 div.sk-serial {display: flex;flex-direction: column;align-items: center;background-color: white;padding-right: 0.2em;padding-left: 0.2em;position: relative;}#sk-container-id-9 div.sk-item {position: relative;z-index: 1;}#sk-container-id-9 div.sk-parallel {display: flex;align-items: stretch;justify-content: center;background-color: white;position: relative;}#sk-container-id-9 div.sk-item::before, #sk-container-id-9 div.sk-parallel-item::before {content: \"\";position: absolute;border-left: 1px solid gray;box-sizing: border-box;top: 0;bottom: 0;left: 50%;z-index: -1;}#sk-container-id-9 div.sk-parallel-item {display: flex;flex-direction: column;z-index: 1;position: relative;background-color: white;}#sk-container-id-9 div.sk-parallel-item:first-child::after {align-self: flex-end;width: 50%;}#sk-container-id-9 div.sk-parallel-item:last-child::after {align-self: flex-start;width: 50%;}#sk-container-id-9 div.sk-parallel-item:only-child::after {width: 0;}#sk-container-id-9 div.sk-dashed-wrapped {border: 1px dashed gray;margin: 0 0.4em 0.5em 0.4em;box-sizing: border-box;padding-bottom: 0.4em;background-color: white;}#sk-container-id-9 div.sk-label label {font-family: monospace;font-weight: bold;display: inline-block;line-height: 1.2em;}#sk-container-id-9 div.sk-label-container {text-align: center;}#sk-container-id-9 div.sk-container {/* jupyter's `normalize.less` sets `[hidden] { display: none; }` but bootstrap.min.css set `[hidden] { display: none !important; }` so we also need the `!important` here to be able to override the default hidden behavior on the sphinx rendered scikit-learn.org. See: https://github.com/scikit-learn/scikit-learn/issues/21755 */display: inline-block !important;position: relative;}#sk-container-id-9 div.sk-text-repr-fallback {display: none;}</style><div id=\"sk-container-id-9\" class=\"sk-top-container\"><div class=\"sk-text-repr-fallback\"><pre>LinearRegression()</pre><b>In a Jupyter environment, please rerun this cell to show the HTML representation or trust the notebook. <br />On GitHub, the HTML representation is unable to render, please try loading this page with nbviewer.org.</b></div><div class=\"sk-container\" hidden><div class=\"sk-item\"><div class=\"sk-estimator sk-toggleable\"><input class=\"sk-toggleable__control sk-hidden--visually\" id=\"sk-estimator-id-9\" type=\"checkbox\" checked><label for=\"sk-estimator-id-9\" class=\"sk-toggleable__label sk-toggleable__label-arrow\">LinearRegression</label><div class=\"sk-toggleable__content\"><pre>LinearRegression()</pre></div></div></div></div></div>"
            ]
          },
          "metadata": {},
          "execution_count": 37
        }
      ]
    },
    {
      "cell_type": "code",
      "source": [
        "# [17] Xpoly3의 shape 확인\n",
        "print(Xpoly3.shape)"
      ],
      "metadata": {
        "id": "7oeTGAnaY7_J",
        "outputId": "733e0ca7-761c-4534-a803-073fd1baf6ba",
        "colab": {
          "base_uri": "https://localhost:8080/"
        }
      },
      "execution_count": null,
      "outputs": [
        {
          "output_type": "stream",
          "name": "stdout",
          "text": [
            "(100, 9)\n"
          ]
        }
      ]
    },
    {
      "cell_type": "code",
      "source": [
        "# [18] poly3의 shape 확인\n",
        "poly3.get_feature_names_out()"
      ],
      "metadata": {
        "id": "KY0x7BMLbrbs",
        "outputId": "cf38261b-d710-4194-ae3d-76cb9b156ab9",
        "colab": {
          "base_uri": "https://localhost:8080/"
        }
      },
      "execution_count": null,
      "outputs": [
        {
          "output_type": "execute_result",
          "data": {
            "text/plain": [
              "array(['height', 'weight', 'height^2', 'height weight', 'weight^2',\n",
              "       'height^3', 'height^2 weight', 'height weight^2', 'weight^3'],\n",
              "      dtype=object)"
            ]
          },
          "metadata": {},
          "execution_count": 39
        }
      ]
    },
    {
      "cell_type": "code",
      "source": [
        "# 2차항이나 3차항으로 하면 값이 너무 커져서 스케일링이 필요함\n",
        "Xpoly3[:5]"
      ],
      "metadata": {
        "id": "FaC8W6fHIYpp",
        "outputId": "c0df9330-b2cf-4808-83fa-07436a817f00",
        "colab": {
          "base_uri": "https://localhost:8080/"
        }
      },
      "execution_count": null,
      "outputs": [
        {
          "output_type": "execute_result",
          "data": {
            "text/plain": [
              "array([[1.63100000e+02, 7.13000000e+01, 2.66016100e+04, 1.16290300e+04,\n",
              "        5.08369000e+03, 4.33872259e+06, 1.89669479e+06, 8.29149839e+05,\n",
              "        3.62467097e+05],\n",
              "       [1.75100000e+02, 8.55000000e+01, 3.06600100e+04, 1.49710500e+04,\n",
              "        7.31025000e+03, 5.36856775e+06, 2.62143085e+06, 1.28002477e+06,\n",
              "        6.25026375e+05],\n",
              "       [1.74000000e+02, 7.80000000e+01, 3.02760000e+04, 1.35720000e+04,\n",
              "        6.08400000e+03, 5.26802400e+06, 2.36152800e+06, 1.05861600e+06,\n",
              "        4.74552000e+05],\n",
              "       [1.71200000e+02, 7.31000000e+01, 2.93094400e+04, 1.25147200e+04,\n",
              "        5.34361000e+03, 5.01777613e+06, 2.14252006e+06, 9.14826032e+05,\n",
              "        3.90617891e+05],\n",
              "       [1.60200000e+02, 5.74000000e+01, 2.56640400e+04, 9.19548000e+03,\n",
              "        3.29476000e+03, 4.11137921e+06, 1.47311590e+06, 5.27820552e+05,\n",
              "        1.89119224e+05]])"
            ]
          },
          "metadata": {},
          "execution_count": 40
        }
      ]
    },
    {
      "cell_type": "markdown",
      "source": [
        "### 2-5.Ridge Regression\n",
        "- sklearn.linear_model.Ridge(alpha=1.0, *, fit_intercept=True, normalize='deprecated', copy_X=True, max_iter=None, tol=0.001, solver='auto', positive=False, random_state=None)\n",
        "- coef(회귀계수)가 작아지지만 0이 되지는 않음"
      ],
      "metadata": {
        "id": "VGzRXeVWdTk-"
      }
    },
    {
      "cell_type": "code",
      "source": [
        "# alpha=0 : 규제를 주지 않음\n",
        "# alpha 값이 크다는 것은 규제를 크게 주겠다는 것을 의미 => coef_(회귀계수) 값들이 작아짐"
      ],
      "metadata": {
        "id": "ZrkTNOuIHx5g"
      },
      "execution_count": null,
      "outputs": []
    },
    {
      "cell_type": "code",
      "source": [
        "# [19] PolynomialFeatures degree=3과 Ridge를 사용한 모델링"
      ],
      "metadata": {
        "id": "0gQME2RMdXre"
      },
      "execution_count": null,
      "outputs": []
    },
    {
      "cell_type": "code",
      "source": [
        "# [20] ridge_coef 출력하여 회귀계수 확인"
      ],
      "metadata": {
        "id": "m9PYo-9nebFI"
      },
      "execution_count": null,
      "outputs": []
    },
    {
      "cell_type": "markdown",
      "source": [
        "### 2-6.Lasso Regression\n",
        "- sklearn.linear_model.Lasso(alpha=1.0, *, fit_intercept=True, normalize='deprecated', precompute=False, copy_X=True, max_iter=1000, tol=0.0001, warm_start=False, positive=False, random_state=None, selection='cyclic')\n",
        "- 규제강도가 커지면 회귀계수가 작아지고 0도 될 수 있다"
      ],
      "metadata": {
        "id": "9Rs-KNSBmN5V"
      }
    },
    {
      "cell_type": "code",
      "source": [
        "# [21] degree=3과 Lasso를 사용한 모델링\n"
      ],
      "metadata": {
        "id": "vgVW5zTNcuNV"
      },
      "execution_count": null,
      "outputs": []
    },
    {
      "cell_type": "code",
      "source": [
        "# [22] lasso_coef 출력하여 회귀계수 확인\n"
      ],
      "metadata": {
        "id": "GU-S6_NxgJD-"
      },
      "execution_count": null,
      "outputs": []
    },
    {
      "cell_type": "code",
      "source": [
        "# Ridge, Lasso는 overfitting 되는 데이터에 주로 사용하여 overfitting을 해결하는 용도로 사용한다"
      ],
      "metadata": {
        "id": "zQTU0Mc3gl8a"
      },
      "execution_count": null,
      "outputs": []
    },
    {
      "cell_type": "markdown",
      "source": [
        "### 2-7.DecisionTree\n",
        "- sklearn.tree.DecisionTreeRegressor(*, criterion='squared_error', splitter='best', max_depth=None, min_samples_split=2, min_samples_leaf=1, min_weight_fraction_leaf=0.0, max_features=None, random_state=None, max_leaf_nodes=None, min_impurity_decrease=0.0, ccp_alpha=0.0"
      ],
      "metadata": {
        "id": "O30hcJEqhAsr"
      }
    },
    {
      "cell_type": "code",
      "source": [
        "# [22] Xnormal, Ynormal 데이터에 DecisionTreeRegressor 사용\n"
      ],
      "metadata": {
        "id": "5hJOCWXahH6G"
      },
      "execution_count": null,
      "outputs": []
    },
    {
      "cell_type": "code",
      "source": [
        "# train  test\n",
        "# 1.0000 0.7371  => overfitting, 과대적합\n",
        "# 과대적합 해결방법 => Ridge, Lasso, 앙상블\n",
        "#                      데이터의 크기를 늘리는 것, 함수의 parameter에 값을 변경"
      ],
      "metadata": {
        "id": "QyXvf0AFnWWD"
      },
      "execution_count": null,
      "outputs": []
    },
    {
      "cell_type": "code",
      "source": [
        "# [23] 데이터의 개수를 2000개로 늘려 DecisionTreeRegressor 사용\n"
      ],
      "metadata": {
        "id": "-iB-OGUSiZJL"
      },
      "execution_count": null,
      "outputs": []
    },
    {
      "cell_type": "markdown",
      "source": [
        "### 2-8.앙상블"
      ],
      "metadata": {
        "id": "5CL28vrvm1p1"
      }
    },
    {
      "cell_type": "markdown",
      "source": [
        "- sklearn.ensemble.RandomForestRegressor(n_estimators=100, *, criterion='squared_error', max_depth=None, min_samples_split=2, min_samples_leaf=1, min_weight_fraction_leaf=0.0, max_features='auto', max_leaf_nodes=None, min_impurity_decrease=0.0, bootstrap=True, oob_score=False, n_jobs=None, random_state=None, verbose=0, warm_start=False, ccp_alpha=0.0, max_samples=None)\n",
        "- https://xgboost.readthedocs.io/en/latest/python/python_api.html#module-xgboost.sklearn"
      ],
      "metadata": {
        "id": "nn4KunPFkgUx"
      }
    },
    {
      "cell_type": "code",
      "source": [
        "# [24] Xnormal, Ynormal 데이터에 RandomForestRegressor 사용\n"
      ],
      "metadata": {
        "id": "J0_OCv2tm4MR"
      },
      "execution_count": null,
      "outputs": []
    },
    {
      "cell_type": "code",
      "source": [
        "# [25] Xnormal을 2차식으로 만든 후 RandomForestRegressor 사용\n"
      ],
      "metadata": {
        "id": "JGlu8lLne5yy"
      },
      "execution_count": null,
      "outputs": []
    },
    {
      "cell_type": "code",
      "source": [
        "# [26] 데이터의 개수를 2000개로 늘려 RandomForestRegressor 사용\n"
      ],
      "metadata": {
        "id": "fqbRgJvszzMM"
      },
      "execution_count": null,
      "outputs": []
    },
    {
      "cell_type": "markdown",
      "source": [
        "- XBGRegressor : max_depth=3, learning_rate=0.1, n_estimators=100, verbosity=1, silent=None, objective=\"reg:linear\", booster='gbtree', n_jobs=1, nthread=None, gamma=0, min_child_weight=1, max_delta_step=0, subsample=1, colsample_bytree=1, colsample_bylevel=1, colsample_bynode=1, reg_alpha=0, reg_lambda=1, scale_pos_weight=1, base_score=0.5, random_state=0, seed=None, missing=None, importance_type=\"gain\", **kwargs)"
      ],
      "metadata": {
        "id": "4roj2vVhrktv"
      }
    },
    {
      "cell_type": "code",
      "source": [
        "# [27] Xnormal, Ynormal 데이터에 XGBRegressor 사용\n"
      ],
      "metadata": {
        "id": "coyVxRcomyJg"
      },
      "execution_count": null,
      "outputs": []
    },
    {
      "cell_type": "code",
      "source": [
        "# [28] 데이터의 개수를 2000개로 늘려 XGBRegressor 사용\n"
      ],
      "metadata": {
        "id": "U_6xS0I82vmf"
      },
      "execution_count": null,
      "outputs": []
    },
    {
      "cell_type": "code",
      "source": [],
      "metadata": {
        "id": "SgrFIF7qDtWX"
      },
      "execution_count": null,
      "outputs": []
    },
    {
      "cell_type": "markdown",
      "source": [
        "## 3.회귀 모델 성능평가\n",
        "\n",
        "- $R^2$ score\n",
        "  - model.score(X, y)\n",
        "  - sklearn.metrics.r2_score(y_true, y_pred)\n",
        "  - 분산 기반으로 예측 성능을 평가\n",
        "  - 예측값 분산 / 실제값 분산\n",
        "- MAE(Mean Absolute Error)\n",
        "   - sklearn.metrics.mean_absolute_error(y_true, y_pred)\n",
        "   - 실제 값과 예측 값의 차이를 절댓값으로 변환해 평균한 것\n",
        "- MSE(Mean Squared Error)\n",
        "   - sklearn.metrics.mean_squared_error(y_true, y_pred)\n",
        "   - 실제 값과 예측 값의 차이를 제곱해 평균한 것\n",
        "- RMSE(Root Mean Squared Error)\n",
        "   - sklearn API에 없음\n",
        "   - MSE에 np.sqrt() 또는 ** 0.5를 사용함\n",
        "   - MSE 값은 오류의 제곱을 구하므로 실제 오류 평균보다 더 커지는 특성이 있어 MSE에 루트를 씌운 것\n",
        "- MSLE(Mean Squared Log Error)\n",
        "   - sklearn.metrics.mean_squared_log_error(y_true, y_pred)\n",
        "   - MSE에 로그를 적용해준 지표\n",
        "- RMSLE(Root Mean Square Logarithmic Error)\n",
        "   - RMSE에 로그를 적용해준 지표\n",
        "   - 이상치가 있더라도 변동폭이 크지 않음(이상치에 강건함)\n",
        "   - 실제값보다 예측값이 작을 때 더 큰 패널티 부여\n",
        "   - 작게 예측하면 안되는 경우 사용하면 좋음 (배달 시간 예측)\n",
        "   - 실제값, 예측값에 음수가 있으면 안됨 (오류 발생)\n",
        "- 참조 : https://bkshin.tistory.com/entry/%EB%A8%B8%EC%8B%A0%EB%9F%AC%EB%8B%9D-17-%ED%9A%8C%EA%B7%80-%ED%8F%89%EA%B0%80-%EC%A7%80%ED%91%9C"
      ],
      "metadata": {
        "id": "tIUm-VR0wy9O"
      }
    },
    {
      "cell_type": "markdown",
      "source": [
        "### 3-1.성능평가 함수"
      ],
      "metadata": {
        "id": "ken5C_sI6xBL"
      }
    },
    {
      "cell_type": "code",
      "source": [
        "from sklearn.metrics import r2_score\n",
        "from sklearn.metrics import mean_absolute_error as mae\n",
        "from sklearn.metrics import mean_squared_error as mse\n",
        "from sklearn.metrics import mean_squared_log_error as msle\n",
        "\n",
        "# [29] r2_score, mae, mse, rmse, msle, rmsle 를 구해 반환하는 함수를 작성합니다.\n",
        "# 한 개의 행에 6가지 성능평가 결과를 소수점 아래 4자리까지 표시되도록 하여 작성합니다.\n",
        "def get_scores(model, X, Y):\n",
        "    pass"
      ],
      "metadata": {
        "id": "zFe05b6Uwewx"
      },
      "execution_count": null,
      "outputs": []
    },
    {
      "cell_type": "markdown",
      "source": [
        "### 3-2.모델링 함수"
      ],
      "metadata": {
        "id": "t6W7EcJJ61kU"
      }
    },
    {
      "cell_type": "code",
      "source": [
        "# [30] Model_Train함수를 수정해서\n",
        "# train, test에 대한 6가지 성능평가 결과를 출력하는 Model_Train2 함수를 작성합니다.\n",
        "def Model_Train_2(model, XF, YF, scale=False):\n",
        "    # 7:3 분리, random_state=321  (주의: stratify사용 안함 -> 분류 모델에서만 사용)\n",
        "    if scale:\n",
        "        XF = MinMaxScaler().fit_transform(XF)\n",
        "    xtrain, xtest, ytrain, ytest = train_test_split(XF, YF,\n",
        "                                                    test_size=0.3,\n",
        "                                                    random_state=321)\n",
        "    model.fit(xtrain, ytrain)\n",
        "    #  코드 추가 부분\n",
        "\n",
        "\n",
        "    return model"
      ],
      "metadata": {
        "id": "MJRvdLx613F1"
      },
      "execution_count": null,
      "outputs": []
    },
    {
      "cell_type": "markdown",
      "source": [
        "### 3-3.여러 모델 적용"
      ],
      "metadata": {
        "id": "ar5RnjRV8f4G"
      }
    },
    {
      "cell_type": "code",
      "source": [
        "# [31] Xnormal, Ynormal 데이터 사용, LinearRegression => model1\n"
      ],
      "metadata": {
        "colab": {
          "base_uri": "https://localhost:8080/"
        },
        "id": "DPMCqpmL7UOB",
        "outputId": "f729f4bc-2479-4826-b792-2375e0d0f012"
      },
      "execution_count": null,
      "outputs": [
        {
          "output_type": "stream",
          "name": "stdout",
          "text": [
            "train : r2: 0.9931 mae: 0.2648 mse: 0.1200 msle: 0.0003 rmse: 0.3464 rmsle: 0.0165\n",
            "test : r2: 0.9625 mae: 0.3783 mse: 0.3626 msle: 0.0010 rmse: 0.6022 rmsle: 0.0313\n"
          ]
        },
        {
          "output_type": "execute_result",
          "data": {
            "text/plain": [
              "LinearRegression()"
            ]
          },
          "metadata": {},
          "execution_count": 133
        }
      ]
    },
    {
      "cell_type": "code",
      "source": [
        "# [32] Xpoly3, Ynormal 데이터 사용, LinearRegression => model2\n"
      ],
      "metadata": {
        "id": "CefaJ30077a3"
      },
      "execution_count": null,
      "outputs": []
    },
    {
      "cell_type": "code",
      "source": [
        "# [33] Xlarge, Ylarge 데이터 사용, XGBRegressor => model3\n"
      ],
      "metadata": {
        "id": "KYI76X6R8Hj1"
      },
      "execution_count": null,
      "outputs": []
    },
    {
      "cell_type": "code",
      "source": [
        "# [34] X_submission, Y_hidden 데이터를 사용하여 model1, model2, model3의 성능을 평가하여봄\n",
        "# (실제는 할 수 없음)\n"
      ],
      "metadata": {
        "id": "nIRRRkkO8DR4"
      },
      "execution_count": null,
      "outputs": []
    },
    {
      "cell_type": "code",
      "source": [
        "# [35] 제출파일 만들기 (실제 문제에서 요구하는 형태로 작성해야 함)\n"
      ],
      "metadata": {
        "id": "0QWqC_0Kuiro"
      },
      "execution_count": null,
      "outputs": []
    },
    {
      "cell_type": "code",
      "source": [],
      "metadata": {
        "id": "tlwwVTRCnLCH"
      },
      "execution_count": null,
      "outputs": []
    },
    {
      "cell_type": "markdown",
      "metadata": {
        "id": "XUPWlWuCVYYE"
      },
      "source": [
        "## 4.웹사이트 방문자 예측"
      ]
    },
    {
      "cell_type": "code",
      "metadata": {
        "id": "MIoEz7R4U_D9",
        "colab": {
          "base_uri": "https://localhost:8080/"
        },
        "outputId": "3112debe-2cb5-479d-998a-199ac148314a"
      },
      "source": [
        "!git clone https://github.com/Soyoung-Yoon/bigdata"
      ],
      "execution_count": 147,
      "outputs": [
        {
          "output_type": "stream",
          "name": "stdout",
          "text": [
            "fatal: destination path 'bigdata' already exists and is not an empty directory.\n"
          ]
        }
      ]
    },
    {
      "cell_type": "markdown",
      "source": [
        "### 4-1. 데이터 이해, 생성\n",
        "- 1개 데이터를 나누어 시험용으로 변경해 보는 작업\n",
        "- 실제 시험에서는 이런 과정은 필요 없음\n"
      ],
      "metadata": {
        "id": "_5ler3JINPof"
      }
    },
    {
      "cell_type": "code",
      "source": [
        "# https://www.kaggle.com/bobnau/daily-website-visitors\n",
        "# Daily number of pages loaded\n",
        "# Daily number of visitors from whose IP addresses there haven't been hits on any page in over 6 hours\n",
        "# Number of unique visitors who do not have a cookie identifying them as a previous customer\n",
        "# Number of unique visitors minus first time visitors"
      ],
      "metadata": {
        "id": "YiZ7Sp3Gwp9C"
      },
      "execution_count": 148,
      "outputs": []
    },
    {
      "cell_type": "code",
      "source": [
        "import pandas as pd\n",
        "pd.set_option('display.max_rows', 500)\n",
        "pd.set_option('display.max_columns', 20)\n",
        "pd.set_option('display.float_format', '{:.4f}'.format)"
      ],
      "metadata": {
        "id": "ER-IUCixhHLX"
      },
      "execution_count": 149,
      "outputs": []
    },
    {
      "cell_type": "code",
      "source": [
        "# [1] 'bigdata/daily-website-visitors.csv' 파일 불러오기, shape 확인하기\n",
        "df = pd.read_csv('bigdata/daily-website-visitors.csv')\n",
        "df.shape"
      ],
      "metadata": {
        "id": "axronwtctIX5",
        "colab": {
          "base_uri": "https://localhost:8080/"
        },
        "outputId": "756558b3-0354-425f-9945-59a599e46e5f"
      },
      "execution_count": 150,
      "outputs": [
        {
          "output_type": "execute_result",
          "data": {
            "text/plain": [
              "(2167, 8)"
            ]
          },
          "metadata": {},
          "execution_count": 150
        }
      ]
    },
    {
      "cell_type": "code",
      "source": [
        "# [2] head를 사용해 데이터의 모습 확인\n",
        "# 컬럼명이 대소문자 섞여 있어 사용하기 좋지 않음\n",
        "print(df.head(2))"
      ],
      "metadata": {
        "id": "-_MHO0lifyV0",
        "colab": {
          "base_uri": "https://localhost:8080/"
        },
        "outputId": "f778841a-731b-4875-9ea3-54b63c4554b9"
      },
      "execution_count": 151,
      "outputs": [
        {
          "output_type": "stream",
          "name": "stdout",
          "text": [
            "   Row     Day  Day.Of.Week       Date Page.Loads Unique.Visits  \\\n",
            "0    1  Sunday            1  9/14/2014      2,146         1,582   \n",
            "1    2  Monday            2  9/15/2014      3,621         2,528   \n",
            "\n",
            "  First.Time.Visits Returning.Visits  \n",
            "0             1,430              152  \n",
            "1             2,297              231  \n"
          ]
        }
      ]
    },
    {
      "cell_type": "code",
      "source": [
        "# [3] 컬럼명 정리 - 소문자로 변경, '.'을 '-'로 변경\n",
        "# 시험에서는 컬럼명 정리할 일 없음\n",
        "df.columns = df.columns.str.replace('.', '_', regex=True).str.lower()\n",
        "df.columns"
      ],
      "metadata": {
        "id": "FqihypH0f4Mb",
        "colab": {
          "base_uri": "https://localhost:8080/"
        },
        "outputId": "0e6d6162-c511-4409-d98d-1589121bf644"
      },
      "execution_count": 152,
      "outputs": [
        {
          "output_type": "execute_result",
          "data": {
            "text/plain": [
              "Index(['row', 'day', 'day_of_week', 'date', 'page_loads', 'unique_visits',\n",
              "       'first_time_visits', 'returning_visits'],\n",
              "      dtype='object')"
            ]
          },
          "metadata": {},
          "execution_count": 152
        }
      ]
    },
    {
      "cell_type": "markdown",
      "source": [
        "컬럼 정보\n",
        "- row : 1번 부터 시작하는 일련번호\n",
        "- day : 요일 정보\n",
        "- day_of_week : 요일 정보\n",
        "- date : 날짜 정보\n",
        "- page_loads : 로드된 일별 페이지 수\n",
        "- unique_visits : 6시간 이상 페이지에서 조회되지 않은 IP 주소의 일일 방문자 수\n",
        "- first_time_visits : 이전 고객으로 식별되는 쿠키를 가지고 있지 않은 고유 방문자 수\n",
        "- returning_visits : unique_visits 수에서 first_time_visits 제외"
      ],
      "metadata": {
        "id": "XKttWN_7MNWC"
      }
    },
    {
      "cell_type": "code",
      "source": [
        "# 숫자로 적혀 있어도 object 타입일 수 있음\n",
        "df.dtypes"
      ],
      "metadata": {
        "colab": {
          "base_uri": "https://localhost:8080/"
        },
        "id": "YFekbWnpih7r",
        "outputId": "3b73f53b-3ea6-4e36-ee9a-6343656c518e"
      },
      "execution_count": 153,
      "outputs": [
        {
          "output_type": "execute_result",
          "data": {
            "text/plain": [
              "row                   int64\n",
              "day                  object\n",
              "day_of_week           int64\n",
              "date                 object\n",
              "page_loads           object\n",
              "unique_visits        object\n",
              "first_time_visits    object\n",
              "returning_visits     object\n",
              "dtype: object"
            ]
          },
          "metadata": {},
          "execution_count": 153
        }
      ]
    },
    {
      "cell_type": "code",
      "source": [
        "# [4] unique_visits를 예측하는 값으로 사용할 것이며, 수치데이터 이어야 함\n",
        "# 콤마 제거 후, int로 형변환\n",
        "df['unique_visits']= df['unique_visits'].replace(',', '', regex=True).astype(int)"
      ],
      "metadata": {
        "id": "EoIQUBSAiy-n"
      },
      "execution_count": 154,
      "outputs": []
    },
    {
      "cell_type": "code",
      "source": [
        "from re import X\n",
        "# [5] 시험 형식으로 train, test 데이터로 나누어 저장합니다.  (6:4 비율)\n",
        "train_size = len(df) - int(len(df)*0.4)\n",
        "\n",
        "# 여러 가지 데이터가 고루 섞이도록 해야 함\n",
        "df = df.sample(frac=1, random_state=1234)\n",
        "df['row'] = range(1, len(df)+1)\n",
        "train = df.iloc[:train_size, :]\n",
        "test = df.iloc[train_size:, :]\n",
        "print(train.shape, test.shape)\n",
        "\n",
        "y = 'unique_visits'\n",
        "X_train = train.drop(columns=y)\n",
        "Y_train = train[['row', y]]\n",
        "X_test = test.drop(columns=y)\n",
        "Y_test = test[['row', y]]\n",
        "\n",
        "X_train.to_csv('x_train.csv', index=False)\n",
        "Y_train.to_csv('y_train.csv', index=False)\n",
        "X_test.to_csv('x_test.csv', index=False)\n",
        "Y_test.to_csv('y_test.csv', index=False)"
      ],
      "metadata": {
        "id": "qsEfTqNgfJEg",
        "colab": {
          "base_uri": "https://localhost:8080/"
        },
        "outputId": "6a166267-5341-4612-b72c-d5c9ff403234"
      },
      "execution_count": 155,
      "outputs": [
        {
          "output_type": "stream",
          "name": "stdout",
          "text": [
            "(1301, 8) (866, 8)\n"
          ]
        }
      ]
    },
    {
      "cell_type": "markdown",
      "source": [
        "\n",
        "### 4-2. 데이터 불러오기, 전처리"
      ],
      "metadata": {
        "id": "viF3bn3BNIL6"
      }
    },
    {
      "cell_type": "code",
      "source": [
        "# [1] 데이터 파일 불러오기\n",
        "X_use = pd.read_csv('x_train.csv')\n",
        "X_submission = pd.read_csv('x_test.csv')\n",
        "Y = pd.read_csv('y_train.csv')\n",
        "Y_hidden = pd.read_csv('y_test.csv') # 시험에서는 제공 안 됨"
      ],
      "metadata": {
        "id": "3tYKt8HKhFli"
      },
      "execution_count": 156,
      "outputs": []
    },
    {
      "cell_type": "code",
      "source": [
        "# [2] dfX 만들기, dfX의 info() 확인\n",
        "# use, submission 데이터를 묶어 전처리 하기 위함\n",
        "dfX = pd.concat([X_use, X_submission], ignore_index=True)\n",
        "dfX.info()"
      ],
      "metadata": {
        "id": "XH2HdhV2tl-S",
        "colab": {
          "base_uri": "https://localhost:8080/"
        },
        "outputId": "a004c4cd-08ab-47ad-aa66-993191076d7b"
      },
      "execution_count": 157,
      "outputs": [
        {
          "output_type": "stream",
          "name": "stdout",
          "text": [
            "<class 'pandas.core.frame.DataFrame'>\n",
            "RangeIndex: 2167 entries, 0 to 2166\n",
            "Data columns (total 7 columns):\n",
            " #   Column             Non-Null Count  Dtype \n",
            "---  ------             --------------  ----- \n",
            " 0   row                2167 non-null   int64 \n",
            " 1   day                2167 non-null   object\n",
            " 2   day_of_week        2167 non-null   int64 \n",
            " 3   date               2167 non-null   object\n",
            " 4   page_loads         2167 non-null   object\n",
            " 5   first_time_visits  2167 non-null   object\n",
            " 6   returning_visits   2167 non-null   object\n",
            "dtypes: int64(2), object(5)\n",
            "memory usage: 118.6+ KB\n"
          ]
        }
      ]
    },
    {
      "cell_type": "code",
      "source": [
        "# [3] dfX의 object 값이 어떤 것인지 확인하기 위해 5줄 출력을 합니다.\n",
        "dfX.head()"
      ],
      "metadata": {
        "id": "g2WmU8GliOJT",
        "colab": {
          "base_uri": "https://localhost:8080/",
          "height": 270
        },
        "outputId": "bf5ca465-8a42-4e74-ca1b-ecec42b36737"
      },
      "execution_count": 158,
      "outputs": [
        {
          "output_type": "execute_result",
          "data": {
            "text/plain": [
              "   row       day  day_of_week        date page_loads first_time_visits  \\\n",
              "0    1    Friday            6   6/26/2020      3,555             2,248   \n",
              "1    2  Thursday            5   8/29/2019      4,221             2,477   \n",
              "2    3    Friday            6  11/18/2016      4,767             2,734   \n",
              "3    4  Saturday            7  11/30/2019      3,301             2,053   \n",
              "4    5    Sunday            1    7/5/2020      2,948             1,836   \n",
              "\n",
              "  returning_visits  \n",
              "0              427  \n",
              "1              505  \n",
              "2              690  \n",
              "3              390  \n",
              "4              362  "
            ],
            "text/html": [
              "\n",
              "  <div id=\"df-364cdbae-f96d-4ce3-af43-2c053d8c5d72\">\n",
              "    <div class=\"colab-df-container\">\n",
              "      <div>\n",
              "<style scoped>\n",
              "    .dataframe tbody tr th:only-of-type {\n",
              "        vertical-align: middle;\n",
              "    }\n",
              "\n",
              "    .dataframe tbody tr th {\n",
              "        vertical-align: top;\n",
              "    }\n",
              "\n",
              "    .dataframe thead th {\n",
              "        text-align: right;\n",
              "    }\n",
              "</style>\n",
              "<table border=\"1\" class=\"dataframe\">\n",
              "  <thead>\n",
              "    <tr style=\"text-align: right;\">\n",
              "      <th></th>\n",
              "      <th>row</th>\n",
              "      <th>day</th>\n",
              "      <th>day_of_week</th>\n",
              "      <th>date</th>\n",
              "      <th>page_loads</th>\n",
              "      <th>first_time_visits</th>\n",
              "      <th>returning_visits</th>\n",
              "    </tr>\n",
              "  </thead>\n",
              "  <tbody>\n",
              "    <tr>\n",
              "      <th>0</th>\n",
              "      <td>1</td>\n",
              "      <td>Friday</td>\n",
              "      <td>6</td>\n",
              "      <td>6/26/2020</td>\n",
              "      <td>3,555</td>\n",
              "      <td>2,248</td>\n",
              "      <td>427</td>\n",
              "    </tr>\n",
              "    <tr>\n",
              "      <th>1</th>\n",
              "      <td>2</td>\n",
              "      <td>Thursday</td>\n",
              "      <td>5</td>\n",
              "      <td>8/29/2019</td>\n",
              "      <td>4,221</td>\n",
              "      <td>2,477</td>\n",
              "      <td>505</td>\n",
              "    </tr>\n",
              "    <tr>\n",
              "      <th>2</th>\n",
              "      <td>3</td>\n",
              "      <td>Friday</td>\n",
              "      <td>6</td>\n",
              "      <td>11/18/2016</td>\n",
              "      <td>4,767</td>\n",
              "      <td>2,734</td>\n",
              "      <td>690</td>\n",
              "    </tr>\n",
              "    <tr>\n",
              "      <th>3</th>\n",
              "      <td>4</td>\n",
              "      <td>Saturday</td>\n",
              "      <td>7</td>\n",
              "      <td>11/30/2019</td>\n",
              "      <td>3,301</td>\n",
              "      <td>2,053</td>\n",
              "      <td>390</td>\n",
              "    </tr>\n",
              "    <tr>\n",
              "      <th>4</th>\n",
              "      <td>5</td>\n",
              "      <td>Sunday</td>\n",
              "      <td>1</td>\n",
              "      <td>7/5/2020</td>\n",
              "      <td>2,948</td>\n",
              "      <td>1,836</td>\n",
              "      <td>362</td>\n",
              "    </tr>\n",
              "  </tbody>\n",
              "</table>\n",
              "</div>\n",
              "      <button class=\"colab-df-convert\" onclick=\"convertToInteractive('df-364cdbae-f96d-4ce3-af43-2c053d8c5d72')\"\n",
              "              title=\"Convert this dataframe to an interactive table.\"\n",
              "              style=\"display:none;\">\n",
              "        \n",
              "  <svg xmlns=\"http://www.w3.org/2000/svg\" height=\"24px\"viewBox=\"0 0 24 24\"\n",
              "       width=\"24px\">\n",
              "    <path d=\"M0 0h24v24H0V0z\" fill=\"none\"/>\n",
              "    <path d=\"M18.56 5.44l.94 2.06.94-2.06 2.06-.94-2.06-.94-.94-2.06-.94 2.06-2.06.94zm-11 1L8.5 8.5l.94-2.06 2.06-.94-2.06-.94L8.5 2.5l-.94 2.06-2.06.94zm10 10l.94 2.06.94-2.06 2.06-.94-2.06-.94-.94-2.06-.94 2.06-2.06.94z\"/><path d=\"M17.41 7.96l-1.37-1.37c-.4-.4-.92-.59-1.43-.59-.52 0-1.04.2-1.43.59L10.3 9.45l-7.72 7.72c-.78.78-.78 2.05 0 2.83L4 21.41c.39.39.9.59 1.41.59.51 0 1.02-.2 1.41-.59l7.78-7.78 2.81-2.81c.8-.78.8-2.07 0-2.86zM5.41 20L4 18.59l7.72-7.72 1.47 1.35L5.41 20z\"/>\n",
              "  </svg>\n",
              "      </button>\n",
              "      \n",
              "  <style>\n",
              "    .colab-df-container {\n",
              "      display:flex;\n",
              "      flex-wrap:wrap;\n",
              "      gap: 12px;\n",
              "    }\n",
              "\n",
              "    .colab-df-convert {\n",
              "      background-color: #E8F0FE;\n",
              "      border: none;\n",
              "      border-radius: 50%;\n",
              "      cursor: pointer;\n",
              "      display: none;\n",
              "      fill: #1967D2;\n",
              "      height: 32px;\n",
              "      padding: 0 0 0 0;\n",
              "      width: 32px;\n",
              "    }\n",
              "\n",
              "    .colab-df-convert:hover {\n",
              "      background-color: #E2EBFA;\n",
              "      box-shadow: 0px 1px 2px rgba(60, 64, 67, 0.3), 0px 1px 3px 1px rgba(60, 64, 67, 0.15);\n",
              "      fill: #174EA6;\n",
              "    }\n",
              "\n",
              "    [theme=dark] .colab-df-convert {\n",
              "      background-color: #3B4455;\n",
              "      fill: #D2E3FC;\n",
              "    }\n",
              "\n",
              "    [theme=dark] .colab-df-convert:hover {\n",
              "      background-color: #434B5C;\n",
              "      box-shadow: 0px 1px 3px 1px rgba(0, 0, 0, 0.15);\n",
              "      filter: drop-shadow(0px 1px 2px rgba(0, 0, 0, 0.3));\n",
              "      fill: #FFFFFF;\n",
              "    }\n",
              "  </style>\n",
              "\n",
              "      <script>\n",
              "        const buttonEl =\n",
              "          document.querySelector('#df-364cdbae-f96d-4ce3-af43-2c053d8c5d72 button.colab-df-convert');\n",
              "        buttonEl.style.display =\n",
              "          google.colab.kernel.accessAllowed ? 'block' : 'none';\n",
              "\n",
              "        async function convertToInteractive(key) {\n",
              "          const element = document.querySelector('#df-364cdbae-f96d-4ce3-af43-2c053d8c5d72');\n",
              "          const dataTable =\n",
              "            await google.colab.kernel.invokeFunction('convertToInteractive',\n",
              "                                                     [key], {});\n",
              "          if (!dataTable) return;\n",
              "\n",
              "          const docLinkHtml = 'Like what you see? Visit the ' +\n",
              "            '<a target=\"_blank\" href=https://colab.research.google.com/notebooks/data_table.ipynb>data table notebook</a>'\n",
              "            + ' to learn more about interactive tables.';\n",
              "          element.innerHTML = '';\n",
              "          dataTable['output_type'] = 'display_data';\n",
              "          await google.colab.output.renderOutput(dataTable, element);\n",
              "          const docLink = document.createElement('div');\n",
              "          docLink.innerHTML = docLinkHtml;\n",
              "          element.appendChild(docLink);\n",
              "        }\n",
              "      </script>\n",
              "    </div>\n",
              "  </div>\n",
              "  "
            ]
          },
          "metadata": {},
          "execution_count": 158
        }
      ]
    },
    {
      "cell_type": "code",
      "source": [
        "# [4] 'page_loads', 'first_time_visits', 'returning_visits' 에 대해서\n",
        "#  콤마를 없애고, int로 형변환 합니다\n",
        "# dfX['page_loads'].replace(',', '', regex=True).astype(int)\n",
        "names = ['page_loads', 'first_time_visits', 'returning_visits']\n",
        "dfX[names] = dfX[names].replace(',', '', regex=True).astype(int)\n",
        "dfX.info()"
      ],
      "metadata": {
        "id": "QEkHrVc1tjrN",
        "colab": {
          "base_uri": "https://localhost:8080/"
        },
        "outputId": "7605095e-ba6d-4e5c-f22e-f02543bd68d8"
      },
      "execution_count": 159,
      "outputs": [
        {
          "output_type": "stream",
          "name": "stdout",
          "text": [
            "<class 'pandas.core.frame.DataFrame'>\n",
            "RangeIndex: 2167 entries, 0 to 2166\n",
            "Data columns (total 7 columns):\n",
            " #   Column             Non-Null Count  Dtype \n",
            "---  ------             --------------  ----- \n",
            " 0   row                2167 non-null   int64 \n",
            " 1   day                2167 non-null   object\n",
            " 2   day_of_week        2167 non-null   int64 \n",
            " 3   date               2167 non-null   object\n",
            " 4   page_loads         2167 non-null   int64 \n",
            " 5   first_time_visits  2167 non-null   int64 \n",
            " 6   returning_visits   2167 non-null   int64 \n",
            "dtypes: int64(5), object(2)\n",
            "memory usage: 118.6+ KB\n"
          ]
        }
      ]
    },
    {
      "cell_type": "code",
      "source": [
        "# [5] 'date'에 대해서 datetime64로 형변환 합니다.\n",
        "# dfX['date'] = dfX['date'].astype('datetime64')\n",
        "dfX['date'] = pd.to_datetime(dfX['date'], format='%m/%d/%Y') # 잘 인식 못하면 포맷 알려주기"
      ],
      "metadata": {
        "id": "kUt_sSsht6gR"
      },
      "execution_count": 160,
      "outputs": []
    },
    {
      "cell_type": "code",
      "source": [
        "# [6] 형변환이 올바르게 되었는지 확인합니다.\n",
        "dfX.info()"
      ],
      "metadata": {
        "id": "bGBU2gL0ulz6",
        "colab": {
          "base_uri": "https://localhost:8080/"
        },
        "outputId": "322ae14a-a079-4e70-cda4-e99096bc2774"
      },
      "execution_count": 161,
      "outputs": [
        {
          "output_type": "stream",
          "name": "stdout",
          "text": [
            "<class 'pandas.core.frame.DataFrame'>\n",
            "RangeIndex: 2167 entries, 0 to 2166\n",
            "Data columns (total 7 columns):\n",
            " #   Column             Non-Null Count  Dtype         \n",
            "---  ------             --------------  -----         \n",
            " 0   row                2167 non-null   int64         \n",
            " 1   day                2167 non-null   object        \n",
            " 2   day_of_week        2167 non-null   int64         \n",
            " 3   date               2167 non-null   datetime64[ns]\n",
            " 4   page_loads         2167 non-null   int64         \n",
            " 5   first_time_visits  2167 non-null   int64         \n",
            " 6   returning_visits   2167 non-null   int64         \n",
            "dtypes: datetime64[ns](1), int64(5), object(1)\n",
            "memory usage: 118.6+ KB\n"
          ]
        }
      ]
    },
    {
      "cell_type": "code",
      "source": [
        "# [7] day, day_of_week를 확인해 보면 동일한 데이터 인 것을 알 수 있음\n",
        "# 'day' 컬럼을 제거합니다. -> 이름 새로 부여하는 것이 되돌리기 편함\n",
        "dfX2 = dfX.drop(columns='day')"
      ],
      "metadata": {
        "id": "fexDlnyXkqNQ"
      },
      "execution_count": 162,
      "outputs": []
    },
    {
      "cell_type": "code",
      "source": [
        "# [8] 'date'에서 'year', 'month', 'day'에 대한 정보를 dfX3에 포함시키고, 'date' 를 제거합니다.\n",
        "# 상황에 따라 'quarter' 사용도 고려할 수 있음, 주말/주중으로 나눌 수도 있음 ...\n",
        "date = pd.DataFrame()\n",
        "temp = dfX2['date'].dt\n",
        "date['year'] = temp.year\n",
        "date['month'] = temp.month\n",
        "date['day'] = temp.day\n",
        "dfX3 = dfX2.drop(columns='date')\n",
        "dfX3 = pd.concat([dfX3, date], axis=1)\n",
        "dfX3.info()"
      ],
      "metadata": {
        "id": "TmrffmuzvlZk",
        "colab": {
          "base_uri": "https://localhost:8080/"
        },
        "outputId": "f3e179ce-faae-4fc0-ba55-22eef54d0224"
      },
      "execution_count": 163,
      "outputs": [
        {
          "output_type": "stream",
          "name": "stdout",
          "text": [
            "<class 'pandas.core.frame.DataFrame'>\n",
            "RangeIndex: 2167 entries, 0 to 2166\n",
            "Data columns (total 8 columns):\n",
            " #   Column             Non-Null Count  Dtype\n",
            "---  ------             --------------  -----\n",
            " 0   row                2167 non-null   int64\n",
            " 1   day_of_week        2167 non-null   int64\n",
            " 2   page_loads         2167 non-null   int64\n",
            " 3   first_time_visits  2167 non-null   int64\n",
            " 4   returning_visits   2167 non-null   int64\n",
            " 5   year               2167 non-null   int64\n",
            " 6   month              2167 non-null   int64\n",
            " 7   day                2167 non-null   int64\n",
            "dtypes: int64(8)\n",
            "memory usage: 135.6 KB\n"
          ]
        }
      ]
    },
    {
      "cell_type": "code",
      "source": [
        "# [9] dfX3과 Y를 merge 합니다.\n",
        "# Y와 X의 feature의 관계를 분석해 보기 위해!\n",
        "dfXY = pd.merge(dfX3, Y) # dfXY는 train 데이터로만 구성\n",
        "print(dfXY.shape, dfX3.shape, Y.shape)"
      ],
      "metadata": {
        "id": "ChRTc-WymkNo",
        "colab": {
          "base_uri": "https://localhost:8080/"
        },
        "outputId": "09d1f9b7-20ff-4edd-edc9-7092a47dfdb4"
      },
      "execution_count": 164,
      "outputs": [
        {
          "output_type": "stream",
          "name": "stdout",
          "text": [
            "(1301, 9) (2167, 8) (1301, 2)\n"
          ]
        }
      ]
    },
    {
      "cell_type": "code",
      "source": [
        "# [10] dfXY의 상관계수를 확인한다\n",
        "# 'unique_visits'와 상관이 매우 높은 feature들이 있음 (page_loads, first_time_visits, returning_visits)\n",
        "print(dfXY.corr()['unique_visits'])"
      ],
      "metadata": {
        "id": "3nYOXkR_9QpS",
        "colab": {
          "base_uri": "https://localhost:8080/"
        },
        "outputId": "faf15234-4c1d-4219-ec9c-62cbc2bea67d"
      },
      "execution_count": 165,
      "outputs": [
        {
          "output_type": "stream",
          "name": "stdout",
          "text": [
            "row                  0.0162\n",
            "day_of_week         -0.2592\n",
            "page_loads           0.9885\n",
            "first_time_visits    0.9962\n",
            "returning_visits     0.9059\n",
            "year                 0.0707\n",
            "month               -0.0478\n",
            "day                 -0.0353\n",
            "unique_visits        1.0000\n",
            "Name: unique_visits, dtype: float64\n"
          ]
        }
      ]
    },
    {
      "cell_type": "code",
      "source": [
        "# [11] 'day_of_week' 별 'unique_visits'의 평균을 구해본다.\n",
        "# 2, 3, 4, 5 가 높고 1, 6, 7이 낮은 것을 볼 수 있다.\n",
        "temp = dfXY.groupby('day_of_week')['unique_visits'].mean()\n",
        "temp"
      ],
      "metadata": {
        "id": "ro6K5c64wXuy",
        "colab": {
          "base_uri": "https://localhost:8080/"
        },
        "outputId": "372a1632-eb7d-44f5-a6f7-c7ff820be4a2"
      },
      "execution_count": 166,
      "outputs": [
        {
          "output_type": "execute_result",
          "data": {
            "text/plain": [
              "day_of_week\n",
              "1   2351.3175\n",
              "2   3487.1016\n",
              "3   3590.0156\n",
              "4   3454.6684\n",
              "5   3362.2404\n",
              "6   2680.1477\n",
              "7   1784.1872\n",
              "Name: unique_visits, dtype: float64"
            ]
          },
          "metadata": {},
          "execution_count": 166
        }
      ]
    },
    {
      "cell_type": "code",
      "source": [
        "# [12] 'day_of_week' 별 평균이 높은 것에 대한 데이터를 high_day_of_week로 저장\n",
        "high_day_of_week = temp[temp>3000].index.values\n",
        "high_day_of_week"
      ],
      "metadata": {
        "id": "44C1oXt4mJVy",
        "colab": {
          "base_uri": "https://localhost:8080/"
        },
        "outputId": "d7a4716d-4b62-4eba-d09a-19f5d34f7e76"
      },
      "execution_count": 167,
      "outputs": [
        {
          "output_type": "execute_result",
          "data": {
            "text/plain": [
              "array([2, 3, 4, 5])"
            ]
          },
          "metadata": {},
          "execution_count": 167
        }
      ]
    },
    {
      "cell_type": "code",
      "source": [
        "# [13] 'month' 별 'unique_visits'의 평균을 구해본다.\n",
        "# 2, 3, 4, 5, 10, 11이 높고 1, 6, 7이 낮은 것을 볼 수 있다.\n",
        "temp = dfXY.groupby('month')['unique_visits'].mean()\n",
        "temp"
      ],
      "metadata": {
        "id": "iDZX7wrdnF2M",
        "colab": {
          "base_uri": "https://localhost:8080/"
        },
        "outputId": "b3cb9ac0-082f-47ef-c748-b2c7915f4f1b"
      },
      "execution_count": 168,
      "outputs": [
        {
          "output_type": "execute_result",
          "data": {
            "text/plain": [
              "month\n",
              "1    2504.1947\n",
              "2    3164.8842\n",
              "3    3306.5798\n",
              "4    3835.3818\n",
              "5    3324.8396\n",
              "6    2619.0339\n",
              "7    2315.3505\n",
              "8    2266.5980\n",
              "9    2668.1776\n",
              "10   3188.5345\n",
              "11   3445.1504\n",
              "12   2776.1048\n",
              "Name: unique_visits, dtype: float64"
            ]
          },
          "metadata": {},
          "execution_count": 168
        }
      ]
    },
    {
      "cell_type": "code",
      "source": [
        "# [14] 'month' 별 평균이 높은 것에 대한 데이터를 high_month로 저장\n",
        "high_month = temp[temp>3000].index.values\n",
        "high_month"
      ],
      "metadata": {
        "id": "LLFI4SEtQwd9",
        "colab": {
          "base_uri": "https://localhost:8080/"
        },
        "outputId": "4bb22dfb-197c-4b1e-faa6-6933c0d6a98f"
      },
      "execution_count": 169,
      "outputs": [
        {
          "output_type": "execute_result",
          "data": {
            "text/plain": [
              "array([ 2,  3,  4,  5, 10, 11])"
            ]
          },
          "metadata": {},
          "execution_count": 169
        }
      ]
    },
    {
      "cell_type": "code",
      "source": [
        "# [15] high_day_of_week, high_month의 index 정보를 사용해 파생 변수 생성\n",
        "# dfX3에 높은 평균을 갖는 요일과 달을 1, 아닌 것을 0으로 하는 dow_h, month_h 변수 추가\n",
        "import numpy as np\n",
        "# np.where 조건 주면 참일 때 1 거짓일 때 0\n",
        "# dfX3['dow_h'] = np.where(dfX3['day_of_week'].isin(high_day_of_week), 1, 0)\n",
        "dfX3['dow_h'] = dfX3['day_of_week'].isin(high_day_of_week).astype(int)\n",
        "dfX3['month_h'] = dfX3['month'].isin(high_day_of_week).astype(int)\n",
        "dfX3.head()"
      ],
      "metadata": {
        "id": "Pc2ZUmwOzigZ",
        "colab": {
          "base_uri": "https://localhost:8080/",
          "height": 270
        },
        "outputId": "84afba4c-75a6-48eb-e878-31fa1a17d138"
      },
      "execution_count": 170,
      "outputs": [
        {
          "output_type": "execute_result",
          "data": {
            "text/plain": [
              "   row  day_of_week  page_loads  first_time_visits  returning_visits  year  \\\n",
              "0    1            6        3555               2248               427  2020   \n",
              "1    2            5        4221               2477               505  2019   \n",
              "2    3            6        4767               2734               690  2016   \n",
              "3    4            7        3301               2053               390  2019   \n",
              "4    5            1        2948               1836               362  2020   \n",
              "\n",
              "   month  day  dow_h  month_h  \n",
              "0      6   26      0        0  \n",
              "1      8   29      1        0  \n",
              "2     11   18      0        0  \n",
              "3     11   30      0        0  \n",
              "4      7    5      0        0  "
            ],
            "text/html": [
              "\n",
              "  <div id=\"df-2372826d-f979-4250-93bd-43db462434e3\">\n",
              "    <div class=\"colab-df-container\">\n",
              "      <div>\n",
              "<style scoped>\n",
              "    .dataframe tbody tr th:only-of-type {\n",
              "        vertical-align: middle;\n",
              "    }\n",
              "\n",
              "    .dataframe tbody tr th {\n",
              "        vertical-align: top;\n",
              "    }\n",
              "\n",
              "    .dataframe thead th {\n",
              "        text-align: right;\n",
              "    }\n",
              "</style>\n",
              "<table border=\"1\" class=\"dataframe\">\n",
              "  <thead>\n",
              "    <tr style=\"text-align: right;\">\n",
              "      <th></th>\n",
              "      <th>row</th>\n",
              "      <th>day_of_week</th>\n",
              "      <th>page_loads</th>\n",
              "      <th>first_time_visits</th>\n",
              "      <th>returning_visits</th>\n",
              "      <th>year</th>\n",
              "      <th>month</th>\n",
              "      <th>day</th>\n",
              "      <th>dow_h</th>\n",
              "      <th>month_h</th>\n",
              "    </tr>\n",
              "  </thead>\n",
              "  <tbody>\n",
              "    <tr>\n",
              "      <th>0</th>\n",
              "      <td>1</td>\n",
              "      <td>6</td>\n",
              "      <td>3555</td>\n",
              "      <td>2248</td>\n",
              "      <td>427</td>\n",
              "      <td>2020</td>\n",
              "      <td>6</td>\n",
              "      <td>26</td>\n",
              "      <td>0</td>\n",
              "      <td>0</td>\n",
              "    </tr>\n",
              "    <tr>\n",
              "      <th>1</th>\n",
              "      <td>2</td>\n",
              "      <td>5</td>\n",
              "      <td>4221</td>\n",
              "      <td>2477</td>\n",
              "      <td>505</td>\n",
              "      <td>2019</td>\n",
              "      <td>8</td>\n",
              "      <td>29</td>\n",
              "      <td>1</td>\n",
              "      <td>0</td>\n",
              "    </tr>\n",
              "    <tr>\n",
              "      <th>2</th>\n",
              "      <td>3</td>\n",
              "      <td>6</td>\n",
              "      <td>4767</td>\n",
              "      <td>2734</td>\n",
              "      <td>690</td>\n",
              "      <td>2016</td>\n",
              "      <td>11</td>\n",
              "      <td>18</td>\n",
              "      <td>0</td>\n",
              "      <td>0</td>\n",
              "    </tr>\n",
              "    <tr>\n",
              "      <th>3</th>\n",
              "      <td>4</td>\n",
              "      <td>7</td>\n",
              "      <td>3301</td>\n",
              "      <td>2053</td>\n",
              "      <td>390</td>\n",
              "      <td>2019</td>\n",
              "      <td>11</td>\n",
              "      <td>30</td>\n",
              "      <td>0</td>\n",
              "      <td>0</td>\n",
              "    </tr>\n",
              "    <tr>\n",
              "      <th>4</th>\n",
              "      <td>5</td>\n",
              "      <td>1</td>\n",
              "      <td>2948</td>\n",
              "      <td>1836</td>\n",
              "      <td>362</td>\n",
              "      <td>2020</td>\n",
              "      <td>7</td>\n",
              "      <td>5</td>\n",
              "      <td>0</td>\n",
              "      <td>0</td>\n",
              "    </tr>\n",
              "  </tbody>\n",
              "</table>\n",
              "</div>\n",
              "      <button class=\"colab-df-convert\" onclick=\"convertToInteractive('df-2372826d-f979-4250-93bd-43db462434e3')\"\n",
              "              title=\"Convert this dataframe to an interactive table.\"\n",
              "              style=\"display:none;\">\n",
              "        \n",
              "  <svg xmlns=\"http://www.w3.org/2000/svg\" height=\"24px\"viewBox=\"0 0 24 24\"\n",
              "       width=\"24px\">\n",
              "    <path d=\"M0 0h24v24H0V0z\" fill=\"none\"/>\n",
              "    <path d=\"M18.56 5.44l.94 2.06.94-2.06 2.06-.94-2.06-.94-.94-2.06-.94 2.06-2.06.94zm-11 1L8.5 8.5l.94-2.06 2.06-.94-2.06-.94L8.5 2.5l-.94 2.06-2.06.94zm10 10l.94 2.06.94-2.06 2.06-.94-2.06-.94-.94-2.06-.94 2.06-2.06.94z\"/><path d=\"M17.41 7.96l-1.37-1.37c-.4-.4-.92-.59-1.43-.59-.52 0-1.04.2-1.43.59L10.3 9.45l-7.72 7.72c-.78.78-.78 2.05 0 2.83L4 21.41c.39.39.9.59 1.41.59.51 0 1.02-.2 1.41-.59l7.78-7.78 2.81-2.81c.8-.78.8-2.07 0-2.86zM5.41 20L4 18.59l7.72-7.72 1.47 1.35L5.41 20z\"/>\n",
              "  </svg>\n",
              "      </button>\n",
              "      \n",
              "  <style>\n",
              "    .colab-df-container {\n",
              "      display:flex;\n",
              "      flex-wrap:wrap;\n",
              "      gap: 12px;\n",
              "    }\n",
              "\n",
              "    .colab-df-convert {\n",
              "      background-color: #E8F0FE;\n",
              "      border: none;\n",
              "      border-radius: 50%;\n",
              "      cursor: pointer;\n",
              "      display: none;\n",
              "      fill: #1967D2;\n",
              "      height: 32px;\n",
              "      padding: 0 0 0 0;\n",
              "      width: 32px;\n",
              "    }\n",
              "\n",
              "    .colab-df-convert:hover {\n",
              "      background-color: #E2EBFA;\n",
              "      box-shadow: 0px 1px 2px rgba(60, 64, 67, 0.3), 0px 1px 3px 1px rgba(60, 64, 67, 0.15);\n",
              "      fill: #174EA6;\n",
              "    }\n",
              "\n",
              "    [theme=dark] .colab-df-convert {\n",
              "      background-color: #3B4455;\n",
              "      fill: #D2E3FC;\n",
              "    }\n",
              "\n",
              "    [theme=dark] .colab-df-convert:hover {\n",
              "      background-color: #434B5C;\n",
              "      box-shadow: 0px 1px 3px 1px rgba(0, 0, 0, 0.15);\n",
              "      filter: drop-shadow(0px 1px 2px rgba(0, 0, 0, 0.3));\n",
              "      fill: #FFFFFF;\n",
              "    }\n",
              "  </style>\n",
              "\n",
              "      <script>\n",
              "        const buttonEl =\n",
              "          document.querySelector('#df-2372826d-f979-4250-93bd-43db462434e3 button.colab-df-convert');\n",
              "        buttonEl.style.display =\n",
              "          google.colab.kernel.accessAllowed ? 'block' : 'none';\n",
              "\n",
              "        async function convertToInteractive(key) {\n",
              "          const element = document.querySelector('#df-2372826d-f979-4250-93bd-43db462434e3');\n",
              "          const dataTable =\n",
              "            await google.colab.kernel.invokeFunction('convertToInteractive',\n",
              "                                                     [key], {});\n",
              "          if (!dataTable) return;\n",
              "\n",
              "          const docLinkHtml = 'Like what you see? Visit the ' +\n",
              "            '<a target=\"_blank\" href=https://colab.research.google.com/notebooks/data_table.ipynb>data table notebook</a>'\n",
              "            + ' to learn more about interactive tables.';\n",
              "          element.innerHTML = '';\n",
              "          dataTable['output_type'] = 'display_data';\n",
              "          await google.colab.output.renderOutput(dataTable, element);\n",
              "          const docLink = document.createElement('div');\n",
              "          docLink.innerHTML = docLinkHtml;\n",
              "          element.appendChild(docLink);\n",
              "        }\n",
              "      </script>\n",
              "    </div>\n",
              "  </div>\n",
              "  "
            ]
          },
          "metadata": {},
          "execution_count": 170
        }
      ]
    },
    {
      "cell_type": "markdown",
      "source": [
        "### 4-3.성능평가, 모델링 함수\n"
      ],
      "metadata": {
        "id": "vywUBzy4TETR"
      }
    },
    {
      "cell_type": "code",
      "source": [
        "#[16] 사용할 라이브러리 import\n",
        "# 기능에 대해 함수를 만들고 내가 할 일 정확히 주석으로 표시\n",
        "from sklearn.model_selection import train_test_split\n",
        "from sklearn.linear_model import LinearRegression\n",
        "from sklearn.tree import DecisionTreeRegressor\n",
        "from sklearn.ensemble import RandomForestRegressor\n",
        "from xgboost import XGBRegressor\n",
        "\n",
        "from sklearn.preprocessing import PolynomialFeatures\n",
        "from sklearn.linear_model import Ridge, Lasso"
      ],
      "metadata": {
        "id": "0KjwP8wTSkuh"
      },
      "execution_count": 171,
      "outputs": []
    },
    {
      "cell_type": "code",
      "source": [
        "from sklearn.metrics import r2_score\n",
        "from sklearn.metrics import mean_absolute_error as mae\n",
        "from sklearn.metrics import mean_squared_error as mse\n",
        "from sklearn.metrics import mean_squared_log_error as msle\n",
        "\n",
        "# [17] r2_train, r2_test, mae, mse, rmse, msle, rmsle를 구해\n",
        "#      Series로 반환하는 함수를 작성합니다.\n",
        "def get_scores2(model, xtrain, xtest, ytrain, ytest):\n",
        "    pred1 = model.predict(xtrain) # train\n",
        "    pred2 = model.predict(xtest) # test\n",
        "\n",
        "    # 음수가 있어도 상관없음\n",
        "    A1 = r2_score(ytrain, pred1)\n",
        "    A2 = r2_score(ytest, pred2)\n",
        "    B = mae(ytest, pred2)\n",
        "    C = mse(ytest, pred2)\n",
        "    E = np.sqrt(C) # rmse\n",
        "\n",
        "    # msle, rmsle는 음수 있으면 안 됨\n",
        "    pred2 = np.where(pred2 < 0, 0, pred2) # 음수면 0, 양수면 그대로\n",
        "    D = msle(ytest, pred2)\n",
        "    F = np.sqrt(D) # rmsle\n",
        "    data = [round(x, 4) for x in [A1, A2, B, C, D, E, F]]\n",
        "    names = 'r2_train r2_test mae mse msle rmse rmsle'.split()\n",
        "    scores = pd.Series(data, index=names)\n",
        "    return  scores"
      ],
      "metadata": {
        "id": "AhB-dduFf10t"
      },
      "execution_count": 172,
      "outputs": []
    },
    {
      "cell_type": "code",
      "source": [
        "# [18] 다양한 모델을 만들고 성능을 출력하는 함수 작성\n",
        "# 결과를 DataFrame으로 만듭니다\n",
        "def make_models(xtrain, xtest, ytrain, ytest, n=300, RL=False):\n",
        "    temp = pd.DataFrame()\n",
        "\n",
        "    # if not RL: 더 빠른 결과 얻을 수 있음\n",
        "    model1 = LinearRegression().fit(xtrain, ytrain)\n",
        "    temp['model1'] = get_scores2(model1, xtrain, xtest, ytrain, ytest)\n",
        "\n",
        "    model2 = DecisionTreeRegressor(random_state=0).fit(xtrain, ytrain)\n",
        "    temp['model1'] = get_scores2(model1, xtrain, xtest, ytrain, ytest)\n",
        "\n",
        "    for d in range(3, 9):\n",
        "        model2 = DecisionTreeRegressor(max_depth=d, random_state=0).fit(xtrain, ytrain)\n",
        "        temp[f'model2_{d}'] = get_scores2(model2, xtrain, xtest, ytrain, ytest)\n",
        "\n",
        "    model3 = RandomForestRegressor(random_state=0).fit(xtrain, ytrain)\n",
        "    temp['model3'] = get_scores2(model3, xtrain, xtest, ytrain, ytest)\n",
        "\n",
        "    for d in range(3, 9):\n",
        "        # n = estimate\n",
        "        model3 = RandomForestRegressor(n, max_depth=d, random_state=0).fit(xtrain, ytrain)\n",
        "        temp[f'model3_{d}'] = get_scores2(model3, xtrain, xtest, ytrain, ytest)\n",
        "\n",
        "    model4 = XGBRegressor(objective='reg:squarederror').fit(xtrain, ytrain)\n",
        "    temp['model4'] = get_scores2(model4, xtrain, xtest, ytrain, ytest)\n",
        "\n",
        "    if RL:\n",
        "        for a in [0.0001, 0.0001, 0.01, 0.1, 1, 2]:\n",
        "            model5 = Ridge(alpha=a).fit(xtrain, ytrain)\n",
        "            temp[f'model5_{a}'] = get_scores2(model5, xtrain, xtest, ytrain, ytest)\n",
        "\n",
        "        for a in [0.0001, 0.0001, 0.01, 0.1, 1, 2]:\n",
        "            model6 = Lasso(alpha=a).fit(xtrain, ytrain)\n",
        "            temp[f'model6_{a}'] = get_scores2(model6, xtrain, xtest, ytrain, ytest)\n",
        "\n",
        "    temp = temp.T\n",
        "    temp.insert(2, 'diff', (temp['r2_train'] - temp['r2_test']).abs())\n",
        "\n",
        "    return temp"
      ],
      "metadata": {
        "id": "oTIj_pGIepyQ"
      },
      "execution_count": 173,
      "outputs": []
    },
    {
      "cell_type": "markdown",
      "source": [
        "### 4-4.데이터 분리, 모델적용"
      ],
      "metadata": {
        "id": "-rvYjMCWuxC6"
      }
    },
    {
      "cell_type": "code",
      "source": [
        "dfX3.columns"
      ],
      "metadata": {
        "colab": {
          "base_uri": "https://localhost:8080/"
        },
        "id": "Wa7TBNhlzcRo",
        "outputId": "6e079b67-938b-4cb6-ac61-9b095cb78321"
      },
      "execution_count": 174,
      "outputs": [
        {
          "output_type": "execute_result",
          "data": {
            "text/plain": [
              "Index(['row', 'day_of_week', 'page_loads', 'first_time_visits',\n",
              "       'returning_visits', 'year', 'month', 'day', 'dow_h', 'month_h'],\n",
              "      dtype='object')"
            ]
          },
          "metadata": {},
          "execution_count": 174
        }
      ]
    },
    {
      "cell_type": "code",
      "source": [
        "# [19] 학습에 사용할 feature 선택,\n",
        "# dfX4로 저장\n",
        "# 'page_loads','first_time_visits' => 이것을 사용하면 성능이 무지 좋아요. (높은 상관계수)\n",
        "from sklearn.preprocessing import MinMaxScaler\n",
        "Xfeatures = ['day_of_week', # 'page_loads', 'first_time_visits',\n",
        "             'returning_visits', 'year', 'month', 'day', 'dow_h', 'month_h']\n",
        "dfX4 = dfX3[Xfeatures]\n",
        "dfX4 = MinMaxScaler().fit_transform(dfX4) # dfX4 ndarray 객체\n",
        "print(dfX4.shape, type(dfX4))"
      ],
      "metadata": {
        "id": "5Byg4kqEunL-",
        "colab": {
          "base_uri": "https://localhost:8080/"
        },
        "outputId": "19a92935-81f2-4925-8447-7fb9be3203d0"
      },
      "execution_count": 175,
      "outputs": [
        {
          "output_type": "stream",
          "name": "stdout",
          "text": [
            "(2167, 7) <class 'numpy.ndarray'>\n"
          ]
        }
      ]
    },
    {
      "cell_type": "code",
      "source": [
        "# [20] dfX4 데이터를 X_use, X_submission 으로 다시 분리\n",
        "# dfX4 분리에서는 X_use의 행의 개수 사용\n",
        "# YF, Y_submissionF 생성  Y에서 'unique_visits'만 선택\n",
        "train_size = len(X_use)\n",
        "XF = dfX4[:train_size] # 행 선택, ndarray, DataFrame 모두 가능\n",
        "X_submissionF = dfX4[train_size:] # ndarray는 iloc 안 됨\n",
        "# print(X_useF.shape, X_submissionF.shape)\n",
        "\n",
        "YF = Y['unique_visits']\n",
        "Y_submissionF = Y_hidden['unique_visits']\n",
        "print([x.shape for x in [XF, X_submissionF, YF, Y_submissionF]])"
      ],
      "metadata": {
        "id": "k13UG-bDuLyg",
        "colab": {
          "base_uri": "https://localhost:8080/"
        },
        "outputId": "3a7aeb14-6bed-41bb-bc2a-066facb8fa00"
      },
      "execution_count": 176,
      "outputs": [
        {
          "output_type": "stream",
          "name": "stdout",
          "text": [
            "[(1301, 7), (866, 7), (1301,), (866,)]\n"
          ]
        }
      ]
    },
    {
      "cell_type": "code",
      "source": [
        "# [21] XF, YF 데이터를 사용하여 데이터를 분리하고 make_models를 호출합니다.\n",
        "xtrain, xtest, ytrain, ytest = train_test_split(XF, YF,\n",
        "                                                test_size = 0.3,\n",
        "                                                random_state=1234)\n",
        "print([x.shape for x in [xtrain, xtest, ytrain, ytest]])\n",
        "models = make_models(xtrain, xtest, ytrain, ytest)\n",
        "print(models)"
      ],
      "metadata": {
        "id": "qdPSq0TRj0TM",
        "colab": {
          "base_uri": "https://localhost:8080/"
        },
        "outputId": "2926291c-ae2e-4183-c1a9-5309d099adf9"
      },
      "execution_count": 177,
      "outputs": [
        {
          "output_type": "stream",
          "name": "stdout",
          "text": [
            "[(910, 7), (391, 7), (910,), (391,)]\n",
            "          r2_train  r2_test   diff      mae         mse   msle     rmse  rmsle\n",
            "model1      0.8382   0.8468 0.0086 329.2869 160090.2942 0.0275 400.1129 0.1658\n",
            "model2_3    0.8082   0.8087 0.0005 366.9443 199954.0584 0.0290 447.1622 0.1703\n",
            "model2_4    0.8498   0.8380 0.0118 331.6259 169310.7224 0.0246 411.4738 0.1567\n",
            "model2_5    0.8927   0.8657 0.0270 294.1719 140328.9708 0.0209 374.6051 0.1447\n",
            "model2_6    0.9264   0.8862 0.0402 269.4706 118936.1853 0.0179 344.8713 0.1337\n",
            "model2_7    0.9505   0.9001 0.0504 253.5909 104422.3452 0.0155 323.1445 0.1245\n",
            "model2_8    0.9722   0.9045 0.0677 243.4905  99748.8643 0.0154 315.8304 0.1243\n",
            "model3      0.9908   0.9428 0.0480 191.1919  59748.2672 0.0095 244.4346 0.0974\n",
            "model3_3    0.8376   0.8353 0.0023 340.3314 172109.4281 0.0255 414.8607 0.1596\n",
            "model3_4    0.8824   0.8722 0.0102 296.1204 133586.2727 0.0204 365.4946 0.1427\n",
            "model3_5    0.9218   0.9043 0.0175 251.5942 100003.1519 0.0157 316.2327 0.1253\n",
            "model3_6    0.9451   0.9196 0.0255 229.8474  84004.5133 0.0132 289.8353 0.1149\n",
            "model3_7    0.9637   0.9312 0.0325 211.4334  71846.3344 0.0114 268.0417 0.1069\n",
            "model3_8    0.9756   0.9371 0.0385 201.2607  65677.1078 0.0105 256.2755 0.1023\n",
            "model4      0.9994   0.9669 0.0325 147.0146  34603.1907 0.0051 186.0193 0.0718\n"
          ]
        }
      ]
    },
    {
      "cell_type": "code",
      "source": [
        "# [22] 여러 가지 조건으로 정렬하고 평가할 수 있음\n",
        "print(models.sort_values('rmsle'))"
      ],
      "metadata": {
        "id": "Yk9QmemCqBUB",
        "colab": {
          "base_uri": "https://localhost:8080/"
        },
        "outputId": "b12a3857-5481-474e-abc4-6b97ead10d73"
      },
      "execution_count": 178,
      "outputs": [
        {
          "output_type": "stream",
          "name": "stdout",
          "text": [
            "          r2_train  r2_test   diff      mae         mse   msle     rmse  rmsle\n",
            "model4      0.9994   0.9669 0.0325 147.0146  34603.1907 0.0051 186.0193 0.0718\n",
            "model3      0.9908   0.9428 0.0480 191.1919  59748.2672 0.0095 244.4346 0.0974\n",
            "model3_8    0.9756   0.9371 0.0385 201.2607  65677.1078 0.0105 256.2755 0.1023\n",
            "model3_7    0.9637   0.9312 0.0325 211.4334  71846.3344 0.0114 268.0417 0.1069\n",
            "model3_6    0.9451   0.9196 0.0255 229.8474  84004.5133 0.0132 289.8353 0.1149\n",
            "model2_8    0.9722   0.9045 0.0677 243.4905  99748.8643 0.0154 315.8304 0.1243\n",
            "model2_7    0.9505   0.9001 0.0504 253.5909 104422.3452 0.0155 323.1445 0.1245\n",
            "model3_5    0.9218   0.9043 0.0175 251.5942 100003.1519 0.0157 316.2327 0.1253\n",
            "model2_6    0.9264   0.8862 0.0402 269.4706 118936.1853 0.0179 344.8713 0.1337\n",
            "model3_4    0.8824   0.8722 0.0102 296.1204 133586.2727 0.0204 365.4946 0.1427\n",
            "model2_5    0.8927   0.8657 0.0270 294.1719 140328.9708 0.0209 374.6051 0.1447\n",
            "model2_4    0.8498   0.8380 0.0118 331.6259 169310.7224 0.0246 411.4738 0.1567\n",
            "model3_3    0.8376   0.8353 0.0023 340.3314 172109.4281 0.0255 414.8607 0.1596\n",
            "model1      0.8382   0.8468 0.0086 329.2869 160090.2942 0.0275 400.1129 0.1658\n",
            "model2_3    0.8082   0.8087 0.0005 366.9443 199954.0584 0.0290 447.1622 0.1703\n"
          ]
        }
      ]
    },
    {
      "cell_type": "code",
      "source": [
        "# model4 0.9993 0.9621 0.0372 159.3622 40247.7588 0.0055 200.6184 0.0742\n",
        "# 스케일링 성능 차이 크게 없으면 빼도 됨"
      ],
      "metadata": {
        "id": "7i-8SiAv1Ah2"
      },
      "execution_count": 179,
      "outputs": []
    },
    {
      "cell_type": "code",
      "source": [
        "# [23] Polynomial Regression  + Ridge, Lasso 실행\n",
        "dfX4 = dfX3[Xfeatures]\n",
        "Xscaled = MinMaxScaler().fit_transform(dfX4) # ndarray 객체\n",
        "Xpoly = PolynomialFeatures(degree=3).fit_transform(Xscaled)\n",
        "XF2 = Xpoly[:train_size] # 학습용\n",
        "X_submissionF2 = Xpoly[train_size:] # 제출용\n",
        "\n",
        "xtrain2, xtest2, ytrain2, ytest2 = train_test_split(XF2, YF,\n",
        "                                                test_size = 0.3,\n",
        "                                                random_state=1234)\n",
        "print([x.shape for x in [xtrain, xtest, ytrain, ytest]])\n",
        "models = make_models(xtrain2, xtest2, ytrain2, ytest2, RL=True)\n",
        "print(models)"
      ],
      "metadata": {
        "id": "DgfHbvsbXQ2W",
        "colab": {
          "base_uri": "https://localhost:8080/"
        },
        "outputId": "cf04df6b-ba90-4090-c906-ea937815bfb9"
      },
      "execution_count": 180,
      "outputs": [
        {
          "output_type": "stream",
          "name": "stdout",
          "text": [
            "[(910, 7), (391, 7), (910,), (391,)]\n",
            "               r2_train  r2_test   diff      mae         mse   msle     rmse  \\\n",
            "model1           0.9568   0.9558 0.0010 168.5554  46181.7670 0.0083 214.8994   \n",
            "model2_3         0.8174   0.8061 0.0113 365.0229 202617.1155 0.0290 450.1301   \n",
            "model2_4         0.8623   0.8413 0.0210 332.9303 165872.0714 0.0241 407.2740   \n",
            "model2_5         0.9085   0.8684 0.0401 287.1068 137523.6426 0.0203 370.8418   \n",
            "model2_6         0.9362   0.8789 0.0573 270.4836 126502.6566 0.0190 355.6721   \n",
            "model2_7         0.9583   0.8801 0.0782 269.8526 125306.2979 0.0196 353.9863   \n",
            "model2_8         0.9748   0.8716 0.1032 273.5566 134195.8186 0.0193 366.3275   \n",
            "model3           0.9905   0.9337 0.0568 201.3396  69260.7468 0.0110 263.1744   \n",
            "model3_3         0.8501   0.8398 0.0103 332.3955 167433.0826 0.0250 409.1859   \n",
            "model3_4         0.8970   0.8774 0.0196 291.5608 128084.1302 0.0200 357.8884   \n",
            "model3_5         0.9348   0.9063 0.0285 249.6729  97938.0668 0.0159 312.9506   \n",
            "model3_6         0.9567   0.9188 0.0379 228.5177  84808.1233 0.0139 291.2183   \n",
            "model3_7         0.9702   0.9250 0.0452 217.5264  78322.8789 0.0128 279.8622   \n",
            "model3_8         0.9790   0.9292 0.0498 209.4553  73965.3331 0.0120 271.9657   \n",
            "model4           1.0000   0.9597 0.0403 155.8970  42123.8555 0.0062 205.2410   \n",
            "model5_0.0001    0.9568   0.9559 0.0009 168.4186  46131.9731 0.0083 214.7835   \n",
            "model5_0.01      0.9552   0.9556 0.0004 169.3721  46422.4469 0.0084 215.4587   \n",
            "model5_0.1       0.9474   0.9485 0.0011 184.0917  53832.3410 0.0087 232.0180   \n",
            "model5_1         0.9325   0.9337 0.0012 208.2991  69320.0098 0.0116 263.2869   \n",
            "model5_2         0.9252   0.9255 0.0003 222.0696  77880.1096 0.0137 279.0701   \n",
            "model6_0.0001    0.9533   0.9526 0.0007 174.8507  49519.3270 0.0096 222.5294   \n",
            "model6_0.01      0.9532   0.9530 0.0002 174.3780  49078.6468 0.0091 221.5370   \n",
            "model6_0.1       0.9484   0.9504 0.0020 179.7545  51781.0897 0.0083 227.5546   \n",
            "model6_1         0.9272   0.9311 0.0039 210.6008  72004.6588 0.0116 268.3368   \n",
            "model6_2         0.9159   0.9197 0.0038 228.4075  83884.1185 0.0137 289.6276   \n",
            "\n",
            "               rmsle  \n",
            "model1        0.0913  \n",
            "model2_3      0.1703  \n",
            "model2_4      0.1552  \n",
            "model2_5      0.1425  \n",
            "model2_6      0.1377  \n",
            "model2_7      0.1400  \n",
            "model2_8      0.1390  \n",
            "model3        0.1047  \n",
            "model3_3      0.1582  \n",
            "model3_4      0.1415  \n",
            "model3_5      0.1260  \n",
            "model3_6      0.1178  \n",
            "model3_7      0.1130  \n",
            "model3_8      0.1094  \n",
            "model4        0.0788  \n",
            "model5_0.0001 0.0912  \n",
            "model5_0.01   0.0919  \n",
            "model5_0.1    0.0930  \n",
            "model5_1      0.1075  \n",
            "model5_2      0.1172  \n",
            "model6_0.0001 0.0978  \n",
            "model6_0.01   0.0951  \n",
            "model6_0.1    0.0913  \n",
            "model6_1      0.1078  \n",
            "model6_2      0.1172  \n"
          ]
        }
      ]
    },
    {
      "cell_type": "code",
      "source": [
        "# [24] 여러 가지 조건으로 정렬하고 평가할 수 있음\n",
        "# diff 작은 것 선택하기\n",
        "print(models.sort_values('rmsle'))"
      ],
      "metadata": {
        "id": "Oz_YIYJpsJj5",
        "colab": {
          "base_uri": "https://localhost:8080/"
        },
        "outputId": "d788d133-ddec-45ca-b6e2-f189ff59a191"
      },
      "execution_count": 181,
      "outputs": [
        {
          "output_type": "stream",
          "name": "stdout",
          "text": [
            "               r2_train  r2_test   diff      mae         mse   msle     rmse  \\\n",
            "model4           1.0000   0.9597 0.0403 155.8970  42123.8555 0.0062 205.2410   \n",
            "model5_0.0001    0.9568   0.9559 0.0009 168.4186  46131.9731 0.0083 214.7835   \n",
            "model1           0.9568   0.9558 0.0010 168.5554  46181.7670 0.0083 214.8994   \n",
            "model6_0.1       0.9484   0.9504 0.0020 179.7545  51781.0897 0.0083 227.5546   \n",
            "model5_0.01      0.9552   0.9556 0.0004 169.3721  46422.4469 0.0084 215.4587   \n",
            "model5_0.1       0.9474   0.9485 0.0011 184.0917  53832.3410 0.0087 232.0180   \n",
            "model6_0.01      0.9532   0.9530 0.0002 174.3780  49078.6468 0.0091 221.5370   \n",
            "model6_0.0001    0.9533   0.9526 0.0007 174.8507  49519.3270 0.0096 222.5294   \n",
            "model3           0.9905   0.9337 0.0568 201.3396  69260.7468 0.0110 263.1744   \n",
            "model5_1         0.9325   0.9337 0.0012 208.2991  69320.0098 0.0116 263.2869   \n",
            "model6_1         0.9272   0.9311 0.0039 210.6008  72004.6588 0.0116 268.3368   \n",
            "model3_8         0.9790   0.9292 0.0498 209.4553  73965.3331 0.0120 271.9657   \n",
            "model3_7         0.9702   0.9250 0.0452 217.5264  78322.8789 0.0128 279.8622   \n",
            "model5_2         0.9252   0.9255 0.0003 222.0696  77880.1096 0.0137 279.0701   \n",
            "model6_2         0.9159   0.9197 0.0038 228.4075  83884.1185 0.0137 289.6276   \n",
            "model3_6         0.9567   0.9188 0.0379 228.5177  84808.1233 0.0139 291.2183   \n",
            "model3_5         0.9348   0.9063 0.0285 249.6729  97938.0668 0.0159 312.9506   \n",
            "model2_6         0.9362   0.8789 0.0573 270.4836 126502.6566 0.0190 355.6721   \n",
            "model2_8         0.9748   0.8716 0.1032 273.5566 134195.8186 0.0193 366.3275   \n",
            "model2_7         0.9583   0.8801 0.0782 269.8526 125306.2979 0.0196 353.9863   \n",
            "model3_4         0.8970   0.8774 0.0196 291.5608 128084.1302 0.0200 357.8884   \n",
            "model2_5         0.9085   0.8684 0.0401 287.1068 137523.6426 0.0203 370.8418   \n",
            "model2_4         0.8623   0.8413 0.0210 332.9303 165872.0714 0.0241 407.2740   \n",
            "model3_3         0.8501   0.8398 0.0103 332.3955 167433.0826 0.0250 409.1859   \n",
            "model2_3         0.8174   0.8061 0.0113 365.0229 202617.1155 0.0290 450.1301   \n",
            "\n",
            "               rmsle  \n",
            "model4        0.0788  \n",
            "model5_0.0001 0.0912  \n",
            "model1        0.0913  \n",
            "model6_0.1    0.0913  \n",
            "model5_0.01   0.0919  \n",
            "model5_0.1    0.0930  \n",
            "model6_0.01   0.0951  \n",
            "model6_0.0001 0.0978  \n",
            "model3        0.1047  \n",
            "model5_1      0.1075  \n",
            "model6_1      0.1078  \n",
            "model3_8      0.1094  \n",
            "model3_7      0.1130  \n",
            "model5_2      0.1172  \n",
            "model6_2      0.1172  \n",
            "model3_6      0.1178  \n",
            "model3_5      0.1260  \n",
            "model2_6      0.1377  \n",
            "model2_8      0.1390  \n",
            "model2_7      0.1400  \n",
            "model3_4      0.1415  \n",
            "model2_5      0.1425  \n",
            "model2_4      0.1552  \n",
            "model3_3      0.1582  \n",
            "model2_3      0.1703  \n"
          ]
        }
      ]
    },
    {
      "cell_type": "code",
      "source": [
        "# [TIP] 학습 중 warning 메시지 없애기\n",
        "import warnings\n",
        "warnings.filterwarnings('ignore')"
      ],
      "metadata": {
        "id": "1d0GamF9cG0G"
      },
      "execution_count": 182,
      "outputs": []
    },
    {
      "cell_type": "markdown",
      "source": [
        "### 4-5. 모델 선택, 결과 제출"
      ],
      "metadata": {
        "id": "yZLKTfQMXDpL"
      }
    },
    {
      "cell_type": "code",
      "source": [
        "# [25] xtrain, ytrain으로 모델 학습시켜 model 로 저장\n",
        "model = XGBRegressor(objective='reg:squarederror').fit(xtrain, ytrain)\n",
        "print(get_scores2(model, xtrain, xtest, ytrain, ytest))"
      ],
      "metadata": {
        "id": "jy0NcFz9OiLa",
        "colab": {
          "base_uri": "https://localhost:8080/"
        },
        "outputId": "294bfab2-6e7d-4b81-c3b7-fd095051cc2f"
      },
      "execution_count": 183,
      "outputs": [
        {
          "output_type": "stream",
          "name": "stdout",
          "text": [
            "r2_train       0.9994\n",
            "r2_test        0.9669\n",
            "mae          147.0146\n",
            "mse        34603.1907\n",
            "msle           0.0051\n",
            "rmse         186.0193\n",
            "rmsle          0.0718\n",
            "dtype: float64\n"
          ]
        }
      ]
    },
    {
      "cell_type": "code",
      "source": [
        "# [26] X_submissionF 데이터로 pred 구하고 submission DataFrame 생성\n",
        "pred = model.predict(X_submissionF)\n",
        "submission = pd.DataFrame({'row': X_submission['row'],\n",
        "                           'unique_visits': pred})\n",
        "submission.head()"
      ],
      "metadata": {
        "id": "tZNHCVbswAZm",
        "colab": {
          "base_uri": "https://localhost:8080/",
          "height": 206
        },
        "outputId": "df1bac98-6aa4-4fa8-fa8c-abcc78ba63fc"
      },
      "execution_count": 184,
      "outputs": [
        {
          "output_type": "execute_result",
          "data": {
            "text/plain": [
              "    row  unique_visits\n",
              "0  1302      2581.8340\n",
              "1  1303      4323.0298\n",
              "2  1304      3267.1562\n",
              "3  1305      2613.6570\n",
              "4  1306      1258.7683"
            ],
            "text/html": [
              "\n",
              "  <div id=\"df-ffad00a4-00fc-4cf0-ac61-090180d30c32\">\n",
              "    <div class=\"colab-df-container\">\n",
              "      <div>\n",
              "<style scoped>\n",
              "    .dataframe tbody tr th:only-of-type {\n",
              "        vertical-align: middle;\n",
              "    }\n",
              "\n",
              "    .dataframe tbody tr th {\n",
              "        vertical-align: top;\n",
              "    }\n",
              "\n",
              "    .dataframe thead th {\n",
              "        text-align: right;\n",
              "    }\n",
              "</style>\n",
              "<table border=\"1\" class=\"dataframe\">\n",
              "  <thead>\n",
              "    <tr style=\"text-align: right;\">\n",
              "      <th></th>\n",
              "      <th>row</th>\n",
              "      <th>unique_visits</th>\n",
              "    </tr>\n",
              "  </thead>\n",
              "  <tbody>\n",
              "    <tr>\n",
              "      <th>0</th>\n",
              "      <td>1302</td>\n",
              "      <td>2581.8340</td>\n",
              "    </tr>\n",
              "    <tr>\n",
              "      <th>1</th>\n",
              "      <td>1303</td>\n",
              "      <td>4323.0298</td>\n",
              "    </tr>\n",
              "    <tr>\n",
              "      <th>2</th>\n",
              "      <td>1304</td>\n",
              "      <td>3267.1562</td>\n",
              "    </tr>\n",
              "    <tr>\n",
              "      <th>3</th>\n",
              "      <td>1305</td>\n",
              "      <td>2613.6570</td>\n",
              "    </tr>\n",
              "    <tr>\n",
              "      <th>4</th>\n",
              "      <td>1306</td>\n",
              "      <td>1258.7683</td>\n",
              "    </tr>\n",
              "  </tbody>\n",
              "</table>\n",
              "</div>\n",
              "      <button class=\"colab-df-convert\" onclick=\"convertToInteractive('df-ffad00a4-00fc-4cf0-ac61-090180d30c32')\"\n",
              "              title=\"Convert this dataframe to an interactive table.\"\n",
              "              style=\"display:none;\">\n",
              "        \n",
              "  <svg xmlns=\"http://www.w3.org/2000/svg\" height=\"24px\"viewBox=\"0 0 24 24\"\n",
              "       width=\"24px\">\n",
              "    <path d=\"M0 0h24v24H0V0z\" fill=\"none\"/>\n",
              "    <path d=\"M18.56 5.44l.94 2.06.94-2.06 2.06-.94-2.06-.94-.94-2.06-.94 2.06-2.06.94zm-11 1L8.5 8.5l.94-2.06 2.06-.94-2.06-.94L8.5 2.5l-.94 2.06-2.06.94zm10 10l.94 2.06.94-2.06 2.06-.94-2.06-.94-.94-2.06-.94 2.06-2.06.94z\"/><path d=\"M17.41 7.96l-1.37-1.37c-.4-.4-.92-.59-1.43-.59-.52 0-1.04.2-1.43.59L10.3 9.45l-7.72 7.72c-.78.78-.78 2.05 0 2.83L4 21.41c.39.39.9.59 1.41.59.51 0 1.02-.2 1.41-.59l7.78-7.78 2.81-2.81c.8-.78.8-2.07 0-2.86zM5.41 20L4 18.59l7.72-7.72 1.47 1.35L5.41 20z\"/>\n",
              "  </svg>\n",
              "      </button>\n",
              "      \n",
              "  <style>\n",
              "    .colab-df-container {\n",
              "      display:flex;\n",
              "      flex-wrap:wrap;\n",
              "      gap: 12px;\n",
              "    }\n",
              "\n",
              "    .colab-df-convert {\n",
              "      background-color: #E8F0FE;\n",
              "      border: none;\n",
              "      border-radius: 50%;\n",
              "      cursor: pointer;\n",
              "      display: none;\n",
              "      fill: #1967D2;\n",
              "      height: 32px;\n",
              "      padding: 0 0 0 0;\n",
              "      width: 32px;\n",
              "    }\n",
              "\n",
              "    .colab-df-convert:hover {\n",
              "      background-color: #E2EBFA;\n",
              "      box-shadow: 0px 1px 2px rgba(60, 64, 67, 0.3), 0px 1px 3px 1px rgba(60, 64, 67, 0.15);\n",
              "      fill: #174EA6;\n",
              "    }\n",
              "\n",
              "    [theme=dark] .colab-df-convert {\n",
              "      background-color: #3B4455;\n",
              "      fill: #D2E3FC;\n",
              "    }\n",
              "\n",
              "    [theme=dark] .colab-df-convert:hover {\n",
              "      background-color: #434B5C;\n",
              "      box-shadow: 0px 1px 3px 1px rgba(0, 0, 0, 0.15);\n",
              "      filter: drop-shadow(0px 1px 2px rgba(0, 0, 0, 0.3));\n",
              "      fill: #FFFFFF;\n",
              "    }\n",
              "  </style>\n",
              "\n",
              "      <script>\n",
              "        const buttonEl =\n",
              "          document.querySelector('#df-ffad00a4-00fc-4cf0-ac61-090180d30c32 button.colab-df-convert');\n",
              "        buttonEl.style.display =\n",
              "          google.colab.kernel.accessAllowed ? 'block' : 'none';\n",
              "\n",
              "        async function convertToInteractive(key) {\n",
              "          const element = document.querySelector('#df-ffad00a4-00fc-4cf0-ac61-090180d30c32');\n",
              "          const dataTable =\n",
              "            await google.colab.kernel.invokeFunction('convertToInteractive',\n",
              "                                                     [key], {});\n",
              "          if (!dataTable) return;\n",
              "\n",
              "          const docLinkHtml = 'Like what you see? Visit the ' +\n",
              "            '<a target=\"_blank\" href=https://colab.research.google.com/notebooks/data_table.ipynb>data table notebook</a>'\n",
              "            + ' to learn more about interactive tables.';\n",
              "          element.innerHTML = '';\n",
              "          dataTable['output_type'] = 'display_data';\n",
              "          await google.colab.output.renderOutput(dataTable, element);\n",
              "          const docLink = document.createElement('div');\n",
              "          docLink.innerHTML = docLinkHtml;\n",
              "          element.appendChild(docLink);\n",
              "        }\n",
              "      </script>\n",
              "    </div>\n",
              "  </div>\n",
              "  "
            ]
          },
          "metadata": {},
          "execution_count": 184
        }
      ]
    },
    {
      "cell_type": "code",
      "source": [
        "# [27] xtrain2, ytrain2으로 모델 학습시켜 model 로 저장\n",
        "model = Lasso(alpha=0.1).fit(xtrain2, ytrain2)\n",
        "print(get_scores2(model, xtrain2, xtest2, ytrain2, ytest2))"
      ],
      "metadata": {
        "id": "g5lXhgCguFVC",
        "colab": {
          "base_uri": "https://localhost:8080/"
        },
        "outputId": "192aba21-d32f-4b02-df85-fe14ccab82bb"
      },
      "execution_count": 185,
      "outputs": [
        {
          "output_type": "stream",
          "name": "stdout",
          "text": [
            "r2_train       0.9484\n",
            "r2_test        0.9504\n",
            "mae          179.7545\n",
            "mse        51781.0897\n",
            "msle           0.0083\n",
            "rmse         227.5546\n",
            "rmsle          0.0913\n",
            "dtype: float64\n"
          ]
        }
      ]
    },
    {
      "cell_type": "code",
      "source": [
        "# [28] X_submissionF2 데이터로 pred 구하고 submission DataFrame 생성\n",
        "pred = model.predict(X_submissionF2)\n",
        "submission = pd.DataFrame({'row': X_submission['row'],\n",
        "                           'unique_visits': pred})\n",
        "submission.head()"
      ],
      "metadata": {
        "id": "0lP6ThERuE5q",
        "colab": {
          "base_uri": "https://localhost:8080/",
          "height": 206
        },
        "outputId": "b38a9c88-7de2-4202-d327-fcd7a04fcc23"
      },
      "execution_count": 189,
      "outputs": [
        {
          "output_type": "execute_result",
          "data": {
            "text/plain": [
              "    row  unique_visits\n",
              "0  1302      2633.2580\n",
              "1  1303      4159.4033\n",
              "2  1304      3277.1541\n",
              "3  1305      2716.4791\n",
              "4  1306      1226.6906"
            ],
            "text/html": [
              "\n",
              "  <div id=\"df-025ea17c-c1e4-4447-bf86-6f558b916069\">\n",
              "    <div class=\"colab-df-container\">\n",
              "      <div>\n",
              "<style scoped>\n",
              "    .dataframe tbody tr th:only-of-type {\n",
              "        vertical-align: middle;\n",
              "    }\n",
              "\n",
              "    .dataframe tbody tr th {\n",
              "        vertical-align: top;\n",
              "    }\n",
              "\n",
              "    .dataframe thead th {\n",
              "        text-align: right;\n",
              "    }\n",
              "</style>\n",
              "<table border=\"1\" class=\"dataframe\">\n",
              "  <thead>\n",
              "    <tr style=\"text-align: right;\">\n",
              "      <th></th>\n",
              "      <th>row</th>\n",
              "      <th>unique_visits</th>\n",
              "    </tr>\n",
              "  </thead>\n",
              "  <tbody>\n",
              "    <tr>\n",
              "      <th>0</th>\n",
              "      <td>1302</td>\n",
              "      <td>2633.2580</td>\n",
              "    </tr>\n",
              "    <tr>\n",
              "      <th>1</th>\n",
              "      <td>1303</td>\n",
              "      <td>4159.4033</td>\n",
              "    </tr>\n",
              "    <tr>\n",
              "      <th>2</th>\n",
              "      <td>1304</td>\n",
              "      <td>3277.1541</td>\n",
              "    </tr>\n",
              "    <tr>\n",
              "      <th>3</th>\n",
              "      <td>1305</td>\n",
              "      <td>2716.4791</td>\n",
              "    </tr>\n",
              "    <tr>\n",
              "      <th>4</th>\n",
              "      <td>1306</td>\n",
              "      <td>1226.6906</td>\n",
              "    </tr>\n",
              "  </tbody>\n",
              "</table>\n",
              "</div>\n",
              "      <button class=\"colab-df-convert\" onclick=\"convertToInteractive('df-025ea17c-c1e4-4447-bf86-6f558b916069')\"\n",
              "              title=\"Convert this dataframe to an interactive table.\"\n",
              "              style=\"display:none;\">\n",
              "        \n",
              "  <svg xmlns=\"http://www.w3.org/2000/svg\" height=\"24px\"viewBox=\"0 0 24 24\"\n",
              "       width=\"24px\">\n",
              "    <path d=\"M0 0h24v24H0V0z\" fill=\"none\"/>\n",
              "    <path d=\"M18.56 5.44l.94 2.06.94-2.06 2.06-.94-2.06-.94-.94-2.06-.94 2.06-2.06.94zm-11 1L8.5 8.5l.94-2.06 2.06-.94-2.06-.94L8.5 2.5l-.94 2.06-2.06.94zm10 10l.94 2.06.94-2.06 2.06-.94-2.06-.94-.94-2.06-.94 2.06-2.06.94z\"/><path d=\"M17.41 7.96l-1.37-1.37c-.4-.4-.92-.59-1.43-.59-.52 0-1.04.2-1.43.59L10.3 9.45l-7.72 7.72c-.78.78-.78 2.05 0 2.83L4 21.41c.39.39.9.59 1.41.59.51 0 1.02-.2 1.41-.59l7.78-7.78 2.81-2.81c.8-.78.8-2.07 0-2.86zM5.41 20L4 18.59l7.72-7.72 1.47 1.35L5.41 20z\"/>\n",
              "  </svg>\n",
              "      </button>\n",
              "      \n",
              "  <style>\n",
              "    .colab-df-container {\n",
              "      display:flex;\n",
              "      flex-wrap:wrap;\n",
              "      gap: 12px;\n",
              "    }\n",
              "\n",
              "    .colab-df-convert {\n",
              "      background-color: #E8F0FE;\n",
              "      border: none;\n",
              "      border-radius: 50%;\n",
              "      cursor: pointer;\n",
              "      display: none;\n",
              "      fill: #1967D2;\n",
              "      height: 32px;\n",
              "      padding: 0 0 0 0;\n",
              "      width: 32px;\n",
              "    }\n",
              "\n",
              "    .colab-df-convert:hover {\n",
              "      background-color: #E2EBFA;\n",
              "      box-shadow: 0px 1px 2px rgba(60, 64, 67, 0.3), 0px 1px 3px 1px rgba(60, 64, 67, 0.15);\n",
              "      fill: #174EA6;\n",
              "    }\n",
              "\n",
              "    [theme=dark] .colab-df-convert {\n",
              "      background-color: #3B4455;\n",
              "      fill: #D2E3FC;\n",
              "    }\n",
              "\n",
              "    [theme=dark] .colab-df-convert:hover {\n",
              "      background-color: #434B5C;\n",
              "      box-shadow: 0px 1px 3px 1px rgba(0, 0, 0, 0.15);\n",
              "      filter: drop-shadow(0px 1px 2px rgba(0, 0, 0, 0.3));\n",
              "      fill: #FFFFFF;\n",
              "    }\n",
              "  </style>\n",
              "\n",
              "      <script>\n",
              "        const buttonEl =\n",
              "          document.querySelector('#df-025ea17c-c1e4-4447-bf86-6f558b916069 button.colab-df-convert');\n",
              "        buttonEl.style.display =\n",
              "          google.colab.kernel.accessAllowed ? 'block' : 'none';\n",
              "\n",
              "        async function convertToInteractive(key) {\n",
              "          const element = document.querySelector('#df-025ea17c-c1e4-4447-bf86-6f558b916069');\n",
              "          const dataTable =\n",
              "            await google.colab.kernel.invokeFunction('convertToInteractive',\n",
              "                                                     [key], {});\n",
              "          if (!dataTable) return;\n",
              "\n",
              "          const docLinkHtml = 'Like what you see? Visit the ' +\n",
              "            '<a target=\"_blank\" href=https://colab.research.google.com/notebooks/data_table.ipynb>data table notebook</a>'\n",
              "            + ' to learn more about interactive tables.';\n",
              "          element.innerHTML = '';\n",
              "          dataTable['output_type'] = 'display_data';\n",
              "          await google.colab.output.renderOutput(dataTable, element);\n",
              "          const docLink = document.createElement('div');\n",
              "          docLink.innerHTML = docLinkHtml;\n",
              "          element.appendChild(docLink);\n",
              "        }\n",
              "      </script>\n",
              "    </div>\n",
              "  </div>\n",
              "  "
            ]
          },
          "metadata": {},
          "execution_count": 189
        }
      ]
    },
    {
      "cell_type": "code",
      "source": [
        "# [29] 파일로 저장\n",
        "submission.to_csv('00001000.csv', index=False)"
      ],
      "metadata": {
        "id": "msbGSDVIwpdy"
      },
      "execution_count": 190,
      "outputs": []
    },
    {
      "cell_type": "markdown",
      "source": [
        "### 4-6.시험보러 가서는 이렇게\n",
        "- 직접 코드를 작성해 보세요."
      ],
      "metadata": {
        "id": "ppYH817ASPvp"
      }
    },
    {
      "cell_type": "code",
      "source": [
        "import pandas as pd\n",
        "import numpy as np\n",
        "pd.options.display.max_rows = 500\n",
        "pd.options.display.max_columns = 20\n",
        "pd.set_option('display.float_format', '{:.4f}'.format)\n",
        "\n",
        "from sklearn.model_selection import train_test_split\n",
        "from sklearn.linear_model import LinearRegression\n",
        "from sklearn.tree import DecisionTreeRegressor\n",
        "from sklearn.ensemble import RandomForestRegressor\n",
        "from xgboost import XGBRegressor\n",
        "from sklearn.preprocessing import MinMaxScaler\n",
        "\n",
        "from sklearn.metrics import r2_score\n",
        "# from sklearn.metrics import mean_absolute_error as mae\n",
        "# from sklearn.metrics import mean_squared_error as mse\n",
        "# from sklearn.metrics import mean_squared_log_error as msle\n",
        "\n",
        "def get_scores_f(model, xtrain, xtest, ytrain, ytest):\n",
        "    pred1 = model.predict(xtrain)\n",
        "    pred2 = model.predict(xtest)\n",
        "\n",
        "    A1 = r2_score(ytrain, pred1)\n",
        "    A2 = r2_score(ytest, pred2)\n",
        "\n",
        "    pred2 = np.where(pred2 < 0, 0, pred2)\n",
        "    B = msle(ytest, pred2)\n",
        "    C = np.sqrt(B)\n",
        "    data = [round(x, 4) for x in [A1, A2, C]]\n",
        "    names = 'r2_train r2_test rmsle'.split()\n",
        "    scores = pd.Series(data, index=names)\n",
        "    return scores\n",
        "\n",
        "def make_models_f(xtrain, xtest, ytrain, ytest, n=300):\n",
        "    temp = pd.DataFrame()\n",
        "\n",
        "    model1 = LinearRegression().fit(xtrain, ytrain)\n",
        "    temp['model1'] = get_scores_f(model1, xtrain, xtest, ytrain, ytest)\n",
        "\n",
        "    model2 = DecisionTreeRegressor(random_state=0).fit(xtrain, ytrain)\n",
        "    temp['model1'] = get_scores_f(model1, xtrain, xtest, ytrain, ytest)\n",
        "\n",
        "    for d in range(3, 9):\n",
        "        model2 = DecisionTreeRegressor(max_depth=d, random_state=0).fit(xtrain, ytrain)\n",
        "        temp[f'model2_{d}'] = get_scores_f(model2, xtrain, xtest, ytrain, ytest)\n",
        "\n",
        "    model3 = RandomForestRegressor(random_state=0).fit(xtrain, ytrain)\n",
        "    temp['model3'] = get_scores_f(model3, xtrain, xtest, ytrain, ytest)\n",
        "\n",
        "    for d in range(3, 9):\n",
        "        model3 = RandomForestRegressor(n, max_depth=d, random_state=0).fit(xtrain, ytrain)\n",
        "        temp[f'model3_{d}'] = get_scores_f(model3, xtrain, xtest, ytrain, ytest)\n",
        "\n",
        "    model4 = XGBRegressor(objective='reg:squarederror').fit(xtrain, ytrain)\n",
        "    temp['model4'] = get_scores_f(model4, xtrain, xtest, ytrain, ytest)\n",
        "\n",
        "    return temp\n",
        "\n",
        "X_use = pd.read_csv('x_train.csv')\n",
        "X_submission = pd.read_csv('x_test.csv')\n",
        "Y = pd.read_csv('y_train.csv')\n",
        "\n",
        "dfX = pd.concat([X_use, X_submission], ignore_index=True)\n",
        "names = ['page_loads', 'first_time_visits', 'returning_visits']\n",
        "dfX[names] = dfX[names].replace(',', '', regex=True).astype(int)\n",
        "\n",
        "dfX['date'] = pd.to_datetime(dfX['date'], format='%m/%d/%Y')\n",
        "dfX2 = dfX.drop(columns='day')\n",
        "\n",
        "date = pd.DataFrame()\n",
        "temp = dfX2['date'].dt\n",
        "date['year'] = temp.year\n",
        "date['month'] = temp.month\n",
        "date['day'] = temp.day\n",
        "dfX3 = dfX2.drop(columns='date')\n",
        "dfX3 = pd.concat([dfX3, date], axis=1)\n",
        "\n",
        "# 주어진 피처 모두 사용\n",
        "Xfeatures = ['day_of_week', 'page_loads', 'first_time_visits'\n",
        "             'returning_visits', 'year', 'month', 'day']\n",
        "dfX4 = dfX3[Xfeatures]\n",
        "\n",
        "train_size = len(X_use)\n",
        "XF = dfX4[:train_size]\n",
        "X_submissionF = dfX4[train_size:]\n",
        "YF = Y['unique_visits']\n",
        "\n",
        "xtrain, xtest, ytrain, ytest = train_test_split(XF, YF,\n",
        "                                                test_size = 0.3,\n",
        "                                                random_state=1234)\n",
        "models = make_models(xtrain, xtest, ytrain, ytest)\n",
        "\n",
        "model = XGBRegressor(objective='reg:squarederror').fit(xtrain, ytrain)\n",
        "pred = model.predict(X_submissionF)\n",
        "submission = pd.DataFrame({'row': X_submission['row'],\n",
        "                           'unique_visits': pred})\n",
        "\n",
        "submission.to_csv('00001000.csv', index=False)"
      ],
      "metadata": {
        "id": "RwI9-nLUSWmf"
      },
      "execution_count": 197,
      "outputs": []
    },
    {
      "cell_type": "code",
      "source": [
        "print(get_scores_f(model, xtrain, xtest, ytrain, ytest))"
      ],
      "metadata": {
        "id": "rNYOM0oGXK4J",
        "outputId": "6655c8c1-bc47-4904-89bb-3873282afb4c",
        "colab": {
          "base_uri": "https://localhost:8080/"
        }
      },
      "execution_count": 198,
      "outputs": [
        {
          "output_type": "stream",
          "name": "stdout",
          "text": [
            "r2_train   0.9995\n",
            "r2_test    0.9640\n",
            "rmsle      0.0743\n",
            "dtype: float64\n"
          ]
        }
      ]
    },
    {
      "cell_type": "markdown",
      "source": [
        "## 5.보험 예측"
      ],
      "metadata": {
        "id": "TLifMZixB8Bp"
      }
    },
    {
      "cell_type": "code",
      "source": [
        "!git clone https://github.com/Soyoung-Yoon/bigdata"
      ],
      "metadata": {
        "id": "Mo8vMQXZyVrR",
        "colab": {
          "base_uri": "https://localhost:8080/"
        },
        "outputId": "45d96ac1-47d6-41a3-943a-b26c144a3072"
      },
      "execution_count": null,
      "outputs": [
        {
          "output_type": "stream",
          "name": "stdout",
          "text": [
            "Cloning into 'bigdata'...\n",
            "remote: Enumerating objects: 41, done.\u001b[K\n",
            "remote: Counting objects: 100% (41/41), done.\u001b[K\n",
            "remote: Compressing objects: 100% (41/41), done.\u001b[K\n",
            "remote: Total 41 (delta 11), reused 0 (delta 0), pack-reused 0\u001b[K\n",
            "Unpacking objects: 100% (41/41), done.\n"
          ]
        }
      ]
    },
    {
      "cell_type": "markdown",
      "source": [
        "### 5-1. 데이터 이해, 생성\n",
        "- 1개 데이터를 나누어 시험용으로 변경해 보는 작업\n",
        "- 실제 시험에서는 이런 과정은 필요 없음\n"
      ],
      "metadata": {
        "id": "xzQnxTtRzEOt"
      }
    },
    {
      "cell_type": "code",
      "source": [
        "# https://www.kaggle.com/qusaybtoush/insurance-forecast-by-using-linear-regression\n",
        "# Age: age of primary beneficiary\n",
        "# Sex: insurance contractor gender, female, male\n",
        "# bmi: Body mass index, providing an understanding of body, weights that are relatively high or low relative to height, objective index of body weight (kg / m ^ 2) using the ratio of height to weight, ideally 18.5 to 24.9\n",
        "# Children: Number of children covered by health insurance / Number of dependents\n",
        "# Smoker: Smoking\n",
        "# Region: the beneficiary's residential area in the US, northeast, southeast, southwest, northwest.\n",
        "# Charges: Individual medical costs billed by health insurance"
      ],
      "metadata": {
        "id": "qGvDHQe_E0yz"
      },
      "execution_count": null,
      "outputs": []
    },
    {
      "cell_type": "markdown",
      "source": [
        "컬럼 정보\n",
        "- age : 1차 수혜자 연령\n",
        "- sex : 보험 계약자 성별\n",
        "- bmi : 비만도 지수\n",
        "- children : 건강보험 적용 대상 아동 수\n",
        "- smoker : 흡연여부\n",
        "- regioin : 거주지역\n",
        "- charges : 의료 보험에서 청구하는 개별 의료비"
      ],
      "metadata": {
        "id": "h-lu6yPVzY52"
      }
    },
    {
      "cell_type": "code",
      "source": [
        "# [0] 사용 라이브러리 import\n",
        "import pandas as pd\n",
        "\n",
        "# 데이타가 많은경우 모두 출력 안되고 ... 으로 생략해서 출력됨.\n",
        "pd.set_option('max_rows',500)    #출력할 max row를 지정\n",
        "pd.set_option('max_columns',20)  #출력할 max columns를 지정\n",
        "#출력 format 지정 - 소수점아래 4자리까지\n",
        "pd.set_option('display.float_format', '{:.4f}'.format)"
      ],
      "metadata": {
        "id": "d78mXwPF7fIf"
      },
      "execution_count": null,
      "outputs": []
    },
    {
      "cell_type": "code",
      "source": [
        "# [1] 'bigdata/insurance.csv' 파일 불러오기, shape 확인하기\n",
        "df = pd.read_csv('bigdata/insurance.csv')\n",
        "df.shape"
      ],
      "metadata": {
        "id": "OZigg4mAE4Xn",
        "colab": {
          "base_uri": "https://localhost:8080/"
        },
        "outputId": "105d8e40-4469-4d69-cc34-a685ca9f128b"
      },
      "execution_count": null,
      "outputs": [
        {
          "output_type": "execute_result",
          "data": {
            "text/plain": [
              "(1338, 7)"
            ]
          },
          "metadata": {},
          "execution_count": 3
        }
      ]
    },
    {
      "cell_type": "code",
      "source": [
        "# [2] head를 사용해 데이터의 모습 확인  (Y => charges)\n",
        "df.head(2)"
      ],
      "metadata": {
        "colab": {
          "base_uri": "https://localhost:8080/",
          "height": 112
        },
        "id": "MSgOy8Bty8Mb",
        "outputId": "fcf518a5-8d04-481f-8ddd-024f8b486626"
      },
      "execution_count": null,
      "outputs": [
        {
          "output_type": "execute_result",
          "data": {
            "text/html": [
              "\n",
              "  <div id=\"df-ea390b4d-33f4-4923-8cec-47ce6b4c0a77\">\n",
              "    <div class=\"colab-df-container\">\n",
              "      <div>\n",
              "<style scoped>\n",
              "    .dataframe tbody tr th:only-of-type {\n",
              "        vertical-align: middle;\n",
              "    }\n",
              "\n",
              "    .dataframe tbody tr th {\n",
              "        vertical-align: top;\n",
              "    }\n",
              "\n",
              "    .dataframe thead th {\n",
              "        text-align: right;\n",
              "    }\n",
              "</style>\n",
              "<table border=\"1\" class=\"dataframe\">\n",
              "  <thead>\n",
              "    <tr style=\"text-align: right;\">\n",
              "      <th></th>\n",
              "      <th>age</th>\n",
              "      <th>sex</th>\n",
              "      <th>bmi</th>\n",
              "      <th>children</th>\n",
              "      <th>smoker</th>\n",
              "      <th>region</th>\n",
              "      <th>charges</th>\n",
              "    </tr>\n",
              "  </thead>\n",
              "  <tbody>\n",
              "    <tr>\n",
              "      <th>0</th>\n",
              "      <td>19</td>\n",
              "      <td>female</td>\n",
              "      <td>27.9000</td>\n",
              "      <td>0</td>\n",
              "      <td>yes</td>\n",
              "      <td>southwest</td>\n",
              "      <td>16884.9240</td>\n",
              "    </tr>\n",
              "    <tr>\n",
              "      <th>1</th>\n",
              "      <td>18</td>\n",
              "      <td>male</td>\n",
              "      <td>33.7700</td>\n",
              "      <td>1</td>\n",
              "      <td>no</td>\n",
              "      <td>southeast</td>\n",
              "      <td>1725.5523</td>\n",
              "    </tr>\n",
              "  </tbody>\n",
              "</table>\n",
              "</div>\n",
              "      <button class=\"colab-df-convert\" onclick=\"convertToInteractive('df-ea390b4d-33f4-4923-8cec-47ce6b4c0a77')\"\n",
              "              title=\"Convert this dataframe to an interactive table.\"\n",
              "              style=\"display:none;\">\n",
              "        \n",
              "  <svg xmlns=\"http://www.w3.org/2000/svg\" height=\"24px\"viewBox=\"0 0 24 24\"\n",
              "       width=\"24px\">\n",
              "    <path d=\"M0 0h24v24H0V0z\" fill=\"none\"/>\n",
              "    <path d=\"M18.56 5.44l.94 2.06.94-2.06 2.06-.94-2.06-.94-.94-2.06-.94 2.06-2.06.94zm-11 1L8.5 8.5l.94-2.06 2.06-.94-2.06-.94L8.5 2.5l-.94 2.06-2.06.94zm10 10l.94 2.06.94-2.06 2.06-.94-2.06-.94-.94-2.06-.94 2.06-2.06.94z\"/><path d=\"M17.41 7.96l-1.37-1.37c-.4-.4-.92-.59-1.43-.59-.52 0-1.04.2-1.43.59L10.3 9.45l-7.72 7.72c-.78.78-.78 2.05 0 2.83L4 21.41c.39.39.9.59 1.41.59.51 0 1.02-.2 1.41-.59l7.78-7.78 2.81-2.81c.8-.78.8-2.07 0-2.86zM5.41 20L4 18.59l7.72-7.72 1.47 1.35L5.41 20z\"/>\n",
              "  </svg>\n",
              "      </button>\n",
              "      \n",
              "  <style>\n",
              "    .colab-df-container {\n",
              "      display:flex;\n",
              "      flex-wrap:wrap;\n",
              "      gap: 12px;\n",
              "    }\n",
              "\n",
              "    .colab-df-convert {\n",
              "      background-color: #E8F0FE;\n",
              "      border: none;\n",
              "      border-radius: 50%;\n",
              "      cursor: pointer;\n",
              "      display: none;\n",
              "      fill: #1967D2;\n",
              "      height: 32px;\n",
              "      padding: 0 0 0 0;\n",
              "      width: 32px;\n",
              "    }\n",
              "\n",
              "    .colab-df-convert:hover {\n",
              "      background-color: #E2EBFA;\n",
              "      box-shadow: 0px 1px 2px rgba(60, 64, 67, 0.3), 0px 1px 3px 1px rgba(60, 64, 67, 0.15);\n",
              "      fill: #174EA6;\n",
              "    }\n",
              "\n",
              "    [theme=dark] .colab-df-convert {\n",
              "      background-color: #3B4455;\n",
              "      fill: #D2E3FC;\n",
              "    }\n",
              "\n",
              "    [theme=dark] .colab-df-convert:hover {\n",
              "      background-color: #434B5C;\n",
              "      box-shadow: 0px 1px 3px 1px rgba(0, 0, 0, 0.15);\n",
              "      filter: drop-shadow(0px 1px 2px rgba(0, 0, 0, 0.3));\n",
              "      fill: #FFFFFF;\n",
              "    }\n",
              "  </style>\n",
              "\n",
              "      <script>\n",
              "        const buttonEl =\n",
              "          document.querySelector('#df-ea390b4d-33f4-4923-8cec-47ce6b4c0a77 button.colab-df-convert');\n",
              "        buttonEl.style.display =\n",
              "          google.colab.kernel.accessAllowed ? 'block' : 'none';\n",
              "\n",
              "        async function convertToInteractive(key) {\n",
              "          const element = document.querySelector('#df-ea390b4d-33f4-4923-8cec-47ce6b4c0a77');\n",
              "          const dataTable =\n",
              "            await google.colab.kernel.invokeFunction('convertToInteractive',\n",
              "                                                     [key], {});\n",
              "          if (!dataTable) return;\n",
              "\n",
              "          const docLinkHtml = 'Like what you see? Visit the ' +\n",
              "            '<a target=\"_blank\" href=https://colab.research.google.com/notebooks/data_table.ipynb>data table notebook</a>'\n",
              "            + ' to learn more about interactive tables.';\n",
              "          element.innerHTML = '';\n",
              "          dataTable['output_type'] = 'display_data';\n",
              "          await google.colab.output.renderOutput(dataTable, element);\n",
              "          const docLink = document.createElement('div');\n",
              "          docLink.innerHTML = docLinkHtml;\n",
              "          element.appendChild(docLink);\n",
              "        }\n",
              "      </script>\n",
              "    </div>\n",
              "  </div>\n",
              "  "
            ],
            "text/plain": [
              "   age     sex     bmi  children smoker     region    charges\n",
              "0   19  female 27.9000         0    yes  southwest 16884.9240\n",
              "1   18    male 33.7700         1     no  southeast  1725.5523"
            ]
          },
          "metadata": {},
          "execution_count": 4
        }
      ]
    },
    {
      "cell_type": "code",
      "source": [
        "# [3] 시험 형식으로 train, test 데이터로 나누어 저장합니다.  (6:4 비율)\n",
        "\n",
        "train_size = len(df) - int(len(df)*0.4)\n",
        "\n",
        "# 여러 가지 데이터가 고루 섞이도록 해야 함\n",
        "df = df.sample(frac=1, random_state=1234)\n",
        "df.insert(0, 'ID', range(1, len(df)+1))\n",
        "\n",
        "train = df.iloc[:train_size, ]\n",
        "test = df.iloc[train_size:, ]\n",
        "print(train.shape, test.shape)\n",
        "ycolumn = 'charges'\n",
        "X_train = train.drop(columns=ycolumn)\n",
        "Y_train = train[['ID', ycolumn]]\n",
        "X_test = test.drop(columns=ycolumn)\n",
        "Y_test = test[['ID', ycolumn]]\n",
        "X_train.to_csv('x_train.csv', index=False)\n",
        "Y_train.to_csv('y_train.csv', index=False)\n",
        "X_test.to_csv('x_test.csv', index=False)\n",
        "Y_test.to_csv('y_test.csv', index=False)"
      ],
      "metadata": {
        "colab": {
          "base_uri": "https://localhost:8080/"
        },
        "id": "df5d4o8dzwqi",
        "outputId": "9714b6f6-0292-4057-d012-d3f22066f863"
      },
      "execution_count": null,
      "outputs": [
        {
          "output_type": "stream",
          "name": "stdout",
          "text": [
            "(803, 8) (535, 8)\n"
          ]
        }
      ]
    },
    {
      "cell_type": "markdown",
      "source": [
        "### 5-2. 데이터 불러오기, 전처리"
      ],
      "metadata": {
        "id": "B6XGaNVd0mPO"
      }
    },
    {
      "cell_type": "code",
      "source": [
        "# [1] 데이터 파일 불러오기\n",
        "X_use = pd.read_csv('x_train.csv')\n",
        "X_submission = pd.read_csv('x_test.csv')\n",
        "Y = pd.read_csv('y_train.csv')\n",
        "Y_hidden = pd.read_csv('y_test.csv')"
      ],
      "metadata": {
        "id": "O_uIi12d0llv"
      },
      "execution_count": null,
      "outputs": []
    },
    {
      "cell_type": "code",
      "source": [
        "# [2] dfX 만들기, dfX의 info() 확인\n",
        "# use, submission 데이터를 묶어 전처리 하기 위함\n"
      ],
      "metadata": {
        "id": "OjSLnWUf0td7"
      },
      "execution_count": null,
      "outputs": []
    },
    {
      "cell_type": "code",
      "source": [
        "# [3] 컬럼별 고윳값 데이터 수 개수 확인\n"
      ],
      "metadata": {
        "id": "CRjL1k-HFDOw"
      },
      "execution_count": null,
      "outputs": []
    },
    {
      "cell_type": "code",
      "source": [
        "# [4] object 컬럼들에 대해서 Encoding 실행 - 필수\n"
      ],
      "metadata": {
        "id": "Q562isfuFZio"
      },
      "execution_count": null,
      "outputs": []
    },
    {
      "cell_type": "code",
      "source": [
        "# [5] dfX와 Y를 합하여 dfXY 생성\n"
      ],
      "metadata": {
        "id": "xPfXImWG5AKu"
      },
      "execution_count": null,
      "outputs": []
    },
    {
      "cell_type": "code",
      "source": [
        "# [6] 'charges'와 다른 컬럼의 상관계수를 확인합니다.   (dfXY의 모든 것 확인해도 좋음)\n"
      ],
      "metadata": {
        "id": "jc-k30TA49ce"
      },
      "execution_count": null,
      "outputs": []
    },
    {
      "cell_type": "markdown",
      "source": [
        "### 5-3. 성능평가, 모델링 함수\n",
        "- 4-3의 것 그대로 사용"
      ],
      "metadata": {
        "id": "36fJ58Dx8xD9"
      }
    },
    {
      "cell_type": "code",
      "source": [
        "#  4-3 에서 [16] [17] [18] 실행"
      ],
      "metadata": {
        "id": "NHnvQIBS89Is"
      },
      "execution_count": null,
      "outputs": []
    },
    {
      "cell_type": "markdown",
      "source": [
        "### 5-4. 데이터 분리, 모델적용"
      ],
      "metadata": {
        "id": "Pz-fldKF9ECT"
      }
    },
    {
      "cell_type": "code",
      "source": [
        "# [7] X의 최종 전처리 버전인 dfX의 컬럼 확인\n"
      ],
      "metadata": {
        "id": "FxVTHKBOdy4a"
      },
      "execution_count": null,
      "outputs": []
    },
    {
      "cell_type": "code",
      "source": [
        "# [8] dfX 에서 사용할 feature 선택하여 dfX2로 저장\n"
      ],
      "metadata": {
        "id": "1Xq6-b2B-8IU"
      },
      "execution_count": null,
      "outputs": []
    },
    {
      "cell_type": "code",
      "source": [
        "# [9] dfX2 데이터를 XF, X_submissionF 로 다시 분리\n",
        "# dfX2 분리에서는 X_use의 행의 개수 사용\n",
        "# Y에서 'charges' 만 YF로 사용\n"
      ],
      "metadata": {
        "id": "Li5KrBU498P0"
      },
      "execution_count": null,
      "outputs": []
    },
    {
      "cell_type": "code",
      "source": [
        "# [10] XF, YF 데이터를 사용하여 데이터를 분리하고 make_models를 호출합니다.\n"
      ],
      "metadata": {
        "id": "c1gvANHpIPu2"
      },
      "execution_count": null,
      "outputs": []
    },
    {
      "cell_type": "code",
      "source": [
        "# [11] models를 평가기준으로 정렬하여 좋은 모델을 알아봄\n"
      ],
      "metadata": {
        "id": "Mb8OBWZt8ukE"
      },
      "execution_count": null,
      "outputs": []
    },
    {
      "cell_type": "markdown",
      "source": [
        "### 5-5. 모델 선택, 결과 제출"
      ],
      "metadata": {
        "id": "il7gFLPhYvXx"
      }
    },
    {
      "cell_type": "code",
      "source": [
        "# [12] 모델 학습시켜 model 로 저장, submission 만들기, 저장하기\n"
      ],
      "metadata": {
        "id": "Ka2onMnCYvX3"
      },
      "execution_count": null,
      "outputs": []
    },
    {
      "cell_type": "code",
      "source": [
        "# [13] Y_submissionF 를 사용하여 성능을 알아봄 (필수 아님)\n"
      ],
      "metadata": {
        "id": "H2b8_mZN0Qqq"
      },
      "execution_count": null,
      "outputs": []
    },
    {
      "cell_type": "code",
      "source": [],
      "metadata": {
        "id": "JyiClMfRSNdY"
      },
      "execution_count": null,
      "outputs": []
    },
    {
      "cell_type": "markdown",
      "source": [
        "### 5-6.시험보러 가서는 이렇게"
      ],
      "metadata": {
        "id": "OBaYfU2XISg8"
      }
    },
    {
      "cell_type": "code",
      "source": [
        "# 직접 작업해 보세요!\n",
        "\n",
        "\n"
      ],
      "metadata": {
        "id": "IccYG_rACnMe"
      },
      "execution_count": null,
      "outputs": []
    }
  ]
}